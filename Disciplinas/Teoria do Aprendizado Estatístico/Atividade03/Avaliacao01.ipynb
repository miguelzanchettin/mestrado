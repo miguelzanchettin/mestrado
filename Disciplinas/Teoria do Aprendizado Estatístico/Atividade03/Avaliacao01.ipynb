{
 "cells": [
  {
   "cell_type": "code",
   "execution_count": 13,
   "metadata": {},
   "outputs": [
    {
     "data": {
      "text/html": [
       "<pre style=\"white-space:pre;overflow-x:auto;line-height:normal;font-family:Menlo,'DejaVu Sans Mono',consolas,'Courier New',monospace\"><span style=\"font-weight: bold\">{</span><span style=\"color: #008000; text-decoration-color: #008000\">'Recall Micro'</span>: <span style=\"color: #008080; text-decoration-color: #008080; font-weight: bold\">0.99023</span>, <span style=\"color: #008000; text-decoration-color: #008000\">'Recall Macro'</span>: <span style=\"color: #008080; text-decoration-color: #008080; font-weight: bold\">0.98358</span>, <span style=\"color: #008000; text-decoration-color: #008000\">'F-Beta Micro'</span>: <span style=\"color: #008080; text-decoration-color: #008080; font-weight: bold\">0.99023</span>, <span style=\"color: #008000; text-decoration-color: #008000\">'F-Beta Macro'</span>: <span style=\"color: #008080; text-decoration-color: #008080; font-weight: bold\">0.98508</span><span style=\"font-weight: bold\">}</span>\n",
       "</pre>\n"
      ],
      "text/plain": [
       "\u001b[1m{\u001b[0m\u001b[32m'Recall Micro'\u001b[0m: \u001b[1;36m0.99023\u001b[0m, \u001b[32m'Recall Macro'\u001b[0m: \u001b[1;36m0.98358\u001b[0m, \u001b[32m'F-Beta Micro'\u001b[0m: \u001b[1;36m0.99023\u001b[0m, \u001b[32m'F-Beta Macro'\u001b[0m: \u001b[1;36m0.98508\u001b[0m\u001b[1m}\u001b[0m\n"
      ]
     },
     "metadata": {},
     "output_type": "display_data"
    }
   ],
   "source": [
    "\n",
    "import numpy as np\n",
    "import pandas as pd\n",
    "\n",
    "from sklearn.metrics import recall_score\n",
    "from sklearn.metrics import fbeta_score\n",
    "\n",
    "from sklearn.model_selection import train_test_split\n",
    "from sklearn.neighbors import KNeighborsClassifier\n",
    "\n",
    "from rich import print as pprint\n",
    "\n",
    "#----------------------------------------------------------\n",
    "# Data Handling\n",
    "#\n",
    "\n",
    "# Extract\n",
    "url = ('https://raw.githubusercontent.com/'\n",
    "       'andersonara/datasets/master/'\n",
    "       'wall-robot-navigation.csv')\n",
    "\n",
    "df = pd.read_csv(url, delimiter=';')\n",
    "\n",
    "# Transform data into numpy matrices\n",
    "X = df[['X1', 'X2']].to_numpy()\n",
    "y = np.ravel(df[['Y']])\n",
    "\n",
    "# Data split\n",
    "X_train, X_test, \\\n",
    "y_train, y_test = train_test_split(X, y, \n",
    "                                   train_size=0.7, \n",
    "                                   shuffle=True,\n",
    "                                   random_state=2002)\n",
    "\n",
    "#----------------------------------------------------------\n",
    "# Model evaluation\n",
    "#\n",
    "\n",
    "def get_best_knn_by_metric(metric, \n",
    "                           maxiter: int = 10, \n",
    "                           **kwargs):\n",
    "\n",
    "    def train_knn(k):\n",
    "        model = KNeighborsClassifier(n_neighbors=k)\n",
    "        model.fit(X_train, y_train)\n",
    "\n",
    "        y_pred = model.predict(X_test)\n",
    "\n",
    "        error = metric(y_test, y_pred, **kwargs)\n",
    "\n",
    "        return (model, round(error, 5))\n",
    "\n",
    "    def k_fit(maxiter):\n",
    "        metrics = {}\n",
    "\n",
    "        for k in range(1, maxiter + 1):\n",
    "            _, metrics[k] = train_knn(k)\n",
    "\n",
    "        best_k = max(metrics, key=metrics.get)\n",
    "\n",
    "        return best_k\n",
    "\n",
    "    def get_result(metric, maxiter):\n",
    "        r = {}\n",
    "        r['k'] = k_fit(maxiter)\n",
    "        r['model'], r['metric_value'] = train_knn(r['k'])\n",
    "        r['metric'] = metric\n",
    "        \n",
    "        return r\n",
    "\n",
    "    return get_result(metric, maxiter)\n",
    "\n",
    "metricas = {\n",
    "    'Recall Micro': dict(metric=recall_score, average='micro'), \n",
    "    'Recall Macro': dict(metric=recall_score, average='macro'), \n",
    "    'F-Beta Micro': dict(metric=fbeta_score, average='micro', beta=2), \n",
    "    'F-Beta Macro': dict(metric=fbeta_score, average='macro', beta=2)\n",
    "}\n",
    "\n",
    "resultados = {}\n",
    "for nome, p in metricas.items():\n",
    "    resultados[nome] = get_best_knn_by_metric(**p)['metric_value']\n",
    "\n",
    "#----------------------------------------------------------\n",
    "# Show results\n",
    "#\n",
    "\n",
    "pprint(resultados)\n",
    "        "
   ]
  }
 ],
 "metadata": {
  "kernelspec": {
   "display_name": "mestrado",
   "language": "python",
   "name": "python3"
  },
  "language_info": {
   "codemirror_mode": {
    "name": "ipython",
    "version": 3
   },
   "file_extension": ".py",
   "mimetype": "text/x-python",
   "name": "python",
   "nbconvert_exporter": "python",
   "pygments_lexer": "ipython3",
   "version": "3.12.2"
  }
 },
 "nbformat": 4,
 "nbformat_minor": 2
}
