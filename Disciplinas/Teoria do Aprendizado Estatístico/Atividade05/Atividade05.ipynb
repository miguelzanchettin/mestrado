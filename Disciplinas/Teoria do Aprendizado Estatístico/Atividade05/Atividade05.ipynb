{
 "cells": [
  {
   "cell_type": "markdown",
   "metadata": {},
   "source": [
    "# Requirements for execution"
   ]
  },
  {
   "cell_type": "code",
   "execution_count": 1,
   "metadata": {},
   "outputs": [
    {
     "name": "stdout",
     "output_type": "stream",
     "text": [
      "The following were executed using:\n",
      "Python 3.12.2\n"
     ]
    }
   ],
   "source": [
    "print('The following were executed using:')\n",
    "!python -V"
   ]
  },
  {
   "cell_type": "code",
   "execution_count": 2,
   "metadata": {},
   "outputs": [
    {
     "name": "stdout",
     "output_type": "stream",
     "text": [
      "Note: you may need to restart the kernel to use updated packages.\n",
      "Note: you may need to restart the kernel to use updated packages.\n",
      "Note: you may need to restart the kernel to use updated packages.\n",
      "Note: you may need to restart the kernel to use updated packages.\n",
      "Note: you may need to restart the kernel to use updated packages.\n"
     ]
    }
   ],
   "source": [
    "# Required installs\n",
    "%pip install p_tqdm --quiet\n",
    "%pip install keras==3.3.3 --quiet\n",
    "%pip install tensorflow==2.16.1 --quiet\n",
    "%pip install tqdm==4.66.4 --quiet\n",
    "%pip install ucimlrepo --quiet"
   ]
  },
  {
   "cell_type": "code",
   "execution_count": 3,
   "metadata": {},
   "outputs": [
    {
     "name": "stderr",
     "output_type": "stream",
     "text": [
      "2024-06-02 10:15:16.883856: I external/local_tsl/tsl/cuda/cudart_stub.cc:32] Could not find cuda drivers on your machine, GPU will not be used.\n",
      "2024-06-02 10:15:16.890963: I external/local_tsl/tsl/cuda/cudart_stub.cc:32] Could not find cuda drivers on your machine, GPU will not be used.\n",
      "2024-06-02 10:15:16.939190: I tensorflow/core/platform/cpu_feature_guard.cc:210] This TensorFlow binary is optimized to use available CPU instructions in performance-critical operations.\n",
      "To enable the following instructions: AVX2 FMA, in other operations, rebuild TensorFlow with the appropriate compiler flags.\n",
      "2024-06-02 10:15:18.058241: W tensorflow/compiler/tf2tensorrt/utils/py_utils.cc:38] TF-TRT Warning: Could not find TensorRT\n"
     ]
    }
   ],
   "source": [
    "# Required libraries\n",
    "import numpy as np\n",
    "import pandas as pd\n",
    "\n",
    "import keras\n",
    "import tensorflow as tf\n",
    "import matplotlib.pyplot as plt\n",
    "\n",
    "from sklearn import svm\n",
    "from sklearn.preprocessing import StandardScaler\n",
    "from sklearn.model_selection import train_test_split\n",
    "from sklearn.metrics import accuracy_score\n",
    "from sklearn.metrics import f1_score\n",
    "from sklearn.metrics import matthews_corrcoef\n",
    "from sklearn.metrics import confusion_matrix\n",
    "\n",
    "from itertools import combinations_with_replacement\n",
    "from tqdm import tqdm\n",
    "\n",
    "from ucimlrepo import fetch_ucirepo \n"
   ]
  },
  {
   "cell_type": "markdown",
   "metadata": {},
   "source": [
    "# Get UC Irvine dataset\n",
    "\n",
    "According to code provided by them in their website."
   ]
  },
  {
   "cell_type": "code",
   "execution_count": 4,
   "metadata": {},
   "outputs": [
    {
     "name": "stdout",
     "output_type": "stream",
     "text": [
      "{'uci_id': 545, 'name': 'Rice (Cammeo and Osmancik)', 'repository_url': 'https://archive.ics.uci.edu/dataset/545/rice+cammeo+and+osmancik', 'data_url': 'https://archive.ics.uci.edu/static/public/545/data.csv', 'abstract': \"A total of 3810 rice grain's images were taken for the two species, processed and feature inferences were made. 7 morphological features were obtained for each grain of rice.\", 'area': 'Biology', 'tasks': ['Classification'], 'characteristics': ['Multivariate'], 'num_instances': 3810, 'num_features': 7, 'feature_types': ['Real'], 'demographics': [], 'target_col': ['Class'], 'index_col': None, 'has_missing_values': 'no', 'missing_values_symbol': None, 'year_of_dataset_creation': 2019, 'last_updated': 'Fri Nov 03 2023', 'dataset_doi': '10.24432/C5MW4Z', 'creators': [], 'intro_paper': {'title': 'Classification of Rice Varieties Using Artificial Intelligence Methods', 'authors': 'Ilkay Cinar, M. Koklu', 'published_in': 'International Journal of Intelligent Systems and Applications in Engineering', 'year': 2019, 'url': 'https://www.semanticscholar.org/paper/4e508bb906c8fdc04ead6f20bd8918fcb3605d1c', 'doi': '10.18201/ijisae.2019355381'}, 'additional_info': {'summary': \"Among  the certified rice grown in TURKEY,  the  Osmancik species, which has a large planting area since 1997 and the Cammeo species grown since 2014 have been selected for the study.  When  looking  at  the  general  characteristics  of  Osmancik species, they have a wide, long, glassy and dull appearance.  When looking at the general characteristics of the Cammeo species, they have wide and long, glassy and dull in appearance.  A total of 3810 rice grain's images were taken for the two species, processed and feature inferences were made. 7 morphological features were obtained for each grain of rice. \", 'purpose': None, 'funded_by': None, 'instances_represent': None, 'recommended_data_splits': None, 'sensitive_data': None, 'preprocessing_description': None, 'variable_info': '1.) Area: Returns  the  number  of  pixels  within  the boundaries of the rice grain.\\r\\n2.) Perimeter: Calculates the circumference by calculating  the  distance  between  pixels around the boundaries of the rice grain.\\r\\n3.) Major Axis Length: The longest line that can be drawn on the rice  grain,  i.e.  the  main  axis  distance, gives.\\r\\n4.) Minor Axis Length: The shortest line that can be drawn on the rice  grain,  i.e.  the  small  axis  distance, gives.\\r\\n5.) Eccentricity: It measures how round the ellipse, which has  the  same  moments  as  the  rice  grain, is.\\r\\n6.) Convex Area: Returns  the  pixel  count  of  the  smallest convex shell of the region formed by the rice grain.\\r\\n7.) Extent: Returns the ratio of the regionformed by the rice grain to the bounding box pixels.\\r\\n8.) Class: Cammeo and Osmancik rices', 'citation': None}}\n",
      "                name     role        type demographic  \\\n",
      "0               Area  Feature     Integer        None   \n",
      "1          Perimeter  Feature  Continuous        None   \n",
      "2  Major_Axis_Length  Feature  Continuous        None   \n",
      "3  Minor_Axis_Length  Feature  Continuous        None   \n",
      "4       Eccentricity  Feature  Continuous        None   \n",
      "5        Convex_Area  Feature     Integer        None   \n",
      "6             Extent  Feature  Continuous        None   \n",
      "7              Class   Target      Binary        None   \n",
      "\n",
      "                                         description units missing_values  \n",
      "0  Returns the number of pixels within the bounda...    px             no  \n",
      "1  Calculates the circumference by calculating th...    px             no  \n",
      "2  The longest line that can be drawn on the rice...  None             no  \n",
      "3  The shortest line that can be drawn on the ric...  None             no  \n",
      "4  It measures how round the ellipse, which has t...  None             no  \n",
      "5  Returns the pixel count of the smallest convex...  None             no  \n",
      "6  Returns the ratio of the region formed by the ...  None             no  \n",
      "7                                Cammeo and Osmancik  None             no  \n"
     ]
    }
   ],
   "source": [
    "  \n",
    "# fetch dataset \n",
    "rice_cammeo_and_osmancik = fetch_ucirepo(id=545) \n",
    "  \n",
    "# data (as pandas dataframes) \n",
    "X = rice_cammeo_and_osmancik.data.features \n",
    "y = rice_cammeo_and_osmancik.data.targets \n",
    "  \n",
    "# metadata \n",
    "print(rice_cammeo_and_osmancik.metadata) \n",
    "  \n",
    "# variable information \n",
    "print(rice_cammeo_and_osmancik.variables) \n"
   ]
  },
  {
   "cell_type": "markdown",
   "metadata": {},
   "source": [
    "# Exploratory Data Analysis\n"
   ]
  },
  {
   "cell_type": "code",
   "execution_count": 5,
   "metadata": {},
   "outputs": [
    {
     "name": "stdout",
     "output_type": "stream",
     "text": [
      ">>> Data shape:\n",
      "X.shape=(3810, 7)\n",
      "\n",
      ">>> Columns summary:\n",
      "<class 'pandas.core.frame.DataFrame'>\n",
      "RangeIndex: 3810 entries, 0 to 3809\n",
      "Data columns (total 7 columns):\n",
      " #   Column             Non-Null Count  Dtype  \n",
      "---  ------             --------------  -----  \n",
      " 0   Area               3810 non-null   int64  \n",
      " 1   Perimeter          3810 non-null   float64\n",
      " 2   Major_Axis_Length  3810 non-null   float64\n",
      " 3   Minor_Axis_Length  3810 non-null   float64\n",
      " 4   Eccentricity       3810 non-null   float64\n",
      " 5   Convex_Area        3810 non-null   int64  \n",
      " 6   Extent             3810 non-null   float64\n",
      "dtypes: float64(5), int64(2)\n",
      "memory usage: 208.5 KB\n",
      "None\n",
      "\n",
      ">>> First 5 obs: \n",
      "    Area   Perimeter  Major_Axis_Length  Minor_Axis_Length  Eccentricity  \\\n",
      "0  15231  525.578979         229.749878          85.093788      0.928882   \n",
      "1  14656  494.311005         206.020065          91.730972      0.895405   \n",
      "2  14634  501.122009         214.106781          87.768288      0.912118   \n",
      "3  13176  458.342987         193.337387          87.448395      0.891861   \n",
      "4  14688  507.166992         211.743378          89.312454      0.906691   \n",
      "\n",
      "   Convex_Area    Extent  \n",
      "0        15617  0.572896  \n",
      "1        15072  0.615436  \n",
      "2        14954  0.693259  \n",
      "3        13368  0.640669  \n",
      "4        15262  0.646024  \n",
      "\n"
     ]
    }
   ],
   "source": [
    "# Show shape\n",
    "print('>>> Data shape:')\n",
    "print(f'{X.shape=}')\n",
    "print()\n",
    "\n",
    "# Summary of columns\n",
    "print('>>> Columns summary:')\n",
    "print(X.info())\n",
    "print()\n",
    "\n",
    "# First 5 obs\n",
    "print('>>> First 5 obs: ')\n",
    "print(X.head(5))\n",
    "print()"
   ]
  },
  {
   "cell_type": "code",
   "execution_count": 6,
   "metadata": {},
   "outputs": [
    {
     "data": {
      "text/html": [
       "<div>\n",
       "<style scoped>\n",
       "    .dataframe tbody tr th:only-of-type {\n",
       "        vertical-align: middle;\n",
       "    }\n",
       "\n",
       "    .dataframe tbody tr th {\n",
       "        vertical-align: top;\n",
       "    }\n",
       "\n",
       "    .dataframe thead th {\n",
       "        text-align: right;\n",
       "    }\n",
       "</style>\n",
       "<table border=\"1\" class=\"dataframe\">\n",
       "  <thead>\n",
       "    <tr style=\"text-align: right;\">\n",
       "      <th></th>\n",
       "      <th>Area</th>\n",
       "      <th>Perimeter</th>\n",
       "      <th>Major_Axis_Length</th>\n",
       "      <th>Minor_Axis_Length</th>\n",
       "      <th>Eccentricity</th>\n",
       "      <th>Convex_Area</th>\n",
       "      <th>Extent</th>\n",
       "    </tr>\n",
       "  </thead>\n",
       "  <tbody>\n",
       "    <tr>\n",
       "      <th>count</th>\n",
       "      <td>3810.000000</td>\n",
       "      <td>3810.000000</td>\n",
       "      <td>3810.000000</td>\n",
       "      <td>3810.000000</td>\n",
       "      <td>3810.000000</td>\n",
       "      <td>3810.000000</td>\n",
       "      <td>3810.000000</td>\n",
       "    </tr>\n",
       "    <tr>\n",
       "      <th>mean</th>\n",
       "      <td>12667.727559</td>\n",
       "      <td>454.239180</td>\n",
       "      <td>188.776222</td>\n",
       "      <td>86.313750</td>\n",
       "      <td>0.886871</td>\n",
       "      <td>12952.496850</td>\n",
       "      <td>0.661934</td>\n",
       "    </tr>\n",
       "    <tr>\n",
       "      <th>std</th>\n",
       "      <td>1732.367706</td>\n",
       "      <td>35.597081</td>\n",
       "      <td>17.448679</td>\n",
       "      <td>5.729817</td>\n",
       "      <td>0.020818</td>\n",
       "      <td>1776.972042</td>\n",
       "      <td>0.077239</td>\n",
       "    </tr>\n",
       "    <tr>\n",
       "      <th>min</th>\n",
       "      <td>7551.000000</td>\n",
       "      <td>359.100006</td>\n",
       "      <td>145.264465</td>\n",
       "      <td>59.532406</td>\n",
       "      <td>0.777233</td>\n",
       "      <td>7723.000000</td>\n",
       "      <td>0.497413</td>\n",
       "    </tr>\n",
       "    <tr>\n",
       "      <th>25%</th>\n",
       "      <td>11370.500000</td>\n",
       "      <td>426.144752</td>\n",
       "      <td>174.353855</td>\n",
       "      <td>82.731695</td>\n",
       "      <td>0.872402</td>\n",
       "      <td>11626.250000</td>\n",
       "      <td>0.598862</td>\n",
       "    </tr>\n",
       "    <tr>\n",
       "      <th>50%</th>\n",
       "      <td>12421.500000</td>\n",
       "      <td>448.852493</td>\n",
       "      <td>185.810059</td>\n",
       "      <td>86.434647</td>\n",
       "      <td>0.889050</td>\n",
       "      <td>12706.500000</td>\n",
       "      <td>0.645361</td>\n",
       "    </tr>\n",
       "    <tr>\n",
       "      <th>75%</th>\n",
       "      <td>13950.000000</td>\n",
       "      <td>483.683746</td>\n",
       "      <td>203.550438</td>\n",
       "      <td>90.143677</td>\n",
       "      <td>0.902588</td>\n",
       "      <td>14284.000000</td>\n",
       "      <td>0.726562</td>\n",
       "    </tr>\n",
       "    <tr>\n",
       "      <th>max</th>\n",
       "      <td>18913.000000</td>\n",
       "      <td>548.445984</td>\n",
       "      <td>239.010498</td>\n",
       "      <td>107.542450</td>\n",
       "      <td>0.948007</td>\n",
       "      <td>19099.000000</td>\n",
       "      <td>0.861050</td>\n",
       "    </tr>\n",
       "  </tbody>\n",
       "</table>\n",
       "</div>"
      ],
      "text/plain": [
       "               Area    Perimeter  Major_Axis_Length  Minor_Axis_Length  \\\n",
       "count   3810.000000  3810.000000        3810.000000        3810.000000   \n",
       "mean   12667.727559   454.239180         188.776222          86.313750   \n",
       "std     1732.367706    35.597081          17.448679           5.729817   \n",
       "min     7551.000000   359.100006         145.264465          59.532406   \n",
       "25%    11370.500000   426.144752         174.353855          82.731695   \n",
       "50%    12421.500000   448.852493         185.810059          86.434647   \n",
       "75%    13950.000000   483.683746         203.550438          90.143677   \n",
       "max    18913.000000   548.445984         239.010498         107.542450   \n",
       "\n",
       "       Eccentricity   Convex_Area       Extent  \n",
       "count   3810.000000   3810.000000  3810.000000  \n",
       "mean       0.886871  12952.496850     0.661934  \n",
       "std        0.020818   1776.972042     0.077239  \n",
       "min        0.777233   7723.000000     0.497413  \n",
       "25%        0.872402  11626.250000     0.598862  \n",
       "50%        0.889050  12706.500000     0.645361  \n",
       "75%        0.902588  14284.000000     0.726562  \n",
       "max        0.948007  19099.000000     0.861050  "
      ]
     },
     "execution_count": 6,
     "metadata": {},
     "output_type": "execute_result"
    }
   ],
   "source": [
    "X.describe()"
   ]
  },
  {
   "cell_type": "markdown",
   "metadata": {},
   "source": [
    "Es necessario estandarizar los datos en X antes de aplicar el modelo"
   ]
  },
  {
   "cell_type": "code",
   "execution_count": 7,
   "metadata": {},
   "outputs": [
    {
     "name": "stdout",
     "output_type": "stream",
     "text": [
      ">>> Data shape:\n",
      "y.shape=(3810, 1)\n",
      "\n",
      ">>> Columns summary:\n",
      "<class 'pandas.core.frame.DataFrame'>\n",
      "RangeIndex: 3810 entries, 0 to 3809\n",
      "Data columns (total 1 columns):\n",
      " #   Column  Non-Null Count  Dtype \n",
      "---  ------  --------------  ----- \n",
      " 0   Class   3810 non-null   object\n",
      "dtypes: object(1)\n",
      "memory usage: 29.9+ KB\n",
      "None\n",
      "\n",
      ">>> First 5 obs: \n",
      "    Class\n",
      "0  Cammeo\n",
      "1  Cammeo\n",
      "2  Cammeo\n",
      "3  Cammeo\n",
      "4  Cammeo\n",
      "\n",
      ">>> Class summary\n",
      "           Class\n",
      "count       3810\n",
      "unique         2\n",
      "top     Osmancik\n",
      "freq        2180\n"
     ]
    }
   ],
   "source": [
    "# Show shape\n",
    "print('>>> Data shape:')\n",
    "print(f'{y.shape=}')\n",
    "print()\n",
    "\n",
    "# Summary of columns\n",
    "print('>>> Columns summary:')\n",
    "print(y.info())\n",
    "print()\n",
    "\n",
    "# First 5 obs\n",
    "print('>>> First 5 obs: ')\n",
    "print(y.head(5))\n",
    "print()\n",
    "\n",
    "print('>>> Class summary')\n",
    "print(y.describe())\n"
   ]
  },
  {
   "cell_type": "code",
   "execution_count": 8,
   "metadata": {},
   "outputs": [
    {
     "name": "stdout",
     "output_type": "stream",
     "text": [
      ">>> Unique values are ['Cammeo' 'Osmancik']\n"
     ]
    }
   ],
   "source": [
    "print(f'>>> Unique values are {y[\"Class\"].unique()}')"
   ]
  },
  {
   "cell_type": "markdown",
   "metadata": {},
   "source": [
    "As there's no missing data, we can get ahead without any trouble."
   ]
  },
  {
   "cell_type": "code",
   "execution_count": 9,
   "metadata": {},
   "outputs": [],
   "source": [
    "classes = pd.Categorical(y['Class']).codes"
   ]
  },
  {
   "cell_type": "markdown",
   "metadata": {},
   "source": [
    "# Split data into train and test"
   ]
  },
  {
   "cell_type": "code",
   "execution_count": 10,
   "metadata": {},
   "outputs": [
    {
     "name": "stdout",
     "output_type": "stream",
     "text": [
      "Train shape \n",
      "X_train.shape=(2857, 7) \n",
      "y_train.shape=(2857,)\n",
      "--\n",
      "Test shape \n",
      "X_test.shape=(953, 7) \n",
      "y_test.shape=(953,)\n"
     ]
    }
   ],
   "source": [
    "\n",
    "X_train, X_test, y_train, y_test = train_test_split(X, classes, \n",
    "                                                    test_size=0.25, \n",
    "                                                    shuffle=True, \n",
    "                                                    random_state=123\n",
    "                                                    )\n",
    "\n",
    "print(f'Train shape \\n{X_train.shape=} \\n{y_train.shape=}')\n",
    "print('--')\n",
    "print(f'Test shape \\n{X_test.shape=} \\n{y_test.shape=}')\n"
   ]
  },
  {
   "cell_type": "markdown",
   "metadata": {},
   "source": [
    "As the data has mutiple scale values, for SVM and Neural Nets is a common practice, for better results, to standardize data before getting it into the model.\n",
    "\n",
    "To do so, the class ```StandardScaler()``` is used.\n",
    "To grant data from test is never seen in training of the model, the scaler is trained only with train data. Then is applyed to test data."
   ]
  },
  {
   "cell_type": "code",
   "execution_count": 11,
   "metadata": {},
   "outputs": [
    {
     "name": "stdout",
     "output_type": "stream",
     "text": [
      "[[-0.91660231 -0.70038982 -0.78009928 ... -0.18046658 -0.94278033\n",
      "  -1.19791637]\n",
      " [ 0.7761571   0.60202578  0.32449068 ... -0.39002865  0.75924967\n",
      "  -0.91723326]\n",
      " [-2.40316645 -2.35794262 -1.87562184 ...  0.22850321 -2.41907095\n",
      "   1.30050268]\n",
      " ...\n",
      " [-0.02846518  0.11070705  0.04856738 ...  0.13923897  0.03542365\n",
      "   1.33764701]\n",
      " [-0.3129916  -0.35483651 -0.25995189 ...  0.0237331  -0.35316255\n",
      "  -0.51110961]\n",
      " [-0.78816224 -0.78212602 -1.0155616  ... -1.00670936 -0.74848723\n",
      "  -0.17087521]]\n"
     ]
    }
   ],
   "source": [
    "scaler = StandardScaler()\n",
    "X_train = scaler.fit_transform(X_train)\n",
    "print(X_train)\n",
    "\n",
    "# Apply scaling trained with train data to test data\n",
    "X_test = scaler.transform(X_test)"
   ]
  },
  {
   "cell_type": "markdown",
   "metadata": {},
   "source": [
    "Before getting dive into modelling, there's a necessity of checking the class balance of the data.\n",
    "\n",
    "Therefore, the following histogram is shown."
   ]
  },
  {
   "cell_type": "code",
   "execution_count": 12,
   "metadata": {},
   "outputs": [
    {
     "data": {
      "text/plain": [
       "array([[<Axes: title={'center': '0'}>]], dtype=object)"
      ]
     },
     "execution_count": 12,
     "metadata": {},
     "output_type": "execute_result"
    },
    {
     "data": {
      "image/png": "[encoded data removed]",
      "text/plain": [
       "<Figure size 640x480 with 1 Axes>"
      ]
     },
     "metadata": {},
     "output_type": "display_data"
    }
   ],
   "source": [
    "# Show class balance\n",
    "pd.DataFrame(y_train).hist()"
   ]
  },
  {
   "cell_type": "markdown",
   "metadata": {},
   "source": [
    "As it is 75% balanced, we will assume that this class imbalance won't affect the model results at all.\n",
    "\n",
    "If it affects, this can be a fact treated."
   ]
  },
  {
   "cell_type": "markdown",
   "metadata": {},
   "source": [
    "# Modelling\n",
    "\n",
    "The main objective of this notebook is to compare both Neural Networks (NN) and Supporting Vector Machines (SVM) performance against the previous dataset.\n",
    "\n",
    "Either for NNs or SVMs, there exists a necessity of tunning the parameters of the model. Thus the following steps will appear more complex to the reader than just applying the modelling.\n"
   ]
  },
  {
   "cell_type": "markdown",
   "metadata": {},
   "source": [
    "\n",
    "# Neural Network\n",
    "\n",
    "Even having multiple parameters to be considered in it's training, compiling or building, it is evident that the NN are fairly architecture sensitives.\n",
    "In that sense, the following code apply combinatory methods to get all possible layouts of NNs with 2, 10 and 50 nodes each, for layers going from 1 to 5.\n",
    "\n",
    "To make it clear, all of these parameters aren't set according to any specific criterion, but just random selection by the author as the computational resources aren't the bests for training many more possible combinations."
   ]
  },
  {
   "cell_type": "code",
   "execution_count": 13,
   "metadata": {},
   "outputs": [
    {
     "name": "stdout",
     "output_type": "stream",
     "text": [
      "Models to be trained: 55\n"
     ]
    }
   ],
   "source": [
    "\n",
    "# Permutation of all possible architectures of neural nets\n",
    "# Use 6 layers\n",
    "\n",
    "models = []\n",
    "possible_units = []\n",
    "\n",
    "possible_nodes = [2, 10, 50] #[2, 4, 8, 16]\n",
    "possible_layer_amounts = range(1, 6) # 1 to 5\n",
    "\n",
    "# Get all possible combinations\n",
    "for layer_amount in possible_layer_amounts:\n",
    "    units = list(combinations_with_replacement(possible_nodes, layer_amount))\n",
    "    possible_units.extend(units)\n",
    "\n",
    "# Remove duplicates\n",
    "possible_units = list(set(possible_units)) \n",
    "\n",
    "# Create a model for each combination\n",
    "for combination in possible_units:\n",
    "\n",
    "    # Make model\n",
    "    model = keras.models.Sequential()\n",
    "    \n",
    "    # Input later\n",
    "    model.add(keras.layers.Input((7, )))\n",
    "    \n",
    "    # Add all layers in the combination\n",
    "    for node in combination:\n",
    "        model.add(keras.layers.Dense(node, activation='sigmoid'))\n",
    "\n",
    "    # Exit layer\n",
    "    model.add(keras.layers.Dense(1, activation='relu'))\n",
    "\n",
    "    models.append(model)\n",
    "\n",
    "print(f'Models to be trained: {len(models)}')"
   ]
  },
  {
   "cell_type": "markdown",
   "metadata": {},
   "source": [
    "Combinations created, there is a need for measuring their performance.\n",
    "\n",
    "The following function compiles a possible model, train it against the training set and get it's Matthews Correlation Coefficient (MCC), that will be used as the criterion for model selection in this notebook.\n",
    "\n",
    "The utilized parameters were selected by the author according to some of the most common methods in the literature."
   ]
  },
  {
   "cell_type": "code",
   "execution_count": 14,
   "metadata": {},
   "outputs": [],
   "source": [
    "\n",
    "def get_test_mcc(model) -> float:\n",
    "\n",
    "    # Compile the model\n",
    "    compiling_parameters = {\n",
    "            'optimizer': keras.optimizers.RMSprop(0.01), \n",
    "            'loss': 'mse', \n",
    "            'metrics': ['binary_accuracy']\n",
    "        }\n",
    "\n",
    "    model.compile(**compiling_parameters)\n",
    "\n",
    "    # Train the model\n",
    "    history = model.fit(x=X_train, \n",
    "                        y=y_train, \n",
    "                        epochs=100,\n",
    "                        batch_size=32,\n",
    "                        verbose=False\n",
    "                        )\n",
    "    \n",
    "    # Predict test set\n",
    "    y_pred = model.predict(X_test, verbose=False)\n",
    "    \n",
    "    # Fix to 0-1 interval\n",
    "    y_pred = np.where(y_pred > 0.5, 1, 0)\n",
    "\n",
    "    # Calculate MCC\n",
    "    mcc = matthews_corrcoef(y_test, y_pred)\n",
    "\n",
    "    return mcc"
   ]
  },
  {
   "cell_type": "markdown",
   "metadata": {},
   "source": [
    "With evaluation function, the next chunk evaluates all of the possibilities and build a register of their MCC performance."
   ]
  },
  {
   "cell_type": "code",
   "execution_count": 15,
   "metadata": {},
   "outputs": [
    {
     "name": "stdout",
     "output_type": "stream",
     "text": [
      ">>> Checking all possible models\n"
     ]
    },
    {
     "name": "stderr",
     "output_type": "stream",
     "text": [
      "100%|██████████| 55/55 [12:37<00:00, 13.78s/it]"
     ]
    },
    {
     "name": "stdout",
     "output_type": "stream",
     "text": [
      "<Sequential name=sequential, built=True>\n",
      "<Sequential name=sequential_1, built=True>\n",
      "<Sequential name=sequential_2, built=True>\n",
      "<Sequential name=sequential_3, built=True>\n"
     ]
    },
    {
     "name": "stderr",
     "output_type": "stream",
     "text": [
      "\n"
     ]
    }
   ],
   "source": [
    "\n",
    "print('>>> Checking all possible models')\n",
    "model_performances = {}\n",
    "\n",
    "# Check accuracy for each model\n",
    "for model in tqdm(models):\n",
    "    model_performances[model] = get_test_mcc(model)\n",
    "\n",
    "# Show three examples of results\n",
    "for ind, model_performance in enumerate(model_performances):\n",
    "    if ind <= 3:\n",
    "        print(model_performance)"
   ]
  },
  {
   "cell_type": "markdown",
   "metadata": {},
   "source": [
    "With the measured performances, it is possible to check which ones are the best models."
   ]
  },
  {
   "cell_type": "code",
   "execution_count": 16,
   "metadata": {},
   "outputs": [
    {
     "name": "stdout",
     "output_type": "stream",
     "text": [
      ">>> Top 5 performances\n"
     ]
    },
    {
     "data": {
      "text/html": [
       "<div>\n",
       "<style scoped>\n",
       "    .dataframe tbody tr th:only-of-type {\n",
       "        vertical-align: middle;\n",
       "    }\n",
       "\n",
       "    .dataframe tbody tr th {\n",
       "        vertical-align: top;\n",
       "    }\n",
       "\n",
       "    .dataframe thead th {\n",
       "        text-align: right;\n",
       "    }\n",
       "</style>\n",
       "<table border=\"1\" class=\"dataframe\">\n",
       "  <thead>\n",
       "    <tr style=\"text-align: right;\">\n",
       "      <th></th>\n",
       "      <th>model</th>\n",
       "      <th>mcc</th>\n",
       "    </tr>\n",
       "  </thead>\n",
       "  <tbody>\n",
       "    <tr>\n",
       "      <th>33</th>\n",
       "      <td>&lt;Sequential name=sequential_33, built=True&gt;</td>\n",
       "      <td>0.858960</td>\n",
       "    </tr>\n",
       "    <tr>\n",
       "      <th>6</th>\n",
       "      <td>&lt;Sequential name=sequential_6, built=True&gt;</td>\n",
       "      <td>0.856552</td>\n",
       "    </tr>\n",
       "    <tr>\n",
       "      <th>45</th>\n",
       "      <td>&lt;Sequential name=sequential_45, built=True&gt;</td>\n",
       "      <td>0.855315</td>\n",
       "    </tr>\n",
       "    <tr>\n",
       "      <th>22</th>\n",
       "      <td>&lt;Sequential name=sequential_22, built=True&gt;</td>\n",
       "      <td>0.855087</td>\n",
       "    </tr>\n",
       "    <tr>\n",
       "      <th>41</th>\n",
       "      <td>&lt;Sequential name=sequential_41, built=True&gt;</td>\n",
       "      <td>0.854176</td>\n",
       "    </tr>\n",
       "  </tbody>\n",
       "</table>\n",
       "</div>"
      ],
      "text/plain": [
       "                                          model       mcc\n",
       "33  <Sequential name=sequential_33, built=True>  0.858960\n",
       "6    <Sequential name=sequential_6, built=True>  0.856552\n",
       "45  <Sequential name=sequential_45, built=True>  0.855315\n",
       "22  <Sequential name=sequential_22, built=True>  0.855087\n",
       "41  <Sequential name=sequential_41, built=True>  0.854176"
      ]
     },
     "execution_count": 16,
     "metadata": {},
     "output_type": "execute_result"
    }
   ],
   "source": [
    "# Convert model performances into a ordered DataFrame\n",
    "df_model_performances = pd.DataFrame.from_dict(model_performances, orient='index')\n",
    "df_model_performances.reset_index(drop=False, inplace=True)\n",
    "df_model_performances.columns = ['model', 'mcc'] \n",
    "df_model_performances.sort_values('mcc', inplace=True, ascending=False)\n",
    "\n",
    "print('>>> Top 5 performances')\n",
    "df_model_performances.head(5)\n"
   ]
  },
  {
   "cell_type": "markdown",
   "metadata": {},
   "source": [
    "With it, the best model is selected and shown below."
   ]
  },
  {
   "cell_type": "code",
   "execution_count": 17,
   "metadata": {},
   "outputs": [
    {
     "name": "stdout",
     "output_type": "stream",
     "text": [
      ">>> The best model structure found was:\n"
     ]
    },
    {
     "data": {
      "text/html": [
       "<pre style=\"white-space:pre;overflow-x:auto;line-height:normal;font-family:Menlo,'DejaVu Sans Mono',consolas,'Courier New',monospace\"><span style=\"font-weight: bold\">Model: \"sequential_33\"</span>\n",
       "</pre>\n"
      ],
      "text/plain": [
       "\u001b[1mModel: \"sequential_33\"\u001b[0m\n"
      ]
     },
     "metadata": {},
     "output_type": "display_data"
    },
    {
     "data": {
      "text/html": [
       "<pre style=\"white-space:pre;overflow-x:auto;line-height:normal;font-family:Menlo,'DejaVu Sans Mono',consolas,'Courier New',monospace\">┏━━━━━━━━━━━━━━━━━━━━━━━━━━━━━━━━━┳━━━━━━━━━━━━━━━━━━━━━━━━┳━━━━━━━━━━━━━━━┓\n",
       "┃<span style=\"font-weight: bold\"> Layer (type)                    </span>┃<span style=\"font-weight: bold\"> Output Shape           </span>┃<span style=\"font-weight: bold\">       Param # </span>┃\n",
       "┡━━━━━━━━━━━━━━━━━━━━━━━━━━━━━━━━━╇━━━━━━━━━━━━━━━━━━━━━━━━╇━━━━━━━━━━━━━━━┩\n",
       "│ dense_162 (<span style=\"color: #0087ff; text-decoration-color: #0087ff\">Dense</span>)               │ (<span style=\"color: #00d7ff; text-decoration-color: #00d7ff\">None</span>, <span style=\"color: #00af00; text-decoration-color: #00af00\">2</span>)              │            <span style=\"color: #00af00; text-decoration-color: #00af00\">16</span> │\n",
       "├─────────────────────────────────┼────────────────────────┼───────────────┤\n",
       "│ dense_163 (<span style=\"color: #0087ff; text-decoration-color: #0087ff\">Dense</span>)               │ (<span style=\"color: #00d7ff; text-decoration-color: #00d7ff\">None</span>, <span style=\"color: #00af00; text-decoration-color: #00af00\">10</span>)             │            <span style=\"color: #00af00; text-decoration-color: #00af00\">30</span> │\n",
       "├─────────────────────────────────┼────────────────────────┼───────────────┤\n",
       "│ dense_164 (<span style=\"color: #0087ff; text-decoration-color: #0087ff\">Dense</span>)               │ (<span style=\"color: #00d7ff; text-decoration-color: #00d7ff\">None</span>, <span style=\"color: #00af00; text-decoration-color: #00af00\">10</span>)             │           <span style=\"color: #00af00; text-decoration-color: #00af00\">110</span> │\n",
       "├─────────────────────────────────┼────────────────────────┼───────────────┤\n",
       "│ dense_165 (<span style=\"color: #0087ff; text-decoration-color: #0087ff\">Dense</span>)               │ (<span style=\"color: #00d7ff; text-decoration-color: #00d7ff\">None</span>, <span style=\"color: #00af00; text-decoration-color: #00af00\">50</span>)             │           <span style=\"color: #00af00; text-decoration-color: #00af00\">550</span> │\n",
       "├─────────────────────────────────┼────────────────────────┼───────────────┤\n",
       "│ dense_166 (<span style=\"color: #0087ff; text-decoration-color: #0087ff\">Dense</span>)               │ (<span style=\"color: #00d7ff; text-decoration-color: #00d7ff\">None</span>, <span style=\"color: #00af00; text-decoration-color: #00af00\">1</span>)              │            <span style=\"color: #00af00; text-decoration-color: #00af00\">51</span> │\n",
       "└─────────────────────────────────┴────────────────────────┴───────────────┘\n",
       "</pre>\n"
      ],
      "text/plain": [
       "┏━━━━━━━━━━━━━━━━━━━━━━━━━━━━━━━━━┳━━━━━━━━━━━━━━━━━━━━━━━━┳━━━━━━━━━━━━━━━┓\n",
       "┃\u001b[1m \u001b[0m\u001b[1mLayer (type)                   \u001b[0m\u001b[1m \u001b[0m┃\u001b[1m \u001b[0m\u001b[1mOutput Shape          \u001b[0m\u001b[1m \u001b[0m┃\u001b[1m \u001b[0m\u001b[1m      Param #\u001b[0m\u001b[1m \u001b[0m┃\n",
       "┡━━━━━━━━━━━━━━━━━━━━━━━━━━━━━━━━━╇━━━━━━━━━━━━━━━━━━━━━━━━╇━━━━━━━━━━━━━━━┩\n",
       "│ dense_162 (\u001b[38;5;33mDense\u001b[0m)               │ (\u001b[38;5;45mNone\u001b[0m, \u001b[38;5;34m2\u001b[0m)              │            \u001b[38;5;34m16\u001b[0m │\n",
       "├─────────────────────────────────┼────────────────────────┼───────────────┤\n",
       "│ dense_163 (\u001b[38;5;33mDense\u001b[0m)               │ (\u001b[38;5;45mNone\u001b[0m, \u001b[38;5;34m10\u001b[0m)             │            \u001b[38;5;34m30\u001b[0m │\n",
       "├─────────────────────────────────┼────────────────────────┼───────────────┤\n",
       "│ dense_164 (\u001b[38;5;33mDense\u001b[0m)               │ (\u001b[38;5;45mNone\u001b[0m, \u001b[38;5;34m10\u001b[0m)             │           \u001b[38;5;34m110\u001b[0m │\n",
       "├─────────────────────────────────┼────────────────────────┼───────────────┤\n",
       "│ dense_165 (\u001b[38;5;33mDense\u001b[0m)               │ (\u001b[38;5;45mNone\u001b[0m, \u001b[38;5;34m50\u001b[0m)             │           \u001b[38;5;34m550\u001b[0m │\n",
       "├─────────────────────────────────┼────────────────────────┼───────────────┤\n",
       "│ dense_166 (\u001b[38;5;33mDense\u001b[0m)               │ (\u001b[38;5;45mNone\u001b[0m, \u001b[38;5;34m1\u001b[0m)              │            \u001b[38;5;34m51\u001b[0m │\n",
       "└─────────────────────────────────┴────────────────────────┴───────────────┘\n"
      ]
     },
     "metadata": {},
     "output_type": "display_data"
    },
    {
     "data": {
      "text/html": [
       "<pre style=\"white-space:pre;overflow-x:auto;line-height:normal;font-family:Menlo,'DejaVu Sans Mono',consolas,'Courier New',monospace\"><span style=\"font-weight: bold\"> Total params: </span><span style=\"color: #00af00; text-decoration-color: #00af00\">1,516</span> (5.93 KB)\n",
       "</pre>\n"
      ],
      "text/plain": [
       "\u001b[1m Total params: \u001b[0m\u001b[38;5;34m1,516\u001b[0m (5.93 KB)\n"
      ]
     },
     "metadata": {},
     "output_type": "display_data"
    },
    {
     "data": {
      "text/html": [
       "<pre style=\"white-space:pre;overflow-x:auto;line-height:normal;font-family:Menlo,'DejaVu Sans Mono',consolas,'Courier New',monospace\"><span style=\"font-weight: bold\"> Trainable params: </span><span style=\"color: #00af00; text-decoration-color: #00af00\">757</span> (2.96 KB)\n",
       "</pre>\n"
      ],
      "text/plain": [
       "\u001b[1m Trainable params: \u001b[0m\u001b[38;5;34m757\u001b[0m (2.96 KB)\n"
      ]
     },
     "metadata": {},
     "output_type": "display_data"
    },
    {
     "data": {
      "text/html": [
       "<pre style=\"white-space:pre;overflow-x:auto;line-height:normal;font-family:Menlo,'DejaVu Sans Mono',consolas,'Courier New',monospace\"><span style=\"font-weight: bold\"> Non-trainable params: </span><span style=\"color: #00af00; text-decoration-color: #00af00\">0</span> (0.00 B)\n",
       "</pre>\n"
      ],
      "text/plain": [
       "\u001b[1m Non-trainable params: \u001b[0m\u001b[38;5;34m0\u001b[0m (0.00 B)\n"
      ]
     },
     "metadata": {},
     "output_type": "display_data"
    },
    {
     "data": {
      "text/html": [
       "<pre style=\"white-space:pre;overflow-x:auto;line-height:normal;font-family:Menlo,'DejaVu Sans Mono',consolas,'Courier New',monospace\"><span style=\"font-weight: bold\"> Optimizer params: </span><span style=\"color: #00af00; text-decoration-color: #00af00\">759</span> (2.97 KB)\n",
       "</pre>\n"
      ],
      "text/plain": [
       "\u001b[1m Optimizer params: \u001b[0m\u001b[38;5;34m759\u001b[0m (2.97 KB)\n"
      ]
     },
     "metadata": {},
     "output_type": "display_data"
    }
   ],
   "source": [
    "# Get the best model\n",
    "best_model = df_model_performances.head(1)['model'].max()\n",
    "\n",
    "print('>>> The best model structure found was:')\n",
    "best_model.summary()\n"
   ]
  },
  {
   "cell_type": "markdown",
   "metadata": {},
   "source": [
    "According to this structure, one again get the predictions of the model for the test set and calculate the performance metrics of the best neural net built."
   ]
  },
  {
   "cell_type": "code",
   "execution_count": 18,
   "metadata": {},
   "outputs": [
    {
     "name": "stdout",
     "output_type": "stream",
     "text": [
      "\u001b[1m30/30\u001b[0m \u001b[32m━━━━━━━━━━━━━━━━━━━━\u001b[0m\u001b[37m\u001b[0m \u001b[1m0s\u001b[0m 1ms/step \n",
      "{'f1_score': 0.9393382352941176, 'mcc': 0.8589601126821053, 'accuracy': 0.9307450157397692, 'confusion': array([[376,  27],\n",
      "       [ 39, 511]])}\n"
     ]
    },
    {
     "data": {
      "image/png": "[encoded data removed]",
      "text/plain": [
       "<Figure size 640x480 with 1 Axes>"
      ]
     },
     "metadata": {},
     "output_type": "display_data"
    }
   ],
   "source": [
    "\n",
    "y_pred = best_model.predict(X_test)\n",
    "y_pred = np.where(y_pred > 0.5, 1, 0)\n",
    "plt.hist(y_pred)\n",
    "\n",
    "dnn_metricas = {\n",
    "    'f1_score': f1_score(y_test, y_pred), \n",
    "    'mcc': matthews_corrcoef(y_test, y_pred), \n",
    "    'accuracy': accuracy_score(y_test, y_pred), \n",
    "    'confusion': confusion_matrix(y_test, y_pred)\n",
    "}\n",
    "\n",
    "print(dnn_metricas)\n",
    "\n"
   ]
  },
  {
   "cell_type": "markdown",
   "metadata": {},
   "source": [
    "# SVM\n",
    "\n",
    "The same process is applied to Supporting Vector Machines (SVMs).\n",
    "\n",
    "Unlike Neural Networks, SVMs does not have a node-based architecture. Instead, they rely on numerous parameters that needs to be tuned.\n",
    "One of the most important parameter is the kernel function.\n",
    "\n",
    "SVMs use the kernel function in what is known as Kernel Trick. This method increases the dimensionality of input data, allowing transformations of originally non-linear dataset into a linear one. This transformation allows the model to classificate based on non-linear inputs. The primary concern is to determine wich kernel function is the best one for the model.\n",
    "\n",
    "The following code chunk tests multiple kernel parameters for some of the most common kernel functions: polynomial (with linear being a specific case), gaussian and sigmoid. For polynomial cases, the function degree varies from 1 to 4.\n",
    "\n",
    "After expanding a grid of possible parameters, all combinations of models are trained and evaluated using the MCC for later comparsion.\n"
   ]
  },
  {
   "cell_type": "code",
   "execution_count": 19,
   "metadata": {},
   "outputs": [
    {
     "name": "stdout",
     "output_type": "stream",
     "text": [
      "Training list of possible models\n"
     ]
    },
    {
     "name": "stderr",
     "output_type": "stream",
     "text": [
      "100%|██████████| 1980/1980 [01:51<00:00, 17.70it/s]"
     ]
    },
    {
     "name": "stdout",
     "output_type": "stream",
     "text": [
      "Finished!\n"
     ]
    },
    {
     "name": "stderr",
     "output_type": "stream",
     "text": [
      "\n"
     ]
    }
   ],
   "source": [
    "# Get the best parameters\n",
    "# To do so, let's use MCC\n",
    "\n",
    "possible_svm_parameters = []\n",
    "possible_svm_results = []\n",
    "\n",
    "# Possible combinations\n",
    "possible_svm_parameters = [\n",
    "    {\n",
    "        'kernel':kernel, \n",
    "        'coef0':coef0, \n",
    "        'C':C / 100, \n",
    "        'degree': degree\n",
    "    } \n",
    "    for kernel in ['poly', 'rbf', 'sigmoid']\n",
    "    for coef0 in range(1, 6) if kernel in ['poly', 'sigmoid']\n",
    "    for C in range(1, 100)\n",
    "    for degree in range(1, 5) if kernel == 'poly'\n",
    "    ]\n",
    "\n",
    "# Train for each combination\n",
    "print('Training list of possible models')\n",
    "\n",
    "for parameters in tqdm(possible_svm_parameters):\n",
    "\n",
    "    svmodel = svm.SVC(random_state=321, **parameters)\n",
    "    svmodel.fit(X_train, y_train)\n",
    "\n",
    "    y_hat = svmodel.predict(X_test)\n",
    "\n",
    "    mcc = matthews_corrcoef(y_test, y_hat)\n",
    "\n",
    "    result = {\n",
    "        'mcc': mcc, \n",
    "        'parameters': parameters\n",
    "    }\n",
    "\n",
    "    possible_svm_results.append(result)\n",
    "\n",
    "# Just to get log clearer\n",
    "print('Finished!')"
   ]
  },
  {
   "cell_type": "markdown",
   "metadata": {},
   "source": [
    "Possible models evaluated, one can check the combinations that led to the best results."
   ]
  },
  {
   "cell_type": "code",
   "execution_count": 20,
   "metadata": {},
   "outputs": [
    {
     "name": "stdout",
     "output_type": "stream",
     "text": [
      "Top 5 parameters\n"
     ]
    },
    {
     "data": {
      "text/html": [
       "<div>\n",
       "<style scoped>\n",
       "    .dataframe tbody tr th:only-of-type {\n",
       "        vertical-align: middle;\n",
       "    }\n",
       "\n",
       "    .dataframe tbody tr th {\n",
       "        vertical-align: top;\n",
       "    }\n",
       "\n",
       "    .dataframe thead th {\n",
       "        text-align: right;\n",
       "    }\n",
       "</style>\n",
       "<table border=\"1\" class=\"dataframe\">\n",
       "  <thead>\n",
       "    <tr style=\"text-align: right;\">\n",
       "      <th></th>\n",
       "      <th>mcc</th>\n",
       "      <th>parameters</th>\n",
       "    </tr>\n",
       "  </thead>\n",
       "  <tbody>\n",
       "    <tr>\n",
       "      <th>5</th>\n",
       "      <td>0.860037</td>\n",
       "      <td>{'kernel': 'poly', 'coef0': 1, 'C': 0.02, 'deg...</td>\n",
       "    </tr>\n",
       "    <tr>\n",
       "      <th>400</th>\n",
       "      <td>0.858028</td>\n",
       "      <td>{'kernel': 'poly', 'coef0': 2, 'C': 0.02, 'deg...</td>\n",
       "    </tr>\n",
       "    <tr>\n",
       "      <th>796</th>\n",
       "      <td>0.858028</td>\n",
       "      <td>{'kernel': 'poly', 'coef0': 3, 'C': 0.02, 'deg...</td>\n",
       "    </tr>\n",
       "    <tr>\n",
       "      <th>4</th>\n",
       "      <td>0.858028</td>\n",
       "      <td>{'kernel': 'poly', 'coef0': 1, 'C': 0.02, 'deg...</td>\n",
       "    </tr>\n",
       "    <tr>\n",
       "      <th>1192</th>\n",
       "      <td>0.858028</td>\n",
       "      <td>{'kernel': 'poly', 'coef0': 4, 'C': 0.02, 'deg...</td>\n",
       "    </tr>\n",
       "  </tbody>\n",
       "</table>\n",
       "</div>"
      ],
      "text/plain": [
       "           mcc                                         parameters\n",
       "5     0.860037  {'kernel': 'poly', 'coef0': 1, 'C': 0.02, 'deg...\n",
       "400   0.858028  {'kernel': 'poly', 'coef0': 2, 'C': 0.02, 'deg...\n",
       "796   0.858028  {'kernel': 'poly', 'coef0': 3, 'C': 0.02, 'deg...\n",
       "4     0.858028  {'kernel': 'poly', 'coef0': 1, 'C': 0.02, 'deg...\n",
       "1192  0.858028  {'kernel': 'poly', 'coef0': 4, 'C': 0.02, 'deg..."
      ]
     },
     "execution_count": 20,
     "metadata": {},
     "output_type": "execute_result"
    }
   ],
   "source": [
    "# Convert it into a ordered DataFrame\n",
    "svm_results = pd.DataFrame.from_dict(possible_svm_results)\n",
    "svm_results.sort_values('mcc', axis=0, ascending=False, inplace=True)\n",
    "\n",
    "# Show best models\n",
    "print('Top 5 parameters')\n",
    "svm_results.head(5)"
   ]
  },
  {
   "cell_type": "markdown",
   "metadata": {},
   "source": [
    "Getting the measures for the top-performing model enables us to compare SVMs performance with the NNs."
   ]
  },
  {
   "cell_type": "code",
   "execution_count": 21,
   "metadata": {},
   "outputs": [],
   "source": [
    "# Retrieve the best model\n",
    "best = svm_results.head(1)['parameters'].max()\n",
    "\n",
    "# Train it again with the same parameters\n",
    "svmodel = svm.SVC(random_state=321, **best)\n",
    "svmodel.fit(X_train, y_train)\n",
    "\n",
    "# Get model metrics\n",
    "y_hat = svmodel.predict(X_test)\n",
    "\n",
    "svm_metricas = {\n",
    "    'f1_score': f1_score(y_test, y_hat), \n",
    "    'mcc': matthews_corrcoef(y_test, y_hat), \n",
    "    'accuracy': accuracy_score(y_test, y_hat), \n",
    "    'confusion': confusion_matrix(y_test, y_hat)\n",
    "}\n"
   ]
  },
  {
   "cell_type": "markdown",
   "metadata": {},
   "source": [
    "# Model selection\n",
    "\n",
    "With the best of two models, it allows to compare one against another.\n",
    "\n",
    "The reader has to remember that all the below results came from the assumptions during the selection of the models. Hence they are not exclusively the global best results in all possibilities for the data, but the best according to given parameters described earlier. "
   ]
  },
  {
   "cell_type": "code",
   "execution_count": 22,
   "metadata": {},
   "outputs": [
    {
     "data": {
      "text/html": [
       "<div>\n",
       "<style scoped>\n",
       "    .dataframe tbody tr th:only-of-type {\n",
       "        vertical-align: middle;\n",
       "    }\n",
       "\n",
       "    .dataframe tbody tr th {\n",
       "        vertical-align: top;\n",
       "    }\n",
       "\n",
       "    .dataframe thead th {\n",
       "        text-align: right;\n",
       "    }\n",
       "</style>\n",
       "<table border=\"1\" class=\"dataframe\">\n",
       "  <thead>\n",
       "    <tr style=\"text-align: right;\">\n",
       "      <th></th>\n",
       "      <th>BestNeuralNet</th>\n",
       "      <th>BestSVM</th>\n",
       "    </tr>\n",
       "  </thead>\n",
       "  <tbody>\n",
       "    <tr>\n",
       "      <th>f1_score</th>\n",
       "      <td>0.939338</td>\n",
       "      <td>0.941283</td>\n",
       "    </tr>\n",
       "    <tr>\n",
       "      <th>mcc</th>\n",
       "      <td>0.85896</td>\n",
       "      <td>0.860037</td>\n",
       "    </tr>\n",
       "    <tr>\n",
       "      <th>accuracy</th>\n",
       "      <td>0.930745</td>\n",
       "      <td>0.931794</td>\n",
       "    </tr>\n",
       "    <tr>\n",
       "      <th>confusion</th>\n",
       "      <td>[[376, 27], [39, 511]]</td>\n",
       "      <td>[[367, 36], [29, 521]]</td>\n",
       "    </tr>\n",
       "  </tbody>\n",
       "</table>\n",
       "</div>"
      ],
      "text/plain": [
       "                    BestNeuralNet                 BestSVM\n",
       "f1_score                 0.939338                0.941283\n",
       "mcc                       0.85896                0.860037\n",
       "accuracy                 0.930745                0.931794\n",
       "confusion  [[376, 27], [39, 511]]  [[367, 36], [29, 521]]"
      ]
     },
     "execution_count": 22,
     "metadata": {},
     "output_type": "execute_result"
    }
   ],
   "source": [
    "\n",
    "# Create a table to compare the best models for each method\n",
    "model_compare = pd.DataFrame.from_dict([dnn_metricas, svm_metricas]).T\n",
    "model_compare.columns = ['BestNeuralNet', 'BestSVM']\n",
    "model_compare\n"
   ]
  },
  {
   "cell_type": "markdown",
   "metadata": {},
   "source": [
    "According to the table, the best-performing SVM model outperformed the best Neural Network on unseen data (test set). \n",
    "\n",
    "Consequently, it is reasonable to expect this pattern to repeat with new data points.\n",
    "\n",
    "In simple terms, given the assumptions and prefered metrics (MCC), the SVM model demonstrated better performance than the Neural Network. "
   ]
  }
 ],
 "metadata": {
  "kernelspec": {
   "display_name": "mestrado",
   "language": "python",
   "name": "python3"
  },
  "language_info": {
   "codemirror_mode": {
    "name": "ipython",
    "version": 3
   },
   "file_extension": ".py",
   "mimetype": "text/x-python",
   "name": "python",
   "nbconvert_exporter": "python",
   "pygments_lexer": "ipython3",
   "version": "3.12.2"
  }
 },
 "nbformat": 4,
 "nbformat_minor": 2
}
