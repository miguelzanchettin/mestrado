{
 "cells": [
  {
   "cell_type": "markdown",
   "metadata": {},
   "source": [
    "# Classificando potencial de internamento de pacientes de uma unidade de saúde básica de de Curitiba utilizando MLP e SVM"
   ]
  },
  {
   "cell_type": "markdown",
   "metadata": {},
   "source": [
    "\n",
    "Navegando nas bases de dados da Prefeitura Municipal de Curitiba, encontrei algumas interessantes bases de dados.\n",
    "\n",
    "Escolhi, para este exemplo, a seguinte base:\n",
    "\n",
    "> ### Sistema E-Saude - Perfil de atendimento de Enfermagem nas Unidades Municipais de Saúde de Curitiba\n",
    "> Base de dados do sistema Informatizado \"E-saúde\". Este sistema viabiliza o registro dos atendimentos prestados pela Secretaria Municipal de Saúde de Curitiba em sua rede de atenção. Esta rede é composta por Unidades Básicas de Saúde, Unidades de Pronto Atendimento, Centros de Especialidades Médicas e Odontológicas, entre outros. Os dados disponibilizados para consulta referem-se ao perfil de atendimento dos profissionais de enfermagem da rede municipal de saúde.\n",
    "> * Órgão responsável: Saúde\n",
    ">* Responsável: Beatriz Battistella Nadas\n",
    ">* Frequência de atualização: Mensal\n",
    ">* Espectro temporal: Últimos 3 meses\n",
    ">* Campos: Ver no dicionário de dados\n",
    ">* Observações: Telefone para informações sobre a base: 41 3350-9302\n",
    "\n",
    "Ela está disponível [no site da prefeitura](https://www.curitiba.pr.gov.br/dadosabertos/busca/?pagina=7).\n"
   ]
  },
  {
   "cell_type": "markdown",
   "metadata": {},
   "source": [
    "## Bibliotecas necessárias\n",
    "\n",
    "As seguintes bibliotecas serão utilizadas"
   ]
  },
  {
   "cell_type": "code",
   "execution_count": 16,
   "metadata": {},
   "outputs": [],
   "source": [
    "!pip install imbalanced-learn -q\n",
    "!pip install seaborn -q\n",
    "!pip install scikeras -q\n",
    "!pip install pandas numpy -q\n",
    "!pip install matplotlib seaborn -q"
   ]
  },
  {
   "cell_type": "markdown",
   "metadata": {},
   "source": [
    "Referenciandos-as"
   ]
  },
  {
   "cell_type": "code",
   "execution_count": 17,
   "metadata": {},
   "outputs": [],
   "source": [
    "import pandas as pd\n",
    "import numpy as np\n",
    "from datetime import timedelta\n",
    "from imblearn.over_sampling import RandomOverSampler\n",
    "from imblearn.under_sampling import RandomUnderSampler\n",
    "\n",
    "import seaborn as sns\n",
    "import matplotlib.pyplot as plt\n",
    "\n",
    "\n",
    "from sklearn.model_selection import train_test_split\n",
    "from sklearn.svm import SVC\n",
    "from sklearn.metrics import classification_report, confusion_matrix, matthews_corrcoef, roc_auc_score\n",
    "from sklearn.preprocessing import StandardScaler\n",
    "from sklearn.model_selection import GridSearchCV\n",
    "from random import random\n",
    "\n",
    "import re\n",
    "\n",
    "from tensorflow.keras.models import Sequential\n",
    "from tensorflow.keras.layers import Dense, Flatten, Input\n",
    "from scikeras.wrappers import KerasClassifier\n"
   ]
  },
  {
   "cell_type": "markdown",
   "metadata": {},
   "source": [
    "## Importando a base de dados\n",
    "\n",
    "Foi realizado o download da base de dados diretamento do link mencionando.\n",
    "\n",
    "O arquivo foi baixado no dia 10 de junho de 2024. Algumas alterações podem ter ocorrido após isso."
   ]
  },
  {
   "cell_type": "code",
   "execution_count": 18,
   "metadata": {},
   "outputs": [
    {
     "name": "stderr",
     "output_type": "stream",
     "text": [
      "/tmp/ipykernel_2001668/3684684625.py:2: DtypeWarning: Columns (16) have mixed types. Specify dtype option on import or set low_memory=False.\n",
      "  df = pd.read_csv(\n"
     ]
    },
    {
     "name": "stdout",
     "output_type": "stream",
     "text": [
      "<class 'pandas.core.frame.DataFrame'>\n",
      "RangeIndex: 1535530 entries, 0 to 1535529\n",
      "Data columns (total 42 columns):\n",
      " #   Column                                        Non-Null Count    Dtype  \n",
      "---  ------                                        --------------    -----  \n",
      " 0   Data do Atendimento                           1535530 non-null  object \n",
      " 1   Data de Nascimento                            1535530 non-null  object \n",
      " 2   Sexo                                          1535530 non-null  object \n",
      " 3   Código do Tipo de Unidade                     1535530 non-null  int64  \n",
      " 4   Tipo de Unidade                               1535530 non-null  object \n",
      " 5   Código da Unidade                             1535530 non-null  int64  \n",
      " 6   Descrição da Unidade                          1535530 non-null  object \n",
      " 7   Código do Procedimento                        1535530 non-null  int64  \n",
      " 8   Descrição do Procedimento                     1535530 non-null  object \n",
      " 9   Código do CBO                                 1535530 non-null  int64  \n",
      " 10  Descrição do CBO                              1535530 non-null  object \n",
      " 11  Código do CID                                 370252 non-null   object \n",
      " 12  Descrição do CID                              370252 non-null   object \n",
      " 13  Solicitação de Exames                         1535530 non-null  object \n",
      " 14  Qtde Prescrita Farmácia Curitibana            1535530 non-null  object \n",
      " 15  Qtde Dispensada Farmácia Curitibana           1535530 non-null  int64  \n",
      " 16  Qtde de Medicamento Não Padronizado           1535530 non-null  object \n",
      " 17  Encaminhamento para Atendimento Especialista  1535530 non-null  object \n",
      " 18  Área de Atuação                               14700 non-null    object \n",
      " 19  Desencadeou Internamento                      1535530 non-null  object \n",
      " 20  Data do Internamento                          4262 non-null     object \n",
      " 21  Estabelecimento Solicitante                   4551 non-null     object \n",
      " 22  Estabelecimento Destino                       4551 non-null     object \n",
      " 23  CID do Internamento                           4551 non-null     object \n",
      " 24  Tratamento no Domicílio                       1294908 non-null  object \n",
      " 25  Abastecimento                                 1291940 non-null  object \n",
      " 26  Energia Elétrica                              1535530 non-null  object \n",
      " 27  Tipo de Habitação                             1293870 non-null  object \n",
      " 28  Destino Lixo                                  1293070 non-null  object \n",
      " 29  Fezes/Urina                                   1290893 non-null  object \n",
      " 30  Cômodos                                       1467129 non-null  float64\n",
      " 31  Em Caso de Doença                             1293422 non-null  object \n",
      " 32  Grupo Comunitário                             1288023 non-null  object \n",
      " 33  Meio de Comunicacao                           1292114 non-null  object \n",
      " 34  Meio de Transporte                            1292565 non-null  object \n",
      " 35  Municício                                     1535530 non-null  object \n",
      " 36  Bairro                                        1535530 non-null  object \n",
      " 37  Nacionalidade                                 1535530 non-null  object \n",
      " 38  cod_usuario                                   1535530 non-null  int64  \n",
      " 39  origem_usuario                                1535530 non-null  int64  \n",
      " 40  residente                                     1535530 non-null  int64  \n",
      " 41  cod_profissional                              1535530 non-null  int64  \n",
      "dtypes: float64(1), int64(9), object(32)\n",
      "memory usage: 492.0+ MB\n"
     ]
    }
   ],
   "source": [
    "\n",
    "# Importando a base de dados\n",
    "df = pd.read_csv(\n",
    "    '2024-06-06_Sistema_E-Saude_Enfermagem_-_Base_de_Dados.csv', \n",
    "    encoding='cp1252', # Equivalente para ANSI para o Linux \n",
    "    header=0, \n",
    "    delimiter=';' \n",
    "    )\n",
    "\n",
    "# Resume os dados\n",
    "df.info(max_cols=50)"
   ]
  },
  {
   "cell_type": "markdown",
   "metadata": {},
   "source": [
    "## Encontrando um problema de classificação\n",
    "\n",
    "Por se tratar de uma base de dados de saúde, seria muito interessante se conseguissemos prever algo relacionado à saúde das pessoas.\n",
    "\n",
    "Para tanto, pensei em um problema conceitualmente simples. Não que sua solução seja simples, mas seu entendimento é.\n",
    "\n",
    "O objetivo será de classificar, com base na frequência de classes de doenças o paciente possui, se ele será ou não enternado. Um problema binário. Para determinar a classe de doenças que o paciente possui, será utilizada a primeira letra do código CID - Código Internacional de Doença - de cada atendimento do paciente. "
   ]
  },
  {
   "cell_type": "markdown",
   "metadata": {},
   "source": [
    "#### Delimitando o problema\n"
   ]
  },
  {
   "cell_type": "code",
   "execution_count": 27,
   "metadata": {},
   "outputs": [
    {
     "name": "stdout",
     "output_type": "stream",
     "text": [
      "(1530518, 7)\n"
     ]
    },
    {
     "data": {
      "text/html": [
       "<div>\n",
       "<style scoped>\n",
       "    .dataframe tbody tr th:only-of-type {\n",
       "        vertical-align: middle;\n",
       "    }\n",
       "\n",
       "    .dataframe tbody tr th {\n",
       "        vertical-align: top;\n",
       "    }\n",
       "\n",
       "    .dataframe thead th {\n",
       "        text-align: right;\n",
       "    }\n",
       "</style>\n",
       "<table border=\"1\" class=\"dataframe\">\n",
       "  <thead>\n",
       "    <tr style=\"text-align: right;\">\n",
       "      <th></th>\n",
       "      <th>cod_usuario</th>\n",
       "      <th>cid</th>\n",
       "      <th>data_atendimento</th>\n",
       "      <th>desencadeou_internamento</th>\n",
       "      <th>primeira_internacao</th>\n",
       "      <th>ja_foi_internado</th>\n",
       "      <th>classe</th>\n",
       "    </tr>\n",
       "  </thead>\n",
       "  <tbody>\n",
       "    <tr>\n",
       "      <th>0</th>\n",
       "      <td>11957569</td>\n",
       "      <td>T</td>\n",
       "      <td>2024-03-01 00:02:55</td>\n",
       "      <td>Nao</td>\n",
       "      <td>2024-03-03 20:14:36</td>\n",
       "      <td>False</td>\n",
       "      <td>1</td>\n",
       "    </tr>\n",
       "    <tr>\n",
       "      <th>1</th>\n",
       "      <td>9566518</td>\n",
       "      <td>J</td>\n",
       "      <td>2024-03-01 00:08:15</td>\n",
       "      <td>Nao</td>\n",
       "      <td>NaT</td>\n",
       "      <td>False</td>\n",
       "      <td>-1</td>\n",
       "    </tr>\n",
       "    <tr>\n",
       "      <th>2</th>\n",
       "      <td>213714</td>\n",
       "      <td>I</td>\n",
       "      <td>2024-03-01 00:04:32</td>\n",
       "      <td>Nao</td>\n",
       "      <td>NaT</td>\n",
       "      <td>False</td>\n",
       "      <td>-1</td>\n",
       "    </tr>\n",
       "  </tbody>\n",
       "</table>\n",
       "</div>"
      ],
      "text/plain": [
       "   cod_usuario cid    data_atendimento desencadeou_internamento  \\\n",
       "0     11957569   T 2024-03-01 00:02:55                      Nao   \n",
       "1      9566518   J 2024-03-01 00:08:15                      Nao   \n",
       "2       213714   I 2024-03-01 00:04:32                      Nao   \n",
       "\n",
       "  primeira_internacao  ja_foi_internado  classe  \n",
       "0 2024-03-03 20:14:36             False       1  \n",
       "1                 NaT             False      -1  \n",
       "2                 NaT             False      -1  "
      ]
     },
     "execution_count": 27,
     "metadata": {},
     "output_type": "execute_result"
    }
   ],
   "source": [
    "# Seleciona as colunas\n",
    "data = df[['cod_usuario', 'Código do CID', 'Data do Atendimento', 'Desencadeou Internamento']].copy()\n",
    "data.columns = ['cod_usuario', 'cid', 'data_atendimento', 'desencadeou_internamento']\n",
    "\n",
    "# Filtra apenas primeira caracter do CID\n",
    "data['cid'] = data['cid'].str[:1]\n",
    "\n",
    "# Remove sem cids\n",
    "data['cid'] = data['cid'].fillna('NA')\n",
    "\n",
    "# Convert data do atendimento\n",
    "data['data_atendimento'] = pd.to_datetime(data['data_atendimento'], format='%d/%m/%Y %H:%M:%S')\n",
    "\n",
    "# Primeiro internamento por paciente\n",
    "minimos = data[data['desencadeou_internamento'] != 'Nao'].copy()\n",
    "minimos = minimos.groupby('cod_usuario')['data_atendimento'].min()\n",
    "minimos = pd.DataFrame(minimos)\n",
    "minimos.reset_index(drop=False, names='cod_usuario', inplace=True)\n",
    "minimos.columns = ['cod_usuario', 'primeira_internacao']\n",
    "\n",
    "# Adiciona a data de primeira internacao por paciente\n",
    "data = pd.merge(data, minimos, how='left', on='cod_usuario')\n",
    "data['ja_foi_internado'] = np.where(data['primeira_internacao'] < data['data_atendimento'], True, False)\n",
    "\n",
    "# Remove os atendimentos de pacientes que ja foram internados alguma vez\n",
    "data = data[data['ja_foi_internado'] == False].copy()\n",
    "\n",
    "# Classifica entre pacientes que serao internados\n",
    "# +1, serao internados\n",
    "# -1, nao internados \n",
    "data['classe'] = np.where(data['primeira_internacao'].isnull() , -1, 1)\n",
    "\n",
    "print(data.shape)\n",
    "data.head(3)"
   ]
  },
  {
   "cell_type": "markdown",
   "metadata": {},
   "source": [
    "A base de dados gerada, porém, é demasiadamente extensa (1.5MM de linhas). Por isso, será filtrada, reduzindo o escopo da predição.\n",
    "\n",
    "Para reduzir este escopo, nada mais justo que selecionar apenas pacientes que já haviam passado por uma determinada unidade de atendimento antes da internacao.\n",
    "\n",
    "Pensando assim, é necessário escolher uma unidade"
   ]
  },
  {
   "cell_type": "code",
   "execution_count": 28,
   "metadata": {},
   "outputs": [
    {
     "data": {
      "text/html": [
       "<div>\n",
       "<style scoped>\n",
       "    .dataframe tbody tr th:only-of-type {\n",
       "        vertical-align: middle;\n",
       "    }\n",
       "\n",
       "    .dataframe tbody tr th {\n",
       "        vertical-align: top;\n",
       "    }\n",
       "\n",
       "    .dataframe thead th {\n",
       "        text-align: right;\n",
       "    }\n",
       "</style>\n",
       "<table border=\"1\" class=\"dataframe\">\n",
       "  <thead>\n",
       "    <tr style=\"text-align: right;\">\n",
       "      <th></th>\n",
       "      <th>Código da Unidade</th>\n",
       "      <th>Descrição da Unidade</th>\n",
       "    </tr>\n",
       "  </thead>\n",
       "  <tbody>\n",
       "    <tr>\n",
       "      <th>0</th>\n",
       "      <td>5323495</td>\n",
       "      <td>UPA CIDADE INDUSTRIAL</td>\n",
       "    </tr>\n",
       "    <tr>\n",
       "      <th>1</th>\n",
       "      <td>2639548</td>\n",
       "      <td>UPA CAMPO COMPRIDO</td>\n",
       "    </tr>\n",
       "    <tr>\n",
       "      <th>2</th>\n",
       "      <td>5323436</td>\n",
       "      <td>UPA CAJURU</td>\n",
       "    </tr>\n",
       "  </tbody>\n",
       "</table>\n",
       "</div>"
      ],
      "text/plain": [
       "   Código da Unidade   Descrição da Unidade\n",
       "0            5323495  UPA CIDADE INDUSTRIAL\n",
       "1            2639548     UPA CAMPO COMPRIDO\n",
       "2            5323436             UPA CAJURU"
      ]
     },
     "execution_count": 28,
     "metadata": {},
     "output_type": "execute_result"
    }
   ],
   "source": [
    "df[['Código da Unidade', 'Descrição da Unidade']].drop_duplicates().head(3)\n",
    "# Utilizarei a 5323495 (UPA CIC)"
   ]
  },
  {
   "cell_type": "code",
   "execution_count": null,
   "metadata": {},
   "outputs": [],
   "source": []
  },
  {
   "cell_type": "markdown",
   "metadata": {},
   "source": [
    "Por facilidade, será utilizada `UPA CIDADE INDUSTRIAL` como referência.\n",
    "\n",
    "Ou seja, filtrar apenas os pacientes que já passaram por ela antes de serem internados.\n",
    "\n",
    "Uma forma de realizar isto é encontrar a primeira data de atendimento para cada paciente que já passou pela unidade."
   ]
  },
  {
   "cell_type": "code",
   "execution_count": 6,
   "metadata": {},
   "outputs": [
    {
     "data": {
      "text/html": [
       "<div>\n",
       "<style scoped>\n",
       "    .dataframe tbody tr th:only-of-type {\n",
       "        vertical-align: middle;\n",
       "    }\n",
       "\n",
       "    .dataframe tbody tr th {\n",
       "        vertical-align: top;\n",
       "    }\n",
       "\n",
       "    .dataframe thead th {\n",
       "        text-align: right;\n",
       "    }\n",
       "</style>\n",
       "<table border=\"1\" class=\"dataframe\">\n",
       "  <thead>\n",
       "    <tr style=\"text-align: right;\">\n",
       "      <th></th>\n",
       "      <th>cod_usuario</th>\n",
       "      <th>primeira_passagem_unidade</th>\n",
       "    </tr>\n",
       "  </thead>\n",
       "  <tbody>\n",
       "    <tr>\n",
       "      <th>0</th>\n",
       "      <td>745</td>\n",
       "      <td>06/03/2024 11:52:23</td>\n",
       "    </tr>\n",
       "    <tr>\n",
       "      <th>1</th>\n",
       "      <td>5244</td>\n",
       "      <td>24/05/2024 10:38:26</td>\n",
       "    </tr>\n",
       "    <tr>\n",
       "      <th>2</th>\n",
       "      <td>7018</td>\n",
       "      <td>02/05/2024 14:16:38</td>\n",
       "    </tr>\n",
       "    <tr>\n",
       "      <th>3</th>\n",
       "      <td>7128</td>\n",
       "      <td>18/05/2024 04:14:23</td>\n",
       "    </tr>\n",
       "    <tr>\n",
       "      <th>4</th>\n",
       "      <td>7137</td>\n",
       "      <td>08/03/2024 00:08:43</td>\n",
       "    </tr>\n",
       "  </tbody>\n",
       "</table>\n",
       "</div>"
      ],
      "text/plain": [
       "   cod_usuario primeira_passagem_unidade\n",
       "0          745       06/03/2024 11:52:23\n",
       "1         5244       24/05/2024 10:38:26\n",
       "2         7018       02/05/2024 14:16:38\n",
       "3         7128       18/05/2024 04:14:23\n",
       "4         7137       08/03/2024 00:08:43"
      ]
     },
     "execution_count": 6,
     "metadata": {},
     "output_type": "execute_result"
    }
   ],
   "source": [
    "\n",
    "# Pacientes que ja passaram pela UPA\n",
    "passaram_pela_unidade = df[df['Código da Unidade'] == 5323495][['cod_usuario', 'Data do Atendimento']].drop_duplicates()\n",
    "\n",
    "# Coleta a primeira data do atendimento do paciente na UPA\n",
    "passaram_pela_unidade = passaram_pela_unidade.groupby('cod_usuario').min()['Data do Atendimento']\n",
    "passaram_pela_unidade = pd.DataFrame(passaram_pela_unidade)\n",
    "passaram_pela_unidade.reset_index(drop=False, names='cod_usuario', inplace=True)\n",
    "passaram_pela_unidade.columns = ['cod_usuario', 'primeira_passagem_unidade']\n",
    "\n",
    "# Mostra os primeiros cinco pacientes\n",
    "passaram_pela_unidade.head(5)"
   ]
  },
  {
   "cell_type": "markdown",
   "metadata": {},
   "source": [
    "Então, filtrar os pacientes que estiverem nesta lista. Deles, ainda, aqueles que tiveram um primeiro atendimento antes da internação."
   ]
  },
  {
   "cell_type": "code",
   "execution_count": 7,
   "metadata": {},
   "outputs": [
    {
     "name": "stdout",
     "output_type": "stream",
     "text": [
      "<class 'pandas.core.frame.DataFrame'>\n",
      "RangeIndex: 19834 entries, 0 to 19833\n",
      "Data columns (total 29 columns):\n",
      " #   Column       Non-Null Count  Dtype\n",
      "---  ------       --------------  -----\n",
      " 0   cod_usuario  19834 non-null  int64\n",
      " 1   classe       19834 non-null  int64\n",
      " 2   A            19834 non-null  int64\n",
      " 3   B            19834 non-null  int64\n",
      " 4   C            19834 non-null  int64\n",
      " 5   D            19834 non-null  int64\n",
      " 6   E            19834 non-null  int64\n",
      " 7   F            19834 non-null  int64\n",
      " 8   G            19834 non-null  int64\n",
      " 9   H            19834 non-null  int64\n",
      " 10  I            19834 non-null  int64\n",
      " 11  J            19834 non-null  int64\n",
      " 12  K            19834 non-null  int64\n",
      " 13  L            19834 non-null  int64\n",
      " 14  M            19834 non-null  int64\n",
      " 15  N            19834 non-null  int64\n",
      " 16  NA           19834 non-null  int64\n",
      " 17  O            19834 non-null  int64\n",
      " 18  P            19834 non-null  int64\n",
      " 19  Q            19834 non-null  int64\n",
      " 20  R            19834 non-null  int64\n",
      " 21  S            19834 non-null  int64\n",
      " 22  T            19834 non-null  int64\n",
      " 23  U            19834 non-null  int64\n",
      " 24  V            19834 non-null  int64\n",
      " 25  W            19834 non-null  int64\n",
      " 26  X            19834 non-null  int64\n",
      " 27  Y            19834 non-null  int64\n",
      " 28  Z            19834 non-null  int64\n",
      "dtypes: int64(29)\n",
      "memory usage: 4.4 MB\n"
     ]
    }
   ],
   "source": [
    "\n",
    "# Filtra apenas pacientes que ja haviam passado pela unidade\n",
    "data = pd.merge(data, passaram_pela_unidade, how='inner', on='cod_usuario')\n",
    "data = data[data['primeira_passagem_unidade'] <= data['data_atendimento'] ]\n"
   ]
  },
  {
   "cell_type": "markdown",
   "metadata": {},
   "source": [
    "Por fim, é possível contar a frequência de cada um dos CID por paciente. Isto é realizado, gerando uma matriz de frequência na forma esparsa."
   ]
  },
  {
   "cell_type": "code",
   "execution_count": 29,
   "metadata": {},
   "outputs": [
    {
     "name": "stdout",
     "output_type": "stream",
     "text": [
      "data.columns=Index(['cod_usuario', 'classe', 'A', 'B', 'C', 'D', 'E', 'F', 'G', 'H', 'I',\n",
      "       'J', 'K', 'L', 'M', 'N', 'NA', 'O', 'P', 'Q', 'R', 'S', 'T', 'U', 'V',\n",
      "       'W', 'X', 'Y', 'Z'],\n",
      "      dtype='object')\n",
      "<class 'pandas.core.frame.DataFrame'>\n",
      "RangeIndex: 602954 entries, 0 to 602953\n",
      "Data columns (total 29 columns):\n",
      " #   Column       Non-Null Count   Dtype\n",
      "---  ------       --------------   -----\n",
      " 0   cod_usuario  602954 non-null  int64\n",
      " 1   classe       602954 non-null  int64\n",
      " 2   A            602954 non-null  int64\n",
      " 3   B            602954 non-null  int64\n",
      " 4   C            602954 non-null  int64\n",
      " 5   D            602954 non-null  int64\n",
      " 6   E            602954 non-null  int64\n",
      " 7   F            602954 non-null  int64\n",
      " 8   G            602954 non-null  int64\n",
      " 9   H            602954 non-null  int64\n",
      " 10  I            602954 non-null  int64\n",
      " 11  J            602954 non-null  int64\n",
      " 12  K            602954 non-null  int64\n",
      " 13  L            602954 non-null  int64\n",
      " 14  M            602954 non-null  int64\n",
      " 15  N            602954 non-null  int64\n",
      " 16  NA           602954 non-null  int64\n",
      " 17  O            602954 non-null  int64\n",
      " 18  P            602954 non-null  int64\n",
      " 19  Q            602954 non-null  int64\n",
      " 20  R            602954 non-null  int64\n",
      " 21  S            602954 non-null  int64\n",
      " 22  T            602954 non-null  int64\n",
      " 23  U            602954 non-null  int64\n",
      " 24  V            602954 non-null  int64\n",
      " 25  W            602954 non-null  int64\n",
      " 26  X            602954 non-null  int64\n",
      " 27  Y            602954 non-null  int64\n",
      " 28  Z            602954 non-null  int64\n",
      "dtypes: int64(29)\n",
      "memory usage: 133.4 MB\n"
     ]
    }
   ],
   "source": [
    "# Adiciona um para cada cid\n",
    "data['quantidade'] = 1\n",
    "\n",
    "# Transpoe a soma das quantidades\n",
    "data = data.pivot_table(\n",
    "    index=['cod_usuario', 'classe'], \n",
    "    columns='cid', \n",
    "    values='quantidade', \n",
    "    aggfunc='sum',\n",
    "    fill_value=0\n",
    "    )\n",
    "\n",
    "# Corrige as colunas\n",
    "data.columns = [col for col in data.columns.values]\n",
    "data = data.reset_index()\n",
    "\n",
    "# Mostra os novos dados\n",
    "print(f'{data.columns=}')\n",
    "data.info()"
   ]
  },
  {
   "cell_type": "markdown",
   "metadata": {},
   "source": [
    "Um grande problema, evidentemente, é o desbalanceamento entre os pacientes internados e não internados."
   ]
  },
  {
   "cell_type": "code",
   "execution_count": 9,
   "metadata": {},
   "outputs": [
    {
     "data": {
      "text/plain": [
       "classe\n",
       "-1    19536\n",
       " 1      298\n",
       "Name: count, dtype: int64"
      ]
     },
     "execution_count": 9,
     "metadata": {},
     "output_type": "execute_result"
    }
   ],
   "source": [
    "data['classe'].value_counts()"
   ]
  },
  {
   "cell_type": "markdown",
   "metadata": {},
   "source": [
    "Abaixo, o gráfico de correlação de todas as variáveis que serão utilizadas para a modelagem.\n",
    "\n",
    "A presença de correlação próxima a zero é esperada, uma vez que a matriz é esparsa. "
   ]
  },
  {
   "cell_type": "code",
   "execution_count": 10,
   "metadata": {},
   "outputs": [
    {
     "data": {
      "text/plain": [
       "<Axes: >"
      ]
     },
     "execution_count": 10,
     "metadata": {},
     "output_type": "execute_result"
    },
    {
     "data": {
      "image/png": "[encoded data removed]",
      "text/plain": [
       "<Figure size 1000x800 with 2 Axes>"
      ]
     },
     "metadata": {},
     "output_type": "display_data"
    }
   ],
   "source": [
    "plt.figure(figsize=(10, 8))\n",
    "sns.heatmap(\n",
    "    data[[c for c in data.columns if c != 'cod_usuario']].corr(), \n",
    "    annot=False, \n",
    "    cmap='coolwarm', \n",
    "    vmin=-1, \n",
    "    vmax=1)"
   ]
  },
  {
   "cell_type": "markdown",
   "metadata": {},
   "source": [
    "### Tratando dados para o modelo"
   ]
  },
  {
   "cell_type": "markdown",
   "metadata": {},
   "source": [
    "Apenas determinando quais serão as variáveis explicadas (y) e as explicativas (X) do modelo."
   ]
  },
  {
   "cell_type": "code",
   "execution_count": 11,
   "metadata": {},
   "outputs": [
    {
     "name": "stdout",
     "output_type": "stream",
     "text": [
      "X.shape=(19834, 27)\n",
      "y.shape=(19834,)\n"
     ]
    }
   ],
   "source": [
    "# Define X e Y\n",
    "X = data.drop(['classe', 'cod_usuario'], axis=1)\n",
    "y = data['classe']\n",
    "\n",
    "\n",
    "print('O formato da base de dados: ')\n",
    "print(f'{X.shape=}\\n{y.shape=}')"
   ]
  },
  {
   "cell_type": "markdown",
   "metadata": {},
   "source": [
    "Desta forma, os dados serão divididos entre treino e teste, sendo 25% para testes."
   ]
  },
  {
   "cell_type": "code",
   "execution_count": 12,
   "metadata": {},
   "outputs": [
    {
     "name": "stdout",
     "output_type": "stream",
     "text": [
      "X_train.shape=(426, 27)\n",
      "y_train.shape=(426,)\n",
      "X_test.shape=(4959, 27)\n",
      "y_test.shape=(4959,)\n"
     ]
    }
   ],
   "source": [
    "\n",
    "X_train, X_test, \\\n",
    "y_train, y_test = train_test_split(X, \n",
    "                                   y, \n",
    "                                   test_size=0.25)\n",
    "\n"
   ]
  },
  {
   "cell_type": "markdown",
   "metadata": {},
   "source": [
    "Como de praxe para modelagens de classificação, os dados serão padronizados em um intervalo utilizando sua média e desvio padrão. A média e desvio padrão utilizados para isto, serão as da base de dados de treino."
   ]
  },
  {
   "cell_type": "code",
   "execution_count": 31,
   "metadata": {},
   "outputs": [],
   "source": [
    "# Coleta os parametros da base de treinos\n",
    "sts = StandardScaler()\n",
    "sts.fit(X_train)\n",
    "\n",
    "# Padroniza os dados\n",
    "X_train = sts.transform(X_train)\n",
    "X_test = sts.transform(X_test)\n"
   ]
  },
  {
   "cell_type": "markdown",
   "metadata": {},
   "source": [
    "O desbalanceamento das classes ainda segue como um problema para a modelagem. \n",
    "\n",
    "Para isto, os dados com maior frequência serão aleatoriamente reduzidos de forma para transformá-los com a mesma quantidade de observações da classe minoritária."
   ]
  },
  {
   "cell_type": "code",
   "execution_count": null,
   "metadata": {},
   "outputs": [],
   "source": [
    "\n",
    "# Under sample os nao internados\n",
    "rus = RandomUnderSampler(random_state=123)\n",
    "X_train, y_train = rus.fit_resample(X_train, y_train)\n",
    "\n",
    "\n",
    "print('Nova forma de dados: ')\n",
    "print(f'{X_train.shape=}\\n{y_train.shape=}')\n",
    "print(f'{X_test.shape=}\\n{y_test.shape=}')"
   ]
  },
  {
   "cell_type": "markdown",
   "metadata": {},
   "source": [
    "### Model tunning\n",
    "\n",
    "Com dados em mãos, é possível inciar a modelagem. Serão comparados os modelos de SVM e Redes Neurais.\n",
    "\n",
    "Para otimizar os parâmetros (hyperparameter tunning) dos modelos, será utilizada a biblioteca `GridSearchCV`, que realiza iterações por todas as possíveis combinações de parâmetros selecionados."
   ]
  },
  {
   "cell_type": "markdown",
   "metadata": {},
   "source": [
    "#### SVM\n",
    "\n",
    "Os parâmetros a serem alternados são os C, com trinta valores aleatórios, os kernels e seus graus."
   ]
  },
  {
   "cell_type": "code",
   "execution_count": 14,
   "metadata": {},
   "outputs": [
    {
     "name": "stdout",
     "output_type": "stream",
     "text": [
      "\n",
      "Os melhores parâmetros:\n",
      "{'C': 29.463913016731794, 'degree': 1, 'kernel': 'poly'}\n",
      "\n",
      "              precision    recall  f1-score   support\n",
      "\n",
      "          -1       0.99      0.64      0.78      4874\n",
      "           1       0.04      0.81      0.07        85\n",
      "\n",
      "    accuracy                           0.64      4959\n",
      "   macro avg       0.52      0.72      0.42      4959\n",
      "weighted avg       0.98      0.64      0.76      4959\n",
      "\n",
      "MCC: 0.11999944335459355\n",
      "ROC AUC: 0.7234859639383042\n"
     ]
    }
   ],
   "source": [
    "\n",
    "\n",
    "svm_grid_parameters = {\n",
    "    'C': [random() * (100 * random()) for _ in range(30)],\n",
    "    'kernel': ['poly', 'rbf','sigmoid'], \n",
    "    'degree': [_ for _ in range(1, 5)], \n",
    "}\n",
    "\n",
    "svm = SVC(random_state=123)\n",
    "\n",
    "svm_grid = GridSearchCV(estimator = svm, \n",
    "                        param_grid = svm_grid_parameters, \n",
    "                        scoring='roc_auc'\n",
    "                        )\n",
    "\n",
    "\n",
    "svm_grid.fit(X_train, y_train)\n",
    "\n",
    "# Para calcular medidas\n",
    "best_svm_y_pred = svm_grid.best_estimator_.predict(X_test)\n",
    "\n",
    "# Mostra as medidas\n",
    "print()\n",
    "print('Os melhores parâmetros:')\n",
    "print(svm_grid.best_params_)\n",
    "\n",
    "print()\n",
    "print(classification_report(y_test, best_svm_y_pred))\n",
    "print(f'MCC: {matthews_corrcoef(y_test, best_svm_y_pred)}')\n",
    "print(f'ROC AUC: {roc_auc_score(y_test, best_svm_y_pred)}')\n"
   ]
  },
  {
   "cell_type": "markdown",
   "metadata": {},
   "source": [
    "#### Redes Neurais (NN)\n",
    "\n",
    "Para as redes neurais, será utilizada uma arquitetura única:\n",
    "\n",
    "- Camada de entrada\n",
    "- Camada 01 com 32 neurônios e funções ReLu de ativação\n",
    "- Camada 02 com 16 neurônios e funções ReLu de ativação\n",
    "- Camada de saída, com um neurônio e função sigmoide\n",
    "\n",
    "Porém, alternando o número de observações para estimação de cada época (`batch`) e o número de épocas, `epoch`."
   ]
  },
  {
   "cell_type": "code",
   "execution_count": 15,
   "metadata": {},
   "outputs": [
    {
     "name": "stdout",
     "output_type": "stream",
     "text": [
      "WARNING:tensorflow:5 out of the last 7 calls to <function TensorFlowTrainer.make_predict_function.<locals>.one_step_on_data_distributed at 0x7ff7b841b060> triggered tf.function retracing. Tracing is expensive and the excessive number of tracings could be due to (1) creating @tf.function repeatedly in a loop, (2) passing tensors with different shapes, (3) passing Python objects instead of tensors. For (1), please define your @tf.function outside of the loop. For (2), @tf.function has reduce_retracing=True option that can avoid unnecessary retracing. For (3), please refer to https://www.tensorflow.org/guide/function#controlling_retracing and https://www.tensorflow.org/api_docs/python/tf/function for  more details.\n",
      "WARNING:tensorflow:6 out of the last 9 calls to <function TensorFlowTrainer.make_predict_function.<locals>.one_step_on_data_distributed at 0x7ff7b841b060> triggered tf.function retracing. Tracing is expensive and the excessive number of tracings could be due to (1) creating @tf.function repeatedly in a loop, (2) passing tensors with different shapes, (3) passing Python objects instead of tensors. For (1), please define your @tf.function outside of the loop. For (2), @tf.function has reduce_retracing=True option that can avoid unnecessary retracing. For (3), please refer to https://www.tensorflow.org/guide/function#controlling_retracing and https://www.tensorflow.org/api_docs/python/tf/function for  more details.\n",
      "\n",
      "Os melhores parâmetros:\n",
      "{'batch_size': 64, 'epochs': 30}\n",
      "\n",
      "              precision    recall  f1-score   support\n",
      "\n",
      "          -1       0.99      0.60      0.75      4874\n",
      "           1       0.03      0.74      0.06        85\n",
      "\n",
      "    accuracy                           0.60      4959\n",
      "   macro avg       0.51      0.67      0.40      4959\n",
      "weighted avg       0.98      0.60      0.73      4959\n",
      "\n",
      "MCC: 0.08960387794178436\n",
      "ROC AUC: 0.6696239349248111\n"
     ]
    }
   ],
   "source": [
    "\n",
    "# Factory de rede neural\n",
    "def criar_rede_neural() -> Sequential:\n",
    "    \n",
    "    # Cria modelo\n",
    "    model = Sequential()\n",
    "    \n",
    "    # Adiciona camada de input\n",
    "    model.add(Input((27,)))\n",
    "    model.add(Dense(32, activation='relu'))\n",
    "    model.add(Dense(16, activation='relu'))\n",
    "    model.add(Dense(1, activation='sigmoid'))\n",
    "    \n",
    "    model.compile(optimizer='adam', \n",
    "                  loss='binary_crossentropy', \n",
    "                  metrics=['accuracy'])\n",
    "    \n",
    "    return model\n",
    "\n",
    "# Cria rede neural\n",
    "NN = KerasClassifier(model=criar_rede_neural, verbose=0)\n",
    "\n",
    "# Parametros para otimizacao\n",
    "NN_grid_parameters = {\n",
    "    'batch_size': [32, 64],\n",
    "    'epochs': [30, 50, 100],\n",
    "}\n",
    "\n",
    "# Gera a busca\n",
    "NN_grid = GridSearchCV(estimator=NN, param_grid=NN_grid_parameters)\n",
    "NN_grid.fit(X_train, y_train)\n",
    "\n",
    "# Para calcular medidas\n",
    "best_NN_y_pred = NN_grid.best_estimator_.predict(X_test)\n",
    "\n",
    "# Mostra as medidas\n",
    "print()\n",
    "print('Os melhores parâmetros:')\n",
    "print(NN_grid.best_params_)\n",
    "\n",
    "print()\n",
    "print(classification_report(y_test, best_NN_y_pred))\n",
    "print(f'MCC: {matthews_corrcoef(y_test, best_NN_y_pred)}')\n",
    "print(f'ROC AUC: {roc_auc_score(y_test, best_NN_y_pred)}')\n"
   ]
  },
  {
   "cell_type": "markdown",
   "metadata": {},
   "source": [
    "# Equivalência em R\n",
    "\n",
    "Utilizando R, os tratamentos iniciais seriam realizados utilizando o pacote `dplyr`.\n",
    "\n",
    "A segregação entre base de dados de treino e teste, por meio do método `sample`, nativo do R.\n",
    "\n",
    "A normalização dos dados, utilizando o comando nativo `scale`.\n",
    "\n",
    "O undersampling dos dados, utilizando o pacote `ROSE`, seria obtido pelo método `ROSE::ovun.sample`, passando o parâmetro `method=\"under\"`.\n",
    "\n",
    "O hypertunning dos parâmetros se daria pelo `expand.grid()` dos possíveis parâmetros e passado como `tuneGrid` nos comandos `train` para cada modelo.\n",
    "\n",
    "A modelagem do SVM, pelo pacote `e1071`, com o método `e1071::svm()`.\n",
    "\n",
    "A modelagem das redes neurais, seria realizada pelo pacote `keras`, que corresponde ao Keras do Python. \n"
   ]
  },
  {
   "cell_type": "markdown",
   "metadata": {},
   "source": [
    "## Considerações finais\n",
    "\n",
    "É importante ressaltar que nenhum dos modelos foi muito eficiente para a tarefa. Talvez, a especificação do problema possa ser refinada, ou mesmo não faça sentido utilizar apenas as classes gerais dos CID para doenças. Também, um oversampling talvez melhore a performance dos modelos, mas não possuo capacidade computacional para isto.\n"
   ]
  }
 ],
 "metadata": {
  "kernelspec": {
   "display_name": "mestrado",
   "language": "python",
   "name": "python3"
  },
  "language_info": {
   "codemirror_mode": {
    "name": "ipython",
    "version": 3
   },
   "file_extension": ".py",
   "mimetype": "text/x-python",
   "name": "python",
   "nbconvert_exporter": "python",
   "pygments_lexer": "ipython3",
   "version": "3.12.2"
  }
 },
 "nbformat": 4,
 "nbformat_minor": 2
}
