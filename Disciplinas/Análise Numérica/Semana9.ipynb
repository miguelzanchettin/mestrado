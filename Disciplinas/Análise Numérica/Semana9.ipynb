{
 "cells": [
  {
   "cell_type": "code",
   "execution_count": 96,
   "metadata": {},
   "outputs": [],
   "source": [
    "import math\n",
    "import numpy as np\n",
    "from itertools import islice\n"
   ]
  },
  {
   "cell_type": "markdown",
   "metadata": {},
   "source": [
    "## Atividade 01 - Capítulo 05 (Ruggiero)\n",
    "\n",
    "Cálculos realizados para o exercício."
   ]
  },
  {
   "cell_type": "code",
   "execution_count": 11,
   "metadata": {},
   "outputs": [
    {
     "data": {
      "text/plain": [
       "array([-48.65367,  23.53112,  -0.20663])"
      ]
     },
     "execution_count": 11,
     "metadata": {},
     "output_type": "execute_result"
    }
   ],
   "source": [
    "\n",
    "A = np.array([[1.00, 2.80, 3.84 ], \n",
    "              [1.00, 3.00, 9.00 ], \n",
    "              [1.00, 3.20, 10.24]], dtype=float)\n",
    "\n",
    "b = np.array([16.44, 20.08, 24.53], dtype=float)\n",
    "\n",
    "a = np.round(np.linalg.solve(A, b), 5)\n",
    "a"
   ]
  },
  {
   "cell_type": "markdown",
   "metadata": {},
   "source": [
    "## Atividade 09 - Capítulo 05 (Ruggiero)\n",
    "\n",
    "#### Implementação algoritmica"
   ]
  },
  {
   "cell_type": "code",
   "execution_count": 106,
   "metadata": {},
   "outputs": [],
   "source": [
    "class Interpolador():\n",
    "\n",
    "    def __init__(self, decimals: int = 8, \n",
    "                 treshold_degree: float = 0.05\n",
    "                 ):\n",
    "        \n",
    "        self.decimals = decimals\n",
    "        self.treshold_degree = treshold_degree\n",
    "        pass\n",
    "    \n",
    "    def _calcular_passo_inicial(self, \n",
    "                                X: np.array, \n",
    "                                y: np.array\n",
    "                                ) -> list:\n",
    "        \"\"\"\n",
    "        Estima passo inicial\n",
    "        \"\"\"\n",
    "        _y = []\n",
    "        n = X.shape[0]\n",
    "\n",
    "        for i in range(n):\n",
    "            if (i > 0):\n",
    "                a = (y[i - 1] - y[i]) / (X[i - 1] - X[i])\n",
    "                a = np.round(a, self.decimals)\n",
    "                b = (i - 1, i)\n",
    "                _y.append({a: b})\n",
    "        \n",
    "        return _y\n",
    "\n",
    "    def _calcular_demais_passos(self, \n",
    "                                X: np.array, \n",
    "                                y: list\n",
    "                                ) -> list:\n",
    "        \"\"\"\n",
    "        Calcula demais passos\n",
    "        \"\"\"\n",
    "        _y = []\n",
    "        n = len(y)\n",
    "\n",
    "        for i in range(n):\n",
    "            if (i > 0):\n",
    "                \n",
    "                _xi_from = list(islice(y[i - 1].values(), 1))[0][0]\n",
    "                _xi_to = list(islice(y[i].values(), 1))[0][1]\n",
    "\n",
    "                _y_from = list(islice(y[i - 1].keys(), 1))[0]\n",
    "                _y_to = list(islice(y[i].keys(), 1))[0]\n",
    "\n",
    "                a = (_y_from - _y_to) / (X[_xi_from] - X[_xi_to])\n",
    "                a = np.round(a, self.decimals)\n",
    "                b = (_xi_from, _xi_to)\n",
    "\n",
    "                _y.append({a: b})\n",
    "        \n",
    "        return _y\n",
    "    \n",
    "    def _get_tabela_diferencas(self, \n",
    "                               X: np.array, \n",
    "                               y: np.array\n",
    "                               ) -> dict[int, list]:\n",
    "        \"\"\"\n",
    "        Calcula tabela de diferenças\n",
    "        \"\"\"\n",
    "        diferencas = {}\n",
    "        \n",
    "        diferencas[0] = [{np.float64(valor): (i, i)} for i, valor in enumerate(y)]\n",
    "\n",
    "        _y = self._calcular_passo_inicial(X, y)\n",
    "        diferencas[1] = _y\n",
    "\n",
    "        grau = 2\n",
    "\n",
    "        while True:\n",
    "            try:\n",
    "                _y = self._calcular_demais_passos(X, _y)\n",
    "                if not _y: \n",
    "                    break\n",
    "                diferencas[grau] = _y\n",
    "            except:\n",
    "                break\n",
    "\n",
    "            grau += 1\n",
    "\n",
    "        return diferencas\n",
    "    \n",
    "    def _escolher_polinomios(self,\n",
    "                             tabela_diferencas: dict[int, list], \n",
    "                             ) -> int:\n",
    "        \"\"\"\n",
    "        Escolhe polinômios baeado no treshold de validação.\n",
    "\n",
    "        Para isto, utiliza o coeficiente de variação aplicado\n",
    "        aos níveis da tabela de diferenças. \n",
    "\n",
    "        O primeiro polinõmio que seja menor que treshold, \n",
    "        é escolhido.\n",
    "\n",
    "        \"\"\"\n",
    "\n",
    "        somas = []\n",
    "        \n",
    "        for diferencas in tabela_diferencas.values():\n",
    "            soma = []\n",
    "            for diferenca in diferencas:\n",
    "                soma.append(list(islice(diferenca.keys(), 1))[0])\n",
    "            soma = np.array(soma)\n",
    "            soma = np.std(soma) / abs(np.mean(soma))\n",
    "            somas.append(soma)\n",
    "\n",
    "        for i, soma in enumerate(somas):\n",
    "            if i > 0:\n",
    "                if (i + 1) <= len(somas):\n",
    "                    if (somas[i] <= self.treshold_degree):\n",
    "                        print(f'Grau escolhido automaticamente: {i}')\n",
    "                        return i\n",
    "            \n",
    "        print('Utilizando maior polinômio possível')\n",
    "        return len(somas)\n",
    "\n",
    "    def _estimar_M(self, \n",
    "                   tabela_diferencas: dict[int, list], \n",
    "                   degree: int\n",
    "                   ) -> float:\n",
    "\n",
    "        M = 0\n",
    "\n",
    "        for i, diferencas in tabela_diferencas.items():\n",
    "            if i <= (degree + 1):\n",
    "                for diferenca in diferencas:\n",
    "                    m = abs(list(islice(diferenca.keys(), 1))[0])\n",
    "                    if m > M:\n",
    "                        M = m\n",
    "\n",
    "        return M\n",
    "\n",
    "    def fit(self,\n",
    "            X: np.array, \n",
    "            y: np.array,\n",
    "            degree: int = None\n",
    "            ) -> None:\n",
    "        \n",
    "        \"\"\"\n",
    "            Estima tabela de diferenças e realiza escolha de polinômio.\n",
    "        \"\"\"\n",
    "\n",
    "        tabela_diferencas = self._get_tabela_diferencas(X, y)\n",
    "        self.tabela_diferencas = tabela_diferencas\n",
    "        \n",
    "        self.degree = degree if degree else self._escolher_polinomios(tabela_diferencas)\n",
    "        self.X = np.copy(X)\n",
    "        self.y = np.copy(y)\n",
    "\n",
    "        return\n",
    "    \n",
    "    def predict(self, \n",
    "                x: np.array\n",
    "                ) -> np.array:\n",
    "        \n",
    "        if type(self.X) == type(None) \\\n",
    "        or type(self.X) == type(None) \\\n",
    "        or not self.degree:\n",
    "            raise AttributeError('É necessário treinar o interpolador antes')\n",
    "\n",
    "        distancias = np.abs(self.X - x)\n",
    "        _y = self.y[np.argsort(distancias)[:self.degree + 1]]\n",
    "\n",
    "        _X = self.X[np.argsort(distancias)[:self.degree + 1]]\n",
    "        M = self._estimar_M(self.tabela_diferencas, self.degree)\n",
    "        E = np.abs(np.prod(_X)) * (M / math.factorial(self.degree + 1))\n",
    "        print(f'Erro estimado: |f(x) - p(x)| < {E}')\n",
    "\n",
    "        k = 0\n",
    "\n",
    "        n = _y.shape[0]\n",
    "        A = np.zeros((n, self.degree + 1))\n",
    "\n",
    "        A[:, 0] = 1\n",
    "        for i in range(1, self.degree + 1):\n",
    "            A[:, i] = _y ** (i + 1)\n",
    "\n",
    "        a = np.linalg.solve(A, _y)\n",
    "        self.a = a\n",
    "\n",
    "        r = self.a[0]\n",
    "        for i in range(1, self.degree + 1):\n",
    "            r += self.a[i] * (x ** i)\n",
    "\n",
    "        return r\n",
    "    \n"
   ]
  },
  {
   "cell_type": "markdown",
   "metadata": {},
   "source": [
    "#### Exemplo do capítulo 5.6.1"
   ]
  },
  {
   "cell_type": "code",
   "execution_count": 107,
   "metadata": {},
   "outputs": [
    {
     "name": "stdout",
     "output_type": "stream",
     "text": [
      "Grau escolhido automaticamente: 1\n",
      "Erro estimado: |f(x) - p(x)| < 0.5174735\n"
     ]
    },
    {
     "name": "stderr",
     "output_type": "stream",
     "text": [
      "/tmp/ipykernel_62038/867832290.py:107: RuntimeWarning: divide by zero encountered in scalar divide\n",
      "  soma = np.std(soma) / abs(np.mean(soma))\n"
     ]
    },
    {
     "data": {
      "text/plain": [
       "np.float64(1.0)"
      ]
     },
     "execution_count": 107,
     "metadata": {},
     "output_type": "execute_result"
    }
   ],
   "source": [
    "\n",
    "X = np.array([1, 1.01   , 1.02  , 1.030     , 1.04      , 1.05  ], dtype=float)\n",
    "y = np.array([1, 1.005  , 1.01  , 1.0149    , 1.0198    , 1.0247], dtype=float)\n",
    "\n",
    "interpolador = Interpolador(decimals=5, treshold_degree=0.05)\n",
    "interpolador.fit(X, y)\n",
    "\n",
    "interpolador.predict(1)\n"
   ]
  },
  {
   "cell_type": "markdown",
   "metadata": {},
   "source": [
    "#### Exercício 09\n",
    "\n",
    "**a. Estime o valor de f(1.23) da melhor maneira possível, de forma que se possa estimar o erro cometido.**\n"
   ]
  },
  {
   "cell_type": "code",
   "execution_count": 109,
   "metadata": {},
   "outputs": [
    {
     "name": "stdout",
     "output_type": "stream",
     "text": [
      "Grau escolhido automaticamente: 3\n",
      "\n",
      "Tabela de diferenças: \n",
      "0 [{np.float64(-2.78): (0, 0)}, {np.float64(-2.241): (1, 1)}, {np.float64(-1.65): (2, 2)}, {np.float64(-0.594): (3, 3)}, {np.float64(1.34): (4, 4)}, {np.float64(4.564): (5, 5)}]\n",
      "1 [{np.float64(1.078): (0, 1)}, {np.float64(1.182): (1, 2)}, {np.float64(2.112): (2, 3)}, {np.float64(3.868): (3, 4)}, {np.float64(6.448): (4, 5)}]\n",
      "2 [{np.float64(0.104): (0, 2)}, {np.float64(0.93): (1, 3)}, {np.float64(1.756): (2, 4)}, {np.float64(2.58): (3, 5)}]\n",
      "3 [{np.float64(0.55067): (0, 3)}, {np.float64(0.55067): (1, 4)}, {np.float64(0.54933): (2, 5)}]\n",
      "4 [{np.float64(-0.0): (0, 4)}, {np.float64(-0.00067): (1, 5)}]\n",
      "5 [{np.float64(-0.00027): (0, 5)}]\n",
      "\n",
      "Erro estimado: |f(x) - p(x)| < 0.403\n",
      "p(x = 1.23) = 0.62753\n"
     ]
    }
   ],
   "source": [
    "\n",
    "# Define vetores\n",
    "X = np.array([0.0   , 0.5       , 1.0   , 1.5       , 2.0   , 2.5   ], dtype=np.float64)\n",
    "y = np.array([-2.78 , -2.241    , -1.65 , -0.594    , 1.34  , 4.564 ], dtype=np.float64)\n",
    "\n",
    "# Calcula interpolacao\n",
    "interpolador = Interpolador(decimals=5, treshold_degree=0.05)\n",
    "interpolador.fit(X, y)\n",
    "\n",
    "# Imprime tabela de diferencas\n",
    "print('\\nTabela de diferenças: ')\n",
    "for _ in interpolador.tabela_diferencas:\n",
    "    print(_, interpolador.tabela_diferencas[_])\n",
    "\n",
    "# Imprime a predicao\n",
    "print()\n",
    "print(f'p(x = 1.23) = {round(interpolador.predict(1.23), 5)}')\n",
    "\n"
   ]
  },
  {
   "cell_type": "markdown",
   "metadata": {},
   "source": [
    "**b. Justifique o grau de polinômio que você escolheu para resolver o item a**\n",
    "\n",
    "O cálculo foi implementado conforme o exemplo do capítulo 5.6.1. Nele, se utiliza o primeiro polinômio considerado constante, do menor para o maior.\n",
    "\n",
    "Para isto, foi implementada uma lógica que varre toda a tabela de diferenças encontrando o coeficiente de variação (desvio padrão sobre a média), que seja menor do que um valor predefinido. Neste caso, 0.05. Assim, optou-se pelo polinômio 3."
   ]
  }
 ],
 "metadata": {
  "kernelspec": {
   "display_name": ".venv",
   "language": "python",
   "name": "python3"
  },
  "language_info": {
   "codemirror_mode": {
    "name": "ipython",
    "version": 3
   },
   "file_extension": ".py",
   "mimetype": "text/x-python",
   "name": "python",
   "nbconvert_exporter": "python",
   "pygments_lexer": "ipython3",
   "version": "3.9.2"
  }
 },
 "nbformat": 4,
 "nbformat_minor": 2
}
