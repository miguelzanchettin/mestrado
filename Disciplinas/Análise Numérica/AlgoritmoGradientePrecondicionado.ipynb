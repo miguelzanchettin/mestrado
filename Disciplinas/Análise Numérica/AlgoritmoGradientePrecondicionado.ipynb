{
 "cells": [
  {
   "cell_type": "code",
   "execution_count": 1,
   "metadata": {},
   "outputs": [
    {
     "name": "stdout",
     "output_type": "stream",
     "text": [
      "Python 3.11.7\n",
      "Note: you may need to restart the kernel to use updated packages.\n"
     ]
    }
   ],
   "source": [
    "!python --version\n",
    "%pip install numpy -q\n",
    "import numpy as np"
   ]
  },
  {
   "cell_type": "markdown",
   "metadata": {},
   "source": [
    "# Implementação do algoritmo"
   ]
  },
  {
   "cell_type": "code",
   "execution_count": 2,
   "metadata": {},
   "outputs": [],
   "source": [
    "\n",
    "\n",
    "class PCG:\n",
    "    \"\"\"\n",
    "    \n",
    "    ## Preconditioned Conjugate Gradient method to solve Ax = b.\n",
    "\n",
    "    ### Parameters:\n",
    "    tol (float): Tolerance for convergence (optional).\n",
    "    max_iter (int): Maximum number of iterations (optional).\n",
    "\n",
    "    \"\"\"\n",
    "\n",
    "    tol: float\n",
    "    max_iter: int\n",
    "\n",
    "    def __init__(self, tol=1e-10, max_iter=None) -> None:\n",
    "        self.tol = tol\n",
    "        self.max_iter = max_iter\n",
    "        return None\n",
    "\n",
    "    def solve(self, A, b, M_inv=None, x0=None) -> np.array:\n",
    "        \"\"\"\n",
    "        \n",
    "        ### Parameters:\n",
    "        A (ndarray): The matrix A of the system Ax = b (must be symmetric and positive-definite).\n",
    "        b (ndarray): The right-hand side vector.\n",
    "        M_inv (ndarray): Preconditioner matrix M^-1.\n",
    "        x0 (ndarray): Initial guess for the solution (optional).\n",
    "\n",
    "        ### Returns:\n",
    "        x (ndarray): The solution vector.\n",
    "\n",
    "        \"\"\"\n",
    "        n = len(b)\n",
    "\n",
    "        # Indicator\n",
    "        if M_inv is None:\n",
    "            M_inv = np.eye(n)\n",
    "        \n",
    "        # Set initial step as 0\n",
    "        if x0 is None:\n",
    "            x0 = np.zeros(n)\n",
    "\n",
    "        # Initial residual\n",
    "        r = b - A.dot(x0)\n",
    "        \n",
    "        # Apply preconditioner M^-1\n",
    "        z = M_inv.dot(r)\n",
    "        \n",
    "        # Initial direction\n",
    "        p = z.copy()\n",
    "        \n",
    "        # Initial solution\n",
    "        x = x0.copy()\n",
    "        \n",
    "        # Compute initial residual norm\n",
    "        res_norm = np.dot(r, z)\n",
    "        \n",
    "        for k in range(self.max_iter):\n",
    "            Ap = A.dot(p)\n",
    "            alpha = res_norm / np.dot(p, Ap)\n",
    "            \n",
    "            # Update solution\n",
    "            x = x + alpha * p\n",
    "            \n",
    "            # Update residual\n",
    "            r_new = r - alpha * Ap\n",
    "            \n",
    "            # Check for convergence\n",
    "            if np.linalg.norm(r_new) < self.tol:\n",
    "                print(f\"Converged in {k+1} iterations\")\n",
    "                return x\n",
    "                break\n",
    "            \n",
    "            # Apply preconditioner to the new residual\n",
    "            z_new = M_inv.dot(r_new)\n",
    "            \n",
    "            res_norm_new = np.dot(r_new, z_new)\n",
    "            beta = res_norm_new / res_norm\n",
    "            \n",
    "            # Update search direction\n",
    "            p = z_new + beta * p\n",
    "            \n",
    "            # Update residual norm and residual for next iteration\n",
    "            r = r_new\n",
    "            res_norm = res_norm_new\n",
    "\n",
    "        print(f'Did not converge in {k+1} iterations')\n",
    "        return x\n",
    "\n",
    "\n"
   ]
  },
  {
   "cell_type": "markdown",
   "metadata": {},
   "source": [
    "# Teste do algoritmo"
   ]
  },
  {
   "cell_type": "markdown",
   "metadata": {},
   "source": [
    "### Resolução do problema do Exemplo 2 (Cap. 7)\n",
    "\n",
    "Segundo o livro, deve retornar [3, 4, -5] em 3 iterações."
   ]
  },
  {
   "cell_type": "code",
   "execution_count": 3,
   "metadata": {},
   "outputs": [
    {
     "name": "stdout",
     "output_type": "stream",
     "text": [
      "Converged in 3 iterations\n"
     ]
    },
    {
     "data": {
      "text/plain": [
       "array([ 3.,  4., -5.])"
      ]
     },
     "execution_count": 3,
     "metadata": {},
     "output_type": "execute_result"
    }
   ],
   "source": [
    "\n",
    "A = np.array([[4, 3, 0],\n",
    "              [3, 4, -1], \n",
    "              [0, -1, 4]], dtype=float)\n",
    "\n",
    "b = np.array([24, 30, -24], dtype=float)\n",
    "\n",
    "M_inv = np.identity(b.shape[0])\n",
    "\n",
    "linalg = PCG(tol = 10e-5, max_iter=100)\n",
    "linalg.solve(A, b, M_inv)\n"
   ]
  },
  {
   "attachments": {
    "image.png": {
     "image/png": "[encoded data removed]"
    }
   },
   "cell_type": "markdown",
   "metadata": {},
   "source": [
    "### Resolução do problema do Exemplo 3 (Cap. 7)\n",
    "\n",
    "Segundo o livro, deve retornar:\n",
    "\n",
    "![image.png](attachment:image.png)"
   ]
  },
  {
   "cell_type": "code",
   "execution_count": 4,
   "metadata": {},
   "outputs": [
    {
     "name": "stdout",
     "output_type": "stream",
     "text": [
      "A=array([[ 2.e-01,  1.e-01,  1.e+00,  1.e+00,  0.e+00],\n",
      "       [ 1.e-01,  4.e+00, -1.e+00,  1.e+00, -1.e+00],\n",
      "       [ 1.e+00, -1.e+00,  6.e+01,  0.e+00, -2.e+00],\n",
      "       [ 1.e+00,  1.e+00,  0.e+00,  8.e+00,  4.e+00],\n",
      "       [ 0.e+00, -1.e+00, -2.e+00,  4.e+00,  7.e+02]])\n",
      "\n",
      "b=array([1., 2., 3., 4., 5.])\n",
      "\n",
      "M_inv=array([[2.23606798, 0.        , 0.        , 0.        , 0.        ],\n",
      "       [0.        , 0.5       , 0.        , 0.        , 0.        ],\n",
      "       [0.        , 0.        , 0.12909944, 0.        , 0.        ],\n",
      "       [0.        , 0.        , 0.        , 0.35355339, 0.        ],\n",
      "       [0.        , 0.        , 0.        , 0.        , 0.03779645]])\n",
      "\n"
     ]
    }
   ],
   "source": [
    "\n",
    "A = np.array([[0.2  , 0.1   , 1     , 1     , 0     ],\n",
    "              [0.1  , 4     , -1    , 1     , -1    ], \n",
    "              [1    , -1    , 60    , 0     , -2    ],\n",
    "              [1    , 1     , 0     , 8     , 4     ],\n",
    "              [0    , -1    , -2    , 4     , 700   ]], dtype=float)\n",
    "\n",
    "# (5, )\n",
    "b = np.array([1, 2, 3, 4, 5], dtype=float).T\n",
    "\n",
    "# (5,5)\n",
    "M_inv = np.diag(1 / np.sqrt(np.abs(np.diag(A)))) \n",
    "\n",
    "print(f'{A=}\\n')\n",
    "print(f'{b=}\\n')\n",
    "print(f'{M_inv=}\\n')\n"
   ]
  },
  {
   "cell_type": "code",
   "execution_count": 5,
   "metadata": {},
   "outputs": [
    {
     "name": "stdout",
     "output_type": "stream",
     "text": [
      "Converged in 5 iterations\n"
     ]
    },
    {
     "data": {
      "text/plain": [
       "array([ 7.85971308,  0.42292641, -0.07359224, -0.54064302,  0.01062616])"
      ]
     },
     "execution_count": 5,
     "metadata": {},
     "output_type": "execute_result"
    }
   ],
   "source": [
    "\n",
    "linalg = PCG(tol = 0.01, max_iter=1000)\n",
    "linalg.solve(A, b, M_inv)\n"
   ]
  },
  {
   "cell_type": "markdown",
   "metadata": {},
   "source": [
    "# Resolução exercício\n",
    "\n",
    "### Exercício 01 (Capítulo 07)\n",
    "\n",
    "O sistema linear \n",
    "\n",
    "$\n",
    " x_1 + \\dfrac{1}{2}x_2 = \\dfrac{5}{21}\n",
    "$\n",
    "\n",
    "$\n",
    " \\dfrac{1}{2} x_1 + \\dfrac{1}{3} x_2 = \\dfrac{11}{84}\n",
    "$\n",
    "\n",
    "tem resolução $(x_1, x_2)^t = (\\dfrac{1}{6}, \\dfrac{1}{7})$.\n"
   ]
  },
  {
   "cell_type": "code",
   "execution_count": 6,
   "metadata": {},
   "outputs": [
    {
     "name": "stdout",
     "output_type": "stream",
     "text": [
      "1 / 6 = 0.01639344262295082\n",
      "1 / 7 = 0.14285714285714285\n"
     ]
    }
   ],
   "source": [
    "# Para ter ideia de qual o resultado sem a fracao\n",
    "print(f'1 / 6 = {1/61}')\n",
    "print(f'1 / 7 = {1/7}')"
   ]
  },
  {
   "cell_type": "code",
   "execution_count": 7,
   "metadata": {},
   "outputs": [],
   "source": [
    "A = np.array([[1    , 1/2],\n",
    "              [1/2  , 1/3]], dtype=float)\n",
    "\n",
    "b = np.array([5/21, 11/84], dtype=float).T\n"
   ]
  },
  {
   "cell_type": "markdown",
   "metadata": {},
   "source": [
    "\n",
    "#### b) Resolva o sistema linear utilizando o método do gradiente conjugado $(C = C^{-1} = I)$ [...]\n"
   ]
  },
  {
   "cell_type": "code",
   "execution_count": 8,
   "metadata": {},
   "outputs": [
    {
     "name": "stdout",
     "output_type": "stream",
     "text": [
      "Converged in 2 iterations\n"
     ]
    },
    {
     "data": {
      "text/plain": [
       "array([0.16666667, 0.14285714])"
      ]
     },
     "execution_count": 8,
     "metadata": {},
     "output_type": "execute_result"
    }
   ],
   "source": [
    "\n",
    "# Utilizando a identidade como precondicionamento\n",
    "M_inv = np.eye(len(b))\n",
    "\n",
    "linalg = PCG(tol = 10e-5, max_iter=1000)\n",
    "linalg.solve(A, b, M_inv)\n"
   ]
  },
  {
   "cell_type": "markdown",
   "metadata": {},
   "source": [
    "\n",
    "#### d) Escolha $C^{-1} = D^{-\\frac{1}{2}}$. Esta escolha melhora o método do gradiente conjugado?"
   ]
  },
  {
   "cell_type": "code",
   "execution_count": 9,
   "metadata": {},
   "outputs": [
    {
     "name": "stdout",
     "output_type": "stream",
     "text": [
      "Converged in 2 iterations\n"
     ]
    },
    {
     "data": {
      "text/plain": [
       "array([0.16666667, 0.14285714])"
      ]
     },
     "execution_count": 9,
     "metadata": {},
     "output_type": "execute_result"
    }
   ],
   "source": [
    "\n",
    "# Utilizando a identidade como precondicionamento\n",
    "M_inv = np.diag(1 / np.sqrt(np.diag(A)))\n",
    "\n",
    "linalg = PCG(tol = 10e-5, max_iter=1000)\n",
    "linalg.solve(A, b, M_inv)\n"
   ]
  },
  {
   "cell_type": "markdown",
   "metadata": {},
   "source": [
    "Segundo a implementação, não melhora para um $\\epsilon$ (tolerância) muito pequena."
   ]
  },
  {
   "cell_type": "markdown",
   "metadata": {},
   "source": [
    "Por exemplo, tolerância $ = \\epsilon = 10e^{-20}$, o algoritmo com este método converge em 3 iterações."
   ]
  },
  {
   "cell_type": "code",
   "execution_count": 10,
   "metadata": {},
   "outputs": [
    {
     "name": "stdout",
     "output_type": "stream",
     "text": [
      "Converged in 3 iterations\n"
     ]
    },
    {
     "data": {
      "text/plain": [
       "array([0.16666667, 0.14285714])"
      ]
     },
     "execution_count": 10,
     "metadata": {},
     "output_type": "execute_result"
    }
   ],
   "source": [
    "\n",
    "# Utilizando a identidade como precondicionamento\n",
    "M_inv = np.diag(1 / np.sqrt(np.diag(A)))\n",
    "\n",
    "linalg = PCG(tol = 10e-20, max_iter=1000)\n",
    "linalg.solve(A, b, M_inv)\n"
   ]
  },
  {
   "cell_type": "markdown",
   "metadata": {},
   "source": [
    "Enquanto apenas a indicadora converge em 4 iterações"
   ]
  },
  {
   "cell_type": "code",
   "execution_count": 11,
   "metadata": {},
   "outputs": [
    {
     "name": "stdout",
     "output_type": "stream",
     "text": [
      "Converged in 4 iterations\n"
     ]
    },
    {
     "data": {
      "text/plain": [
       "array([0.16666667, 0.14285714])"
      ]
     },
     "execution_count": 11,
     "metadata": {},
     "output_type": "execute_result"
    }
   ],
   "source": [
    "\n",
    "# Utilizando a identidade como precondicionamento\n",
    "M_inv = np.eye(len(b))\n",
    "\n",
    "linalg = PCG(tol = 10e-20, max_iter=1000)\n",
    "linalg.solve(A, b, M_inv)\n"
   ]
  },
  {
   "cell_type": "markdown",
   "metadata": {},
   "source": [
    "Indicando, portanto, que o método tem uma sutil melhora na capacidade de convergência, devendo ser avaliado em outros problemas. \n",
    "\n",
    "Especialmente problemas mais complexos, com matrizes maiores."
   ]
  }
 ],
 "metadata": {
  "kernelspec": {
   "display_name": "base",
   "language": "python",
   "name": "python3"
  },
  "language_info": {
   "codemirror_mode": {
    "name": "ipython",
    "version": 3
   },
   "file_extension": ".py",
   "mimetype": "text/x-python",
   "name": "python",
   "nbconvert_exporter": "python",
   "pygments_lexer": "ipython3",
   "version": "3.11.7"
  }
 },
 "nbformat": 4,
 "nbformat_minor": 2
}
