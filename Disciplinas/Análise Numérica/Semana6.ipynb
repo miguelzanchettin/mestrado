{
 "cells": [
  {
   "cell_type": "code",
   "execution_count": 1,
   "metadata": {},
   "outputs": [],
   "source": [
    "\n",
    "from enum import Enum\n",
    "import numpy as np\n"
   ]
  },
  {
   "cell_type": "markdown",
   "metadata": {},
   "source": [
    "# Implementação algoritmica"
   ]
  },
  {
   "cell_type": "markdown",
   "metadata": {},
   "source": [
    "### Tipos de validações"
   ]
  },
  {
   "cell_type": "code",
   "execution_count": 2,
   "metadata": {},
   "outputs": [],
   "source": [
    "class CriterioGaussJacobi(Enum):\n",
    "    SASSENFELD = 'Critério de Sassenfeld'\n",
    "    LINHAS = 'Critério das linhas'\n",
    "    "
   ]
  },
  {
   "cell_type": "markdown",
   "metadata": {},
   "source": [
    "### Validações"
   ]
  },
  {
   "cell_type": "code",
   "execution_count": 3,
   "metadata": {},
   "outputs": [],
   "source": [
    "\n",
    "def validarCriterio(X: np.matrix, criterio: list[CriterioGaussJacobi] | CriterioGaussJacobi = None) -> bool:\n",
    "    \n",
    "    resultado = {}\n",
    "    n, m = X.shape\n",
    "\n",
    "    # Uses all\n",
    "    if not criterio:\n",
    "        criterio = [_ for _ in CriterioGaussJacobi]\n",
    "\n",
    "    # Make sure it is a list\n",
    "    if not isinstance(criterio, list):\n",
    "        criterio = [criterio]\n",
    "\n",
    "\n",
    "    if CriterioGaussJacobi.SASSENFELD in criterio:\n",
    "        \n",
    "        betas = np.ones(n)\n",
    "\n",
    "        for i in range(n):\n",
    "            soma = np.sum([abs(X[i, j]) * betas[j] for j in range(m) if i != j])\n",
    "            betas[i] = soma / X[i, i]\n",
    "\n",
    "        resultado[CriterioGaussJacobi.SASSENFELD.value] = np.max(betas) < 1\n",
    "    \n",
    "    if CriterioGaussJacobi.LINHAS in criterio:\n",
    "        \n",
    "        alphas = np.array([abs(X[i, j]) for j in range(m) for i in range(n) if i == j])\n",
    "        \n",
    "        for i in range(n):\n",
    "            soma = np.sum([abs(X[i, j]) for j in range(m) if i != j])\n",
    "            alphas[i] /= soma\n",
    "\n",
    "        resultado[CriterioGaussJacobi.LINHAS.value] = np.max(alphas) < 1\n",
    "\n",
    "    return resultado\n"
   ]
  },
  {
   "cell_type": "markdown",
   "metadata": {},
   "source": [
    "### Teste das validações"
   ]
  },
  {
   "cell_type": "code",
   "execution_count": 4,
   "metadata": {},
   "outputs": [
    {
     "data": {
      "text/plain": [
       "{'Critério de Sassenfeld': True, 'Critério das linhas': False}"
      ]
     },
     "execution_count": 4,
     "metadata": {},
     "output_type": "execute_result"
    }
   ],
   "source": [
    "\n",
    "A = np.matrix([[1, 0.5, -0.1, 0.1], \n",
    "                [0.2, 1, -0.2, -0.1], \n",
    "                [-0.1, -0.2, 1, 0.2], \n",
    "                [0.1, 0.3, 0.2, 1]])\n",
    "\n",
    "validarCriterio(A)"
   ]
  },
  {
   "cell_type": "markdown",
   "metadata": {},
   "source": [
    "### Método de Gauss-Seidel"
   ]
  },
  {
   "cell_type": "code",
   "execution_count": 5,
   "metadata": {},
   "outputs": [],
   "source": [
    "\n",
    "def metodoGaussSeidel(A, b, startPoint, tol = 10e-5, maxiter = 1000):\n",
    "\n",
    "    n, m = A.shape\n",
    "    x_act = np.float64(np.copy(startPoint))\n",
    "\n",
    "    for iter in range(maxiter):\n",
    "        x_ant = np.copy(x_act)\n",
    "\n",
    "        for i in range(n):\n",
    "            sumKnown = 0 \n",
    "            sumPrevi = 0\n",
    "\n",
    "            for j in range(m):\n",
    "                if j < i:\n",
    "                    sumKnown += A[i, j] * x_act[j]\n",
    "                elif j > i:\n",
    "                    sumPrevi += A[i, j] * x_ant[j]\n",
    "            \n",
    "            x_act[i] = (b[i] - sumKnown - sumPrevi) / A[i, i]\n",
    "\n",
    "        print(f'Iteration {iter + 1}: {x_act}')\n",
    "\n",
    "        if np.max(np.abs(x_act - x_ant)) / np.max(np.abs(x_act)) <= tol:\n",
    "            print(f'Converged in {iter + 1} iterations')\n",
    "            return x_act\n",
    "        \n",
    "    print('Did not converge')\n",
    "    print(x_act)\n",
    "\n",
    "    return\n",
    "    \n"
   ]
  },
  {
   "cell_type": "markdown",
   "metadata": {},
   "source": [
    "### Teste do método com exercício do livro (Exemplo 14)"
   ]
  },
  {
   "cell_type": "code",
   "execution_count": 6,
   "metadata": {},
   "outputs": [
    {
     "name": "stdout",
     "output_type": "stream",
     "text": [
      "Iteration 1: [ 1.     0.75  -0.875]\n",
      "Iteration 2: [ 1.025   0.95   -0.9875]\n",
      "Converged in 2 iterations\n"
     ]
    },
    {
     "data": {
      "text/plain": [
       "array([ 1.025 ,  0.95  , -0.9875])"
      ]
     },
     "execution_count": 6,
     "metadata": {},
     "output_type": "execute_result"
    }
   ],
   "source": [
    "\n",
    "X = np.matrix([[5.0, 1.0, 1.0], \n",
    "               [3.0, 4.0, 1.0], \n",
    "               [3.0, 3.0, 6.0]])\n",
    "\n",
    "b = np.array([5.0, 6.0, 0.0])\n",
    "\n",
    "metodoGaussSeidel(X, b, np.array([0,0,0]), tol=(5 * 10e-2), maxiter=5)"
   ]
  },
  {
   "cell_type": "markdown",
   "metadata": {},
   "source": [
    "#  Exercicio 22"
   ]
  },
  {
   "cell_type": "code",
   "execution_count": 7,
   "metadata": {},
   "outputs": [],
   "source": [
    "\n",
    "A1 = np.matrix([[10.0, 1.0, 1.0], \n",
    "                [1.0, 10.0, 1.0], \n",
    "                [1.0, 1.0, 10.0]])\n",
    "\n",
    "b1 = np.array([12.0, 12.0, 12.0])\n",
    "\n",
    "A2 = np.matrix([[4.0, -1.0, 0.0, 0.0],\n",
    "               [-1.0, 4.0, -1.0, 0.0], \n",
    "               [0.0, -1.0, 4.0, -1.0], \n",
    "               [0.0, 0.0, -1.0, 4.0]])\n",
    "\n",
    "b2 = np.array([1.0, 1.0, 1.0, 1.0])\n"
   ]
  },
  {
   "cell_type": "markdown",
   "metadata": {},
   "source": [
    "### 22.a) Verifique se o critério de sassenfeld é satisfeito"
   ]
  },
  {
   "cell_type": "code",
   "execution_count": 8,
   "metadata": {},
   "outputs": [
    {
     "data": {
      "text/plain": [
       "{'Critério de Sassenfeld': True}"
      ]
     },
     "execution_count": 8,
     "metadata": {},
     "output_type": "execute_result"
    }
   ],
   "source": [
    "# Para a matriz A1\n",
    "validarCriterio(A1, CriterioGaussJacobi.SASSENFELD)"
   ]
  },
  {
   "cell_type": "code",
   "execution_count": 9,
   "metadata": {},
   "outputs": [
    {
     "data": {
      "text/plain": [
       "{'Critério de Sassenfeld': True}"
      ]
     },
     "execution_count": 9,
     "metadata": {},
     "output_type": "execute_result"
    }
   ],
   "source": [
    "# Para a matriz A2\n",
    "validarCriterio(A2, CriterioGaussJacobi.SASSENFELD)"
   ]
  },
  {
   "cell_type": "markdown",
   "metadata": {},
   "source": [
    "### 22.b) Resolva por Gauss-Seidel, se possível"
   ]
  },
  {
   "cell_type": "code",
   "execution_count": 10,
   "metadata": {},
   "outputs": [
    {
     "name": "stdout",
     "output_type": "stream",
     "text": [
      "Iteration 1: [0.8   0.92  1.028]\n",
      "Iteration 2: [1.0052   0.99668  0.999812]\n",
      "Iteration 3: [1.0003508  0.99998372 0.99996655]\n",
      "Iteration 4: [1.00000497 1.00000285 0.99999922]\n",
      "Iteration 5: [0.99999979 1.0000001  1.00000001]\n",
      "Converged in 5 iterations\n"
     ]
    },
    {
     "data": {
      "text/plain": [
       "array([0.99999979, 1.0000001 , 1.00000001])"
      ]
     },
     "execution_count": 10,
     "metadata": {},
     "output_type": "execute_result"
    }
   ],
   "source": [
    "\n",
    "A1_params = {\n",
    "    'tol': 10e-5,\n",
    "    'maxiter': 1000,\n",
    "    'startPoint': np.array([2, 2, 2])\n",
    "}\n",
    "\n",
    "metodoGaussSeidel(A1, b1, **A1_params)\n"
   ]
  },
  {
   "cell_type": "code",
   "execution_count": 11,
   "metadata": {},
   "outputs": [
    {
     "name": "stdout",
     "output_type": "stream",
     "text": [
      "Iteration 1: [0.75       0.9375     0.984375   0.49609375]\n",
      "Iteration 2: [0.484375   0.6171875  0.52832031 0.38208008]\n",
      "Iteration 3: [0.40429688 0.4831543  0.46630859 0.36657715]\n",
      "Iteration 4: [0.37078857 0.45927429 0.45646286 0.36411572]\n",
      "Iteration 5: [0.36481857 0.45532036 0.45485902 0.36371475]\n",
      "Iteration 6: [0.36383009 0.45467228 0.45459676 0.36364919]\n",
      "Iteration 7: [0.36366807 0.45456621 0.45455385 0.36363846]\n",
      "Iteration 8: [0.36364155 0.45454885 0.45454683 0.36363671]\n",
      "Converged in 8 iterations\n"
     ]
    },
    {
     "data": {
      "text/plain": [
       "array([0.36364155, 0.45454885, 0.45454683, 0.36363671])"
      ]
     },
     "execution_count": 11,
     "metadata": {},
     "output_type": "execute_result"
    }
   ],
   "source": [
    "\n",
    "A2_params = {\n",
    "    'tol': 10e-5,\n",
    "    'maxiter': 1000,\n",
    "    'startPoint': np.array([2, 2, 2, 2])\n",
    "}\n",
    "\n",
    "metodoGaussSeidel(A2, b2, **A2_params)\n"
   ]
  },
  {
   "cell_type": "markdown",
   "metadata": {},
   "source": [
    "## Exercício 23\n",
    "\n",
    "### 23.a) [...]\n",
    "\n",
    "Resolvido à mão, anexo.\n",
    "\n",
    "### 23.b) Escolha o menor valor positivo de k e faça duas iterações do método de Gauss Seidel para o sistema obtido."
   ]
  },
  {
   "cell_type": "code",
   "execution_count": 12,
   "metadata": {},
   "outputs": [
    {
     "name": "stdout",
     "output_type": "stream",
     "text": [
      "Iteration 1: [0.25       0.16666667 0.25      ]\n",
      "Iteration 2: [0.0625     0.25       0.20535714]\n",
      "Did not converge\n",
      "[0.0625     0.25       0.20535714]\n"
     ]
    }
   ],
   "source": [
    "\n",
    "# 4,0000000001\n",
    "k = 4 + 10e-10\n",
    "\n",
    "X = np.matrix([[k, 3, 1], \n",
    "              [k, 6, 1], \n",
    "              [1, 6, 7]])\n",
    "\n",
    "y = np.array([1, 2, 3])\n",
    "\n",
    "metodoGaussSeidel(X, y, startPoint=np.array([0, 0, 0]), maxiter=2)"
   ]
  },
  {
   "cell_type": "markdown",
   "metadata": {},
   "source": [
    "### 23.c) Comente o erro cometido no item (b)\n",
    "\n",
    "O menor valor possível para K deveria ser o limite de k tendendo à 4 por valores maiores do que ele. Enquanto a implementação foi realizada com o valor de $4 + 0.1 \\times 10e^{-10}$."
   ]
  }
 ],
 "metadata": {
  "kernelspec": {
   "display_name": "base",
   "language": "python",
   "name": "python3"
  },
  "language_info": {
   "codemirror_mode": {
    "name": "ipython",
    "version": 3
   },
   "file_extension": ".py",
   "mimetype": "text/x-python",
   "name": "python",
   "nbconvert_exporter": "python",
   "pygments_lexer": "ipython3",
   "version": "3.11.7"
  }
 },
 "nbformat": 4,
 "nbformat_minor": 2
}
