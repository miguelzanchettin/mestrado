{
 "cells": [
  {
   "cell_type": "code",
   "execution_count": 1,
   "metadata": {},
   "outputs": [
    {
     "name": "stdout",
     "output_type": "stream",
     "text": [
      "Note: you may need to restart the kernel to use updated packages.\n"
     ]
    }
   ],
   "source": [
    "%pip install numpy -q\n",
    "import numpy as np"
   ]
  },
  {
   "cell_type": "markdown",
   "metadata": {},
   "source": [
    "# Algoritmo de Eliminação de Gauss\n",
    "\n",
    "Utilizando dados do exemplo 2."
   ]
  },
  {
   "cell_type": "code",
   "execution_count": 2,
   "metadata": {},
   "outputs": [],
   "source": [
    "\n",
    "X = np.matrix([[3,  2,  4],\n",
    "               [1,  1,  2],\n",
    "               [4,  3, -2]\n",
    "               ])\n",
    "\n",
    "y = np.matrix([[1], \n",
    "               [2],\n",
    "               [3]\n",
    "               ])\n"
   ]
  },
  {
   "cell_type": "code",
   "execution_count": 3,
   "metadata": {},
   "outputs": [],
   "source": [
    "\n",
    "class GaussElimination:\n",
    "\n",
    "    def __init__(self):\n",
    "        pass\n",
    "\n",
    "    @staticmethod\n",
    "    def _eliminate(X: np.matrix, y: np.matrix) -> tuple[int, np.matrix, np.matrix]:\n",
    "        n = X.shape[0]\n",
    "        a = np.float64(X.copy())\n",
    "        b = np.float64(y.copy())\n",
    "        for iVetor in range(0, a.shape[0]):\n",
    "            for iLinha in range(iVetor + 1, n):\n",
    "                m = (a[iLinha, iVetor] / a[iVetor, iVetor])\n",
    "                a[iLinha, iVetor] = 0\n",
    "                for iProximasLinhas in range(iVetor + 1, n):\n",
    "                    a[iLinha, iProximasLinhas] -= (m * a[iVetor, iProximasLinhas])\n",
    "                b[iLinha] = b[iLinha] - (m * b[iVetor])\n",
    "        return (n, a, b)\n",
    "    \n",
    "    @staticmethod\n",
    "    def _solve_system(n: int, a: np.matrix, b: np.matrix) -> np.matrix:\n",
    "        c = b.copy()\n",
    "        for iVetor in range(n - 1, -1, -1):\n",
    "            s = 0\n",
    "            for iLinha in range(iVetor + 1, n):\n",
    "                s += a[iVetor, iLinha] * c[iLinha]\n",
    "            c[iVetor] = (b[iVetor] - s) / a[iVetor, iVetor]\n",
    "        return c\n",
    "    \n",
    "    @staticmethod\n",
    "    def solve(X: np.matrix, y: np.matrix) -> np.matrix:\n",
    "        this = GaussElimination()\n",
    "        n, a, b = this._eliminate(X, y)\n",
    "        c = this._solve_system(n, a, b)\n",
    "        return c\n",
    "\n"
   ]
  },
  {
   "cell_type": "markdown",
   "metadata": {},
   "source": [
    "### Resultados"
   ]
  },
  {
   "cell_type": "code",
   "execution_count": 4,
   "metadata": {},
   "outputs": [
    {
     "name": "stdout",
     "output_type": "stream",
     "text": [
      "Meu algoritmo:\n",
      "[[-3.00000000e+00]\n",
      " [ 5.00000000e+00]\n",
      " [ 5.55111512e-17]]\n",
      "\n",
      "linalg.solve\n",
      "[[-3.]\n",
      " [ 5.]\n",
      " [ 0.]]\n",
      "\n"
     ]
    }
   ],
   "source": [
    "\n",
    "print('Meu algoritmo:')\n",
    "print(GaussElimination.solve(X, y))\n",
    "print('')\n",
    "\n",
    "print('linalg.solve')\n",
    "print(np.linalg.solve(X, y))\n",
    "print('')"
   ]
  },
  {
   "cell_type": "markdown",
   "metadata": {},
   "source": [
    "### Tempos de execução"
   ]
  },
  {
   "cell_type": "code",
   "execution_count": 5,
   "metadata": {},
   "outputs": [
    {
     "name": "stdout",
     "output_type": "stream",
     "text": [
      "80 µs ± 761 ns per loop (mean ± std. dev. of 7 runs, 10,000 loops each)\n"
     ]
    }
   ],
   "source": [
    "%%timeit\n",
    "GaussElimination.solve(X, y)\n"
   ]
  },
  {
   "cell_type": "code",
   "execution_count": 6,
   "metadata": {},
   "outputs": [
    {
     "name": "stdout",
     "output_type": "stream",
     "text": [
      "4.62 µs ± 78.6 ns per loop (mean ± std. dev. of 7 runs, 100,000 loops each)\n"
     ]
    }
   ],
   "source": [
    "%%timeit\n",
    "np.linalg.solve(X, y)\n"
   ]
  }
 ],
 "metadata": {
  "kernelspec": {
   "display_name": "base",
   "language": "python",
   "name": "python3"
  },
  "language_info": {
   "codemirror_mode": {
    "name": "ipython",
    "version": 3
   },
   "file_extension": ".py",
   "mimetype": "text/x-python",
   "name": "python",
   "nbconvert_exporter": "python",
   "pygments_lexer": "ipython3",
   "version": "3.11.7"
  }
 },
 "nbformat": 4,
 "nbformat_minor": 2
}
