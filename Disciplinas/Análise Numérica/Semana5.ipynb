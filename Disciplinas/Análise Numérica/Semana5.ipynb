{
 "cells": [
  {
   "cell_type": "code",
   "execution_count": null,
   "metadata": {},
   "outputs": [],
   "source": [
    "%pip install numpy -q\n",
    "import numpy as np"
   ]
  },
  {
   "cell_type": "markdown",
   "metadata": {},
   "source": [
    "# Exercício 03\n",
    "\n",
    "\n",
    "## Erro no algoritmo\n",
    "O algoritmo está faltando uma identação de referência para o laço de:\n",
    "\n",
    "> Para j = k + 1, ..., n\n",
    "\n",
    ", na parte de eliminação, que deveria ser seguido por uma identação com apenas \n",
    "\n",
    "> $a_{ij} = a_{ij} - ma_{kj}$.\n",
    "\n"
   ]
  },
  {
   "cell_type": "markdown",
   "metadata": {},
   "source": [
    "## Resposta\n",
    "\n",
    "A eliminação de Gauss transforma a matriz original em uma matriz triangular superior. Para cada pivô na linha $ i $ (diagonal principal), o algoritmo realiza operações nas linhas abaixo para eliminar os elementos abaixo do pivô. Para contar as operações, deve-se considerar:\n",
    "\n",
    "1. As multiplicações para calcular os multiplicadores que zeram os elementos.\n",
    "2. As subtrações para atualizar as entradas da matriz após a multiplicação.\n",
    "\n",
    "Assim, para cada linha $ i $, devemos eliminar os elementos abaixo do pivô na coluna $ i $. \n",
    "\n",
    "Desta forma, supondo que se está na coluna $ j $ com o pivô na posição $ A_{jj} $. Então, o número de linhas a serem atualizadas é $ n - j $.\n",
    "\n",
    "Em cada uma dessas linhas, também se realizam operações nas colunas restantes.\n",
    "\n",
    "Para cada linha abaixo da linha $j$, realiza-se uma multiplicação e uma subtração para cada coluna à direita da coluna $j$.\n",
    "\n",
    "O número de operações realizadas na coluna $ j $ é proporcional ao número de linhas e colunas restantes, ou seja, $ (n-j) $ linhas e $ (n-j+1) $ colunas. Assim, o número total de operações para o algoritmo de eliminação de Gauss é dado por:\n",
    "\n",
    "$C(n) = \\sum_{j=1}^{n-1} (n-j)(n-j+1)$\n",
    "\n",
    "Assim, \n",
    "\n",
    "$\n",
    "C(n) = \\sum_{j=1}^{n-1} \\left[ (n-j)^2 + (n-j) \\right]\n",
    "$\n",
    "\n",
    "Em que\n",
    "\n",
    "$\n",
    "\\sum_{j=1}^{n-1} (n-j)^2 = \\sum_{k=1}^{n-1} k^2 = \\frac{(n-1)n(2n-1)}{6}\n",
    "$\n",
    "\n",
    "e\n",
    "\n",
    "$\n",
    "\\sum_{j=1}^{n-1} (n-j) = \\sum_{k=1}^{n-1} k = \\frac{(n-1)n}{2}\n",
    "$\n",
    "\n",
    "Ou seja, \n",
    "\n",
    "$C(n) = \\frac{(n-1)n(2n-1)}{6} + \\frac{(n-1)n}{2}$\n",
    "\n",
    "$C(n) = \\frac{(n-1)n(2n-1)}{6} + \\frac{3(n-1)n}{6}$\n",
    "\n",
    "$C(n) = \\frac{(n-1)n\\left[ (2n-1) + 3 \\right]}{6} = \\frac{(n-1)n(2n+2)}{6}$\n",
    "\n",
    "$C(n) = \\frac{(n-1)n(2n+2)}{6} = \\frac{n(n-1)(2n+2)}{6}$\n",
    "\n",
    "$C(n) = \\frac{2n^3}{3} + \\frac{n^2}{2} - \\frac{7n}{6}$\n"
   ]
  },
  {
   "cell_type": "markdown",
   "metadata": {},
   "source": [
    "# Exercicio 14\n",
    "\n",
    "## Algoritmo de Eliminação de Gauss\n",
    "\n",
    "Utilizando dados do exemplo 2."
   ]
  },
  {
   "cell_type": "code",
   "execution_count": null,
   "metadata": {},
   "outputs": [],
   "source": [
    "\n",
    "X = np.matrix([[3,  2,  4],\n",
    "               [1,  1,  2],\n",
    "               [4,  3, -2]\n",
    "               ])\n",
    "\n",
    "y = np.matrix([[1], \n",
    "               [2],\n",
    "               [3]\n",
    "               ])\n"
   ]
  },
  {
   "cell_type": "markdown",
   "metadata": {},
   "source": [
    "### Algoritmo"
   ]
  },
  {
   "cell_type": "code",
   "execution_count": null,
   "metadata": {},
   "outputs": [],
   "source": [
    "\n",
    "class GaussElimination:\n",
    "\n",
    "    def __init__(self):\n",
    "        pass\n",
    "\n",
    "    @staticmethod\n",
    "    def _eliminate(X: np.matrix, y: np.matrix) -> tuple[int, np.matrix, np.matrix]:\n",
    "        n = X.shape[0]\n",
    "        a = np.float64(X.copy())\n",
    "        b = np.float64(y.copy())\n",
    "        for iVetor in range(0, a.shape[0]):\n",
    "            for iLinha in range(iVetor + 1, n):\n",
    "                m = (a[iLinha, iVetor] / a[iVetor, iVetor])\n",
    "                a[iLinha, iVetor] = 0\n",
    "                for iProximasLinhas in range(iVetor + 1, n):\n",
    "                    a[iLinha, iProximasLinhas] -= (m * a[iVetor, iProximasLinhas])\n",
    "                b[iLinha] = b[iLinha] - (m * b[iVetor])\n",
    "        return (n, a, b)\n",
    "    \n",
    "    @staticmethod\n",
    "    def _solve_system(n: int, a: np.matrix, b: np.matrix) -> np.matrix:\n",
    "        c = b.copy()\n",
    "        for iVetor in range(n - 1, -1, -1):\n",
    "            s = 0\n",
    "            for iLinha in range(iVetor + 1, n):\n",
    "                s += a[iVetor, iLinha] * c[iLinha]\n",
    "            c[iVetor] = (b[iVetor] - s) / a[iVetor, iVetor]\n",
    "        return c\n",
    "    \n",
    "    @staticmethod\n",
    "    def solve(X: np.matrix, y: np.matrix) -> np.matrix:\n",
    "        this = GaussElimination()\n",
    "        n, a, b = this._eliminate(X, y)\n",
    "        c = this._solve_system(n, a, b)\n",
    "        return c\n",
    "\n"
   ]
  },
  {
   "cell_type": "markdown",
   "metadata": {},
   "source": [
    "### Tempos de execução"
   ]
  },
  {
   "cell_type": "code",
   "execution_count": null,
   "metadata": {},
   "outputs": [],
   "source": [
    "\n",
    "print('Meu algoritmo:')\n",
    "print(GaussElimination.solve(X, y))\n",
    "print('')\n",
    "\n",
    "print('linalg.solve')\n",
    "print(np.linalg.solve(X, y))\n",
    "print('')"
   ]
  },
  {
   "cell_type": "markdown",
   "metadata": {},
   "source": [
    "### Tempos de execução"
   ]
  },
  {
   "cell_type": "code",
   "execution_count": null,
   "metadata": {},
   "outputs": [],
   "source": [
    "%%timeit\n",
    "GaussElimination.solve(X, y)\n"
   ]
  },
  {
   "cell_type": "code",
   "execution_count": null,
   "metadata": {},
   "outputs": [],
   "source": [
    "%%timeit\n",
    "np.linalg.solve(X, y)"
   ]
  },
  {
   "cell_type": "markdown",
   "metadata": {},
   "source": [
    "# Exercício 20\n",
    "\n",
    "## Fatoração LU\n",
    "Utilizando dados do Exemplo 7."
   ]
  },
  {
   "cell_type": "code",
   "execution_count": null,
   "metadata": {},
   "outputs": [],
   "source": [
    "\n",
    "A = np.matrix([[3, -4,  1],\n",
    "               [1,  2,  2],\n",
    "               [4,  0, -3]\n",
    "               ])\n",
    "\n",
    "B = np.matrix([[ 9], \n",
    "               [ 3],\n",
    "               [-2]\n",
    "               ])\n"
   ]
  },
  {
   "cell_type": "markdown",
   "metadata": {},
   "source": [
    "### Algoritmo"
   ]
  },
  {
   "cell_type": "code",
   "execution_count": null,
   "metadata": {},
   "outputs": [],
   "source": [
    "\n",
    "class FatoracaoLU:\n",
    "\n",
    "    def __init__(self) -> None:\n",
    "        pass\n",
    "\n",
    "    @staticmethod\n",
    "    def _pivot_rows(A: np.matrix) -> tuple[np.ndarray, np.matrix]:\n",
    "        n = A.shape[0]\n",
    "        a = np.float64(A.copy())\n",
    "\n",
    "        # Initialize permutation vector with identity\n",
    "        p = np.arange(n)  \n",
    "        \n",
    "        for k in range(n - 1):\n",
    "\n",
    "            # Find the pivot\n",
    "            r = np.argmax(np.abs(a[k:n, k])) + k  \n",
    "            if np.abs(a[r, k]) == 0:\n",
    "                return p, A\n",
    "\n",
    "            # Swap rows in matrix and permutation vector\n",
    "            if r != k:\n",
    "                a[[k, r], :] = a[[r, k], :]\n",
    "                p[[k, r]] = p[[r, k]]\n",
    "\n",
    "            # Eliminate entries below pivot\n",
    "            #   Store the multiplier in lower triangular part\n",
    "            #   Then eliminate\n",
    "            for i in range(k + 1, n):\n",
    "                m = a[i, k] / a[k, k]\n",
    "                a[i, k] = m  \n",
    "                a[i, k + 1:n] -= m * a[k, k + 1:n]  \n",
    "\n",
    "        return p, a\n",
    "\n",
    "    @staticmethod\n",
    "    def _forward_substitution(p: np.ndarray, a: np.matrix, B: np.ndarray) -> np.ndarray:\n",
    "        n = a.shape[0]\n",
    "        y = np.zeros(n)\n",
    "        b = np.float64(B.copy())\n",
    "\n",
    "        # Apply permutation to b \n",
    "        # and perform forward substitution\n",
    "        for i in range(n):\n",
    "            y[i] = b[p[i]].item()\n",
    "            for j in range(i):\n",
    "                y[i] -= a[i, j] * y[j]\n",
    "                \n",
    "        return y\n",
    "\n",
    "    @staticmethod\n",
    "    def _backward_substitution(a: np.matrix, y: np.ndarray) -> np.ndarray:\n",
    "        n = a.shape[0]\n",
    "        x = np.zeros(n)\n",
    "\n",
    "        # Perform backward substitution\n",
    "        for i in range(n - 1, -1, -1):\n",
    "            x[i] = y[i]\n",
    "            for j in range(i + 1, n):\n",
    "                x[i] -= a[i, j] * x[j]\n",
    "            x[i] /= a[i, i]\n",
    "\n",
    "        return x\n",
    "\n",
    "    @staticmethod\n",
    "    def solve(A: np.matrix, B: np.ndarray) -> np.ndarray:\n",
    "        fat = FatoracaoLU()\n",
    "\n",
    "        p, a = fat._pivot_rows(A)\n",
    "        y = fat._forward_substitution(p, a, B)\n",
    "        x = fat._backward_substitution(a, y)\n",
    "\n",
    "        return x\n"
   ]
  },
  {
   "cell_type": "markdown",
   "metadata": {},
   "source": [
    "### Resultados"
   ]
  },
  {
   "cell_type": "code",
   "execution_count": null,
   "metadata": {},
   "outputs": [],
   "source": [
    "FatoracaoLU.solve(A, B)"
   ]
  },
  {
   "cell_type": "markdown",
   "metadata": {},
   "source": [
    "### Tempos de execução"
   ]
  },
  {
   "cell_type": "code",
   "execution_count": null,
   "metadata": {},
   "outputs": [],
   "source": [
    "%%timeit\n",
    "\n",
    "FatoracaoLU.solve(A, B)"
   ]
  }
 ],
 "metadata": {
  "language_info": {
   "name": "python"
  }
 },
 "nbformat": 4,
 "nbformat_minor": 2
}
