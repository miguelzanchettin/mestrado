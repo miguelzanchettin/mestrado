{
 "cells": [
  {
   "cell_type": "code",
   "execution_count": 1,
   "metadata": {},
   "outputs": [
    {
     "name": "stdout",
     "output_type": "stream",
     "text": [
      "Note: you may need to restart the kernel to use updated packages.\n",
      "Python 3.11.7\n"
     ]
    }
   ],
   "source": [
    "%pip install numpy==1.26.4 -q\n",
    "!python --version\n",
    "\n",
    "import numpy as np"
   ]
  },
  {
   "cell_type": "markdown",
   "metadata": {},
   "source": [
    "# Implementação algoritmica"
   ]
  },
  {
   "cell_type": "code",
   "execution_count": 2,
   "metadata": {},
   "outputs": [],
   "source": [
    "\n",
    "class Newton():\n",
    "\n",
    "    def __init__(self, \n",
    "                 tol: float = 10e-6, \n",
    "                 max_iter: int = 100\n",
    "                 ) -> None:\n",
    "        self.tol = tol\n",
    "        self.max_iter = max_iter\n",
    "        pass\n",
    "\n",
    "    def _estimate_jacobian(self, \n",
    "                           f: 'function', \n",
    "                           x: np.array,\n",
    "                           step: float = 10e-2\n",
    "                           ) -> np.array:\n",
    "        \n",
    "        n = len(x)\n",
    "        J = np.zeros((n, n))\n",
    "\n",
    "        for i in range(n):\n",
    "            x_plus = np.copy(x)\n",
    "            x_plus[i] += step\n",
    "            J[:, i] = (f(x_plus) - f(x)) / step\n",
    "        return J\n",
    "\n",
    "    def _handle_converged(self,\n",
    "                          x: np.array, \n",
    "                          iter: int) -> None:\n",
    "        \n",
    "        print(100 * '=')\n",
    "        print(f'Método {self.last_used_method}')\n",
    "        if self.estimated_jacobian:\n",
    "            print(' (Jacobiana estimada computacionalmente)')\n",
    "        print(100 * '-')\n",
    "        print(f'Iterações:')\n",
    "        print(f'    {iter + 1}')\n",
    "        print(f'Tolerância: ')\n",
    "        print(f'    {self.tol}')\n",
    "        print(f'Resultado: (Arredondado)')\n",
    "        print(f'    {np.round(x, 3)}')\n",
    "        print(100 * '=')\n",
    "        print('')\n",
    "        return\n",
    "    \n",
    "    def _handle_not_converged(self) -> None:\n",
    "        print(\n",
    "            f'Método {self.last_used_method} não convergiu ' +\n",
    "            f'mesmo em {self.max_iter + 1} iteraçẽos.'\n",
    "            )\n",
    "\n",
    "    def solve(self, \n",
    "              F: 'function', \n",
    "              x0: np.array, \n",
    "              J: 'function' = None\n",
    "              ) -> np.array:\n",
    "        \n",
    "        self.estimated_jacobian = J is None\n",
    "        self.last_used_method = 'Newton'\n",
    "        \n",
    "        xk = x0.copy()\n",
    "        for k in range(self.max_iter):\n",
    "            Fk = F(xk)\n",
    "            \n",
    "            if not J:\n",
    "                Jk = self._estimate_jacobian(F, xk)\n",
    "            else:\n",
    "                Jk = J(xk)\n",
    "            \n",
    "            step = np.linalg.solve(Jk, -Fk)\n",
    "\n",
    "            xk_new = xk + step\n",
    "\n",
    "            if (np.linalg.norm(Fk, ord=np.inf) <= self.tol) \\\n",
    "            or (np.linalg.norm(step, ord=np.inf) <= self.tol):\n",
    "                self._handle_converged(xk, k)\n",
    "                return xk\n",
    "\n",
    "            xk = xk_new\n",
    "\n",
    "        self._handle_not_converged()\n",
    "        \n",
    "    \n",
    "    def solve_modified(self, \n",
    "                       F: 'function', \n",
    "                       x0: np.array, \n",
    "                       J: 'function' = None\n",
    "                       ) -> np.array:\n",
    "        \n",
    "        self.estimated_jacobian = J is None\n",
    "        self.last_used_method = 'Newton Modificado'\n",
    "\n",
    "        xk = x0\n",
    "        for k in range(self.max_iter):\n",
    "            \n",
    "            Fk = F(xk)\n",
    "\n",
    "            if k == 0:\n",
    "                if not J:\n",
    "                    Jk = self._estimate_jacobian(F, xk)\n",
    "                else:\n",
    "                    Jk = J(xk)\n",
    "\n",
    "            step = np.linalg.solve(Jk, -Fk)\n",
    "\n",
    "            xk_new = xk + step\n",
    "\n",
    "            if (np.linalg.norm(Fk, ord=np.inf) <= self.tol) \\\n",
    "            or (np.linalg.norm(step, ord=np.inf) <= self.tol):\n",
    "                self._handle_converged(xk_new, k)\n",
    "                return xk_new\n",
    "            \n",
    "            xk = xk_new\n",
    "        \n",
    "        self._handle_not_converged()\n",
    "\n"
   ]
  },
  {
   "cell_type": "markdown",
   "metadata": {},
   "source": [
    "### Teste - Exemplo 5 do Capítulo 2 (Ruggiero) "
   ]
  },
  {
   "cell_type": "code",
   "execution_count": 3,
   "metadata": {},
   "outputs": [],
   "source": [
    "\n",
    "def F(x: np.array) -> np.array:\n",
    "    return np.array([\n",
    "        x[0] + x[1] - 3,\n",
    "        x[0]**2 + x[1]**2 - 9\n",
    "    ], dtype=float)\n",
    "\n",
    "x0 = np.array([-5.0, 5.0])\n"
   ]
  },
  {
   "cell_type": "code",
   "execution_count": 4,
   "metadata": {},
   "outputs": [
    {
     "name": "stdout",
     "output_type": "stream",
     "text": [
      "====================================================================================================\n",
      "Método Newton\n",
      " (Jacobiana estimada computacionalmente)\n",
      "----------------------------------------------------------------------------------------------------\n",
      "Iterações:\n",
      "    6\n",
      "Tolerância: \n",
      "    1e-05\n",
      "Resultado: (Arredondado)\n",
      "    [-0.  3.]\n",
      "====================================================================================================\n",
      "\n",
      "====================================================================================================\n",
      "Método Newton Modificado\n",
      " (Jacobiana estimada computacionalmente)\n",
      "----------------------------------------------------------------------------------------------------\n",
      "Iterações:\n",
      "    31\n",
      "Tolerância: \n",
      "    1e-05\n",
      "Resultado: (Arredondado)\n",
      "    [-0.  3.]\n",
      "====================================================================================================\n",
      "\n"
     ]
    },
    {
     "data": {
      "text/plain": [
       "array([-1.82871757e-05,  3.00001829e+00])"
      ]
     },
     "execution_count": 4,
     "metadata": {},
     "output_type": "execute_result"
    }
   ],
   "source": [
    "newton = Newton(tol=10e-6, max_iter=100_000)\n",
    "newton.solve(F, x0)\n",
    "newton.solve_modified(F, x0)\n",
    "\n",
    "# Deve resultar em np.array([0, 3])"
   ]
  },
  {
   "cell_type": "markdown",
   "metadata": {},
   "source": [
    "### Exercício 2.A"
   ]
  },
  {
   "cell_type": "code",
   "execution_count": 5,
   "metadata": {},
   "outputs": [],
   "source": [
    "\n",
    "def F(x: np.array) -> np.array:\n",
    "    return np.array(\n",
    "        [\n",
    "            x[0]**2 + x[1]**2 - 2,\n",
    "            np.exp(x[0] - 1) + x[1]**3 - 2\n",
    "        ]\n",
    "    )\n",
    "\n",
    "def J(x: np.array) -> np.array:\n",
    "    return np.array([\n",
    "        [2 * x[0]           , 2 * x[1]],\n",
    "        [np.exp(x[0] - 1)   , 3 * x[1]**2]\n",
    "    ], dtype=float)\n",
    "\n",
    "\n",
    "\n",
    "epsilon = 1e-4\n",
    "x0 = np.array([1.5, 2.0])\n"
   ]
  },
  {
   "cell_type": "markdown",
   "metadata": {},
   "source": [
    "#### Jacobiana manual"
   ]
  },
  {
   "cell_type": "code",
   "execution_count": 6,
   "metadata": {},
   "outputs": [
    {
     "name": "stdout",
     "output_type": "stream",
     "text": [
      "====================================================================================================\n",
      "Método Newton\n",
      "----------------------------------------------------------------------------------------------------\n",
      "Iterações:\n",
      "    6\n",
      "Tolerância: \n",
      "    0.0001\n",
      "Resultado: (Arredondado)\n",
      "    [1. 1.]\n",
      "====================================================================================================\n",
      "\n",
      "====================================================================================================\n",
      "Método Newton Modificado\n",
      "----------------------------------------------------------------------------------------------------\n",
      "Iterações:\n",
      "    30\n",
      "Tolerância: \n",
      "    0.0001\n",
      "Resultado: (Arredondado)\n",
      "    [1. 1.]\n",
      "====================================================================================================\n",
      "\n"
     ]
    }
   ],
   "source": [
    "newton = Newton(tol=epsilon, max_iter=100_000)\n",
    "r1 = newton.solve(F, x0, J)\n",
    "r2 = newton.solve_modified(F, x0, J)"
   ]
  },
  {
   "cell_type": "markdown",
   "metadata": {},
   "source": [
    "#### Jacobiana computacional"
   ]
  },
  {
   "cell_type": "code",
   "execution_count": 7,
   "metadata": {},
   "outputs": [
    {
     "name": "stdout",
     "output_type": "stream",
     "text": [
      "====================================================================================================\n",
      "Método Newton\n",
      " (Jacobiana estimada computacionalmente)\n",
      "----------------------------------------------------------------------------------------------------\n",
      "Iterações:\n",
      "    7\n",
      "Tolerância: \n",
      "    0.0001\n",
      "Resultado: (Arredondado)\n",
      "    [1. 1.]\n",
      "====================================================================================================\n",
      "\n",
      "====================================================================================================\n",
      "Método Newton Modificado\n",
      " (Jacobiana estimada computacionalmente)\n",
      "----------------------------------------------------------------------------------------------------\n",
      "Iterações:\n",
      "    32\n",
      "Tolerância: \n",
      "    0.0001\n",
      "Resultado: (Arredondado)\n",
      "    [1. 1.]\n",
      "====================================================================================================\n",
      "\n"
     ]
    }
   ],
   "source": [
    "newton = Newton(tol=epsilon, max_iter=100_000)\n",
    "r1 = newton.solve(F, x0)\n",
    "r2 = newton.solve_modified(F, x0)"
   ]
  },
  {
   "cell_type": "markdown",
   "metadata": {},
   "source": [
    "### Exercício 2.B"
   ]
  },
  {
   "cell_type": "code",
   "execution_count": 8,
   "metadata": {},
   "outputs": [],
   "source": [
    "\n",
    "def F(x: np.array) -> np.array:\n",
    "    return np.array(\n",
    "        [\n",
    "            4 * x[0] - x[0]**3 + x[1],\n",
    "            (-x[0]**2 / 9) + (4 * x[1] - x[1]**2) / 4 + 1\n",
    "        ]\n",
    "    )\n",
    "\n",
    "\n",
    "def J(x: np.array) -> np.array:\n",
    "    return np.array(\n",
    "        [\n",
    "            [4 - 3 * x[0]**2    , 1                     ],\n",
    "            [-2 * x[0] / 9      , (4 - 2 * x[1]) / 4    ]\n",
    "        ]\n",
    "    )\n",
    "\n",
    "epsilon = 10e-4\n",
    "x0 = np.array([-1, -2], dtype=float)\n"
   ]
  },
  {
   "cell_type": "markdown",
   "metadata": {},
   "source": [
    "#### Jacobiana manual"
   ]
  },
  {
   "cell_type": "code",
   "execution_count": 9,
   "metadata": {},
   "outputs": [
    {
     "name": "stdout",
     "output_type": "stream",
     "text": [
      "====================================================================================================\n",
      "Método Newton\n",
      "----------------------------------------------------------------------------------------------------\n",
      "Iterações:\n",
      "    6\n",
      "Tolerância: \n",
      "    0.001\n",
      "Resultado: (Arredondado)\n",
      "    [ 1.932 -0.518]\n",
      "====================================================================================================\n",
      "\n",
      "Método Newton Modificado não convergiu mesmo em 1001 iteraçẽos.\n"
     ]
    },
    {
     "name": "stderr",
     "output_type": "stream",
     "text": [
      "/tmp/ipykernel_16755/3227875021.py:4: RuntimeWarning: overflow encountered in scalar power\n",
      "  4 * x[0] - x[0]**3 + x[1],\n",
      "/tmp/ipykernel_16755/3227875021.py:4: RuntimeWarning: invalid value encountered in scalar subtract\n",
      "  4 * x[0] - x[0]**3 + x[1],\n"
     ]
    }
   ],
   "source": [
    "newton = Newton(tol=epsilon, max_iter=1_000)\n",
    "r1 = newton.solve(F, x0, J)\n",
    "r2 = newton.solve_modified(F, x0, J)"
   ]
  },
  {
   "cell_type": "markdown",
   "metadata": {},
   "source": [
    "#### Jacobiana computacional"
   ]
  },
  {
   "cell_type": "code",
   "execution_count": 10,
   "metadata": {},
   "outputs": [
    {
     "name": "stdout",
     "output_type": "stream",
     "text": [
      "====================================================================================================\n",
      "Método Newton\n",
      " (Jacobiana estimada computacionalmente)\n",
      "----------------------------------------------------------------------------------------------------\n",
      "Iterações:\n",
      "    6\n",
      "Tolerância: \n",
      "    0.001\n",
      "Resultado: (Arredondado)\n",
      "    [ 1.932 -0.518]\n",
      "====================================================================================================\n",
      "\n"
     ]
    },
    {
     "name": "stderr",
     "output_type": "stream",
     "text": [
      "/tmp/ipykernel_16755/3227875021.py:4: RuntimeWarning: overflow encountered in scalar power\n",
      "  4 * x[0] - x[0]**3 + x[1],\n",
      "/tmp/ipykernel_16755/3227875021.py:5: RuntimeWarning: overflow encountered in scalar power\n",
      "  (-x[0]**2 / 9) + (4 * x[1] - x[1]**2) / 4 + 1\n"
     ]
    },
    {
     "name": "stdout",
     "output_type": "stream",
     "text": [
      "Método Newton Modificado não convergiu mesmo em 100001 iteraçẽos.\n"
     ]
    }
   ],
   "source": [
    "newton = Newton(tol=epsilon, max_iter=100_000)\n",
    "r1 = newton.solve(F, x0)\n",
    "r2 = newton.solve_modified(F, x0)"
   ]
  },
  {
   "cell_type": "markdown",
   "metadata": {},
   "source": [
    "O método de Newton Modificado não é capaz de estimar computacionalmente considerando o $x_0$ informado.\n",
    "\n",
    "Isso ocorre por conta do $x_0$ informado estar muito distante do $\\xi$ (zero do sistema)."
   ]
  }
 ],
 "metadata": {
  "kernelspec": {
   "display_name": "base",
   "language": "python",
   "name": "python3"
  },
  "language_info": {
   "codemirror_mode": {
    "name": "ipython",
    "version": 3
   },
   "file_extension": ".py",
   "mimetype": "text/x-python",
   "name": "python",
   "nbconvert_exporter": "python",
   "pygments_lexer": "ipython3",
   "version": "3.11.7"
  }
 },
 "nbformat": 4,
 "nbformat_minor": 2
}
