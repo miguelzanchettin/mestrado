{
 "cells": [
  {
   "cell_type": "code",
   "execution_count": 1,
   "metadata": {},
   "outputs": [],
   "source": [
    "\n",
    "import pandas as pd\n",
    "import numpy as np\n"
   ]
  },
  {
   "cell_type": "markdown",
   "metadata": {},
   "source": [
    "# Exercício 17 (Capítulo 7, RUGGIERO)\n",
    "\n",
    "Considere a integral\n",
    "\n",
    "$\n",
    "    I = \\int_{0}^{1}{e^{-x^2}dx}\n",
    "$\n",
    "\n",
    "a) Estime $I$ pela Regra de Simpsons usando $h = 0.25$\n",
    "\n",
    "b) Estime $I$ pela Quadratura Gaussiana com 2 pontos\n",
    "\n",
    "c) Sabendo que o valor exato de $I$ (usando 5 casas decimais) é $0.74682$, pede-se:\n",
    "    \n",
    "c_1) Compare as estimativas obtidas em (a) e (b);\n",
    "\n",
    "c_2) quantos pontos seriam necessários para que a regra dos Trapézios obtivesse a mesma precisão que a estimativa obtida para $I$ em (b)?\n",
    " \n"
   ]
  },
  {
   "cell_type": "markdown",
   "metadata": {},
   "source": [
    "## Implementação algoritmica"
   ]
  },
  {
   "cell_type": "code",
   "execution_count": 78,
   "metadata": {},
   "outputs": [],
   "source": [
    "def integrar_simpson(f: 'function', \n",
    "                     h: float, \n",
    "                     a: float, \n",
    "                     b: float, \n",
    "                     verbose: bool = True\n",
    "                     ) -> float:\n",
    "\n",
    "    m = int(np.ceil((b - a) / h))\n",
    "    x = np.linspace(a, b, m + 1, dtype=np.float32)\n",
    "\n",
    "    x_i_odd = x[range(2, m, 2)]\n",
    "    x_i_even = x[range(1, m, 2)]\n",
    "\n",
    "    y = (h / 3) * (f(x[0]) + np.sum(2 * f(x_i_odd)) + np.sum(4 * f(x_i_even)) + f(x[-1]))\n",
    "    err = (m * h**5) / 180 * (np.max(f(x)))\n",
    "\n",
    "    if verbose:\n",
    "        print(f'Limitante de erro = |{err}|')\n",
    "\n",
    "    return y"
   ]
  },
  {
   "cell_type": "code",
   "execution_count": 70,
   "metadata": {},
   "outputs": [],
   "source": [
    "def integrar_quadratura_gaussiana(f: 'function', \n",
    "                                  a: float, \n",
    "                                  b: float, \n",
    "                                  n: int,\n",
    "                                  verbose: bool = True\n",
    "                                  ) -> float:\n",
    "    \n",
    "    x, w = np.polynomial.legendre.leggauss(n)\n",
    "\n",
    "    _x = 0.5 * (x * (b - a) + (b + a))\n",
    "    _w = 0.5 * (w * (b - a))\n",
    "\n",
    "    y = sum(w_i * f(x_i) for x_i, w_i in zip(_x, _w))\n",
    "\n",
    "    return y"
   ]
  },
  {
   "cell_type": "markdown",
   "metadata": {},
   "source": [
    "### Teste com exemplo 2 do capítulo 7"
   ]
  },
  {
   "cell_type": "code",
   "execution_count": 69,
   "metadata": {},
   "outputs": [
    {
     "name": "stdout",
     "output_type": "stream",
     "text": [
      "Limitante de erro = |1.5101567214514944e-06|\n"
     ]
    },
    {
     "data": {
      "text/plain": [
       "np.float32(1.7182829)"
      ]
     },
     "execution_count": 69,
     "metadata": {},
     "output_type": "execute_result"
    }
   ],
   "source": [
    "\n",
    "f = lambda x: np.exp(x)\n",
    "h = 1/10\n",
    "a = 0\n",
    "b = 1\n",
    "\n",
    "integrar_simpson(f, h, a, b)\n",
    "\n",
    "# Deveria resultar 1.71828278\n",
    "# Limitante |E| <= |1.51015e-06|\n"
   ]
  },
  {
   "cell_type": "markdown",
   "metadata": {},
   "source": [
    "### Teste com exemplo 3 do capítulo 7"
   ]
  },
  {
   "cell_type": "code",
   "execution_count": 74,
   "metadata": {},
   "outputs": [
    {
     "data": {
      "text/plain": [
       "np.float64(0.6061021668165502)"
      ]
     },
     "execution_count": 74,
     "metadata": {},
     "output_type": "execute_result"
    }
   ],
   "source": [
    "\n",
    "f = lambda x: np.exp(-x)\n",
    "a = 0\n",
    "b = 10\n",
    "n = 2\n",
    "\n",
    "\n",
    "integrar_quadratura_gaussiana(f, a, b, n)\n",
    "\n",
    "# Deveria resultar 0.606102\n",
    "# Erro apenas sabendo valor analitico da funcao"
   ]
  },
  {
   "cell_type": "markdown",
   "metadata": {},
   "source": [
    "## Resolução"
   ]
  },
  {
   "cell_type": "code",
   "execution_count": 77,
   "metadata": {},
   "outputs": [],
   "source": [
    "\n",
    "f = lambda x: np.exp(-x**2)\n",
    "h = 0.25\n",
    "a = 0\n",
    "b = 1\n"
   ]
  },
  {
   "cell_type": "markdown",
   "metadata": {},
   "source": [
    "#### a) Estime $I$ pela Regra de Simpsons usando $h = 0.25$"
   ]
  },
  {
   "cell_type": "code",
   "execution_count": 91,
   "metadata": {},
   "outputs": [
    {
     "name": "stdout",
     "output_type": "stream",
     "text": [
      "Limitante de erro = |2.1701389414374717e-05|\n",
      "I_a = 0.7468554377555847\n"
     ]
    }
   ],
   "source": [
    "I_a = integrar_simpson(f, h, a, b)\n",
    "print(f'I_a = {I_a}')\n"
   ]
  },
  {
   "cell_type": "markdown",
   "metadata": {},
   "source": [
    "\n",
    "#### b) Estime $I$ pela Quadratura Gaussiana com 2 pontos\n"
   ]
  },
  {
   "cell_type": "code",
   "execution_count": 92,
   "metadata": {},
   "outputs": [
    {
     "name": "stdout",
     "output_type": "stream",
     "text": [
      "I_b = 0.7465946882828597\n"
     ]
    }
   ],
   "source": [
    "I_b = integrar_quadratura_gaussiana(f, a, b, 2)\n",
    "print(f'I_b = {I_b}')\n"
   ]
  },
  {
   "cell_type": "markdown",
   "metadata": {},
   "source": [
    "#### c) Sabendo que o valor exato de $I$ (usando 5 casas decimais) é $0.74682$, pede-se:"
   ]
  },
  {
   "cell_type": "code",
   "execution_count": 93,
   "metadata": {},
   "outputs": [],
   "source": [
    "I = 0.74682"
   ]
  },
  {
   "cell_type": "markdown",
   "metadata": {},
   "source": [
    "\n",
    "#### $c_1$) Compare as estimativas obtidas em (a) e (b);"
   ]
  },
  {
   "cell_type": "code",
   "execution_count": 105,
   "metadata": {},
   "outputs": [
    {
     "name": "stdout",
     "output_type": "stream",
     "text": [
      "Erro de b é menor que de a? True\n",
      "Erro relativo de I_a 4.744529724121094e-05\n",
      "Erro relativo de I_b -0.00030169480884334465\n",
      "Erro absoluto de I_b = -0.00022531171714035292\n"
     ]
    }
   ],
   "source": [
    "\n",
    "# Utilizando erro relativo\n",
    "\n",
    "print(f'Erro de b é menor que de a? {I_b < I_a}')\n",
    "print(f'Erro relativo de I_a {I_a / I - 1}')\n",
    "print(f'Erro relativo de I_b {I_b / I - 1}')\n",
    "\n",
    "err_I_b = I_b - I\n",
    "print(f'Erro absoluto de I_b = {err_I_b}')"
   ]
  },
  {
   "cell_type": "markdown",
   "metadata": {},
   "source": [
    "#### $C_2$) quantos pontos seriam necessários para que a regra dos Trapézios obtivesse a mesma precisão que a estimativa obtida para $I$ em (b)?\n",
    " "
   ]
  },
  {
   "cell_type": "markdown",
   "metadata": {},
   "source": [
    "\n",
    "Sabe-se que\n",
    "\n",
    "$\n",
    "    |E_{TR}| = \\dfrac{mh^3M_2}{12}\n",
    "$\n",
    "\n",
    "sendo \n",
    "\n",
    "$\n",
    "    M_2 = \\text{máx}_{x \\in [a, b]}|f''(x)|\n",
    "$\n",
    "\n",
    "Como $m = \\dfrac{b - a}{h}$, obtém-se:\n",
    "\n",
    "$\n",
    "    |E_{TR}| = \\dfrac{b-a}{12} h^2M_2\n",
    "$\n",
    "\n",
    "---\n",
    "\n",
    "Como em $I_b$ obteve-se $E_b = -0.22531171714035292 * 10^{-3}$\n",
    "\n",
    "Para que $I_b = E_{TR}$, tem-se que:\n",
    "\n",
    "$\n",
    "    |E_{b}| = \\dfrac{b-a}{12} h^2M_2\n",
    "$\n",
    "\n",
    "Deve-se estimar $M_2$:\n"
   ]
  },
  {
   "cell_type": "code",
   "execution_count": 111,
   "metadata": {},
   "outputs": [
    {
     "name": "stdout",
     "output_type": "stream",
     "text": [
      "2.0\n"
     ]
    }
   ],
   "source": [
    "\n",
    "# f(x) = e^{-x^2}\n",
    "# f'(x) = -2x e^{-x^2}\n",
    "# f''(x) = -2e^{-x^2} + 4x^2 e^{-x^2}\n",
    "\n",
    "# Estimando f''(x) em 10.000 pontos\n",
    "pontos = np.linspace(a, b, 10_000)\n",
    "fdd = lambda x: -2 * np.exp(-x**2) + 4 * x**2 * np.exp(-x**2)\n",
    "\n",
    "# Calculando M_2\n",
    "M_2 = np.max(np.abs(fdd(pontos)))\n",
    "\n",
    "print(M_2)\n"
   ]
  },
  {
   "cell_type": "markdown",
   "metadata": {},
   "source": [
    "\n",
    "Considerando $b = 1$, $a = 0$ e $M = 2$, é possível avaliar que\n",
    "\n",
    "$\n",
    "    |0.22531171714035292 * 10^{-3}| \\le \\dfrac{(1) - (0)}{12} (h)^2 (2)\n",
    "$\n",
    "\n",
    "$\n",
    "    |0.22531171714035292 * 10^{-3}| \\le \\dfrac{1}{12} (2h^2)\n",
    "$\n",
    "\n",
    "$\n",
    "    |0.22531171714035292 * 10^{-3}| \\le \\dfrac{h^2}{6}\n",
    "$\n",
    "\n",
    "\n",
    "$\n",
    "    (6)|0.22531171714035292 * 10^{-3}| \\le h^2\n",
    "$\n",
    "\n",
    "$\n",
    "    |1.3518703028421175 * 10^{-3}| \\le h^2\n",
    "$\n",
    "\n",
    "\n",
    "$\n",
    "    \\sqrt{|1.3518703028421175 * 10^{-3}|} \\le h\n",
    "$\n",
    "\n",
    "\n",
    "$\n",
    "    h \\ge 1.162699575488921 * 10^{-3}\n",
    "$\n",
    "\n",
    "$\n",
    "    h \\ge 0.001162699575488921\n",
    "$\n",
    "\n",
    "Considerando que o menor valor para $h$ seja $0.001162699575488921$, então\n",
    "\n",
    "$\n",
    "    m = \\dfrac{1}{0.001162699575488921}\n",
    "$\n",
    "\n",
    "\n",
    "$\n",
    "    m = \\dfrac{1}{0.001162699575488921}\n",
    "$\n",
    "\n",
    "\n",
    "$\n",
    "    m \\approx 860\n",
    "$\n",
    "\n",
    "Isto é, seriam necessários mais de 860 pontos."
   ]
  }
 ],
 "metadata": {
  "kernelspec": {
   "display_name": "mestrado",
   "language": "python",
   "name": "python3"
  },
  "language_info": {
   "codemirror_mode": {
    "name": "ipython",
    "version": 3
   },
   "file_extension": ".py",
   "mimetype": "text/x-python",
   "name": "python",
   "nbconvert_exporter": "python",
   "pygments_lexer": "ipython3",
   "version": "3.12.2"
  }
 },
 "nbformat": 4,
 "nbformat_minor": 2
}
