{
 "cells": [
  {
   "cell_type": "code",
   "execution_count": 1,
   "metadata": {},
   "outputs": [],
   "source": [
    "import numpy as np"
   ]
  },
  {
   "cell_type": "markdown",
   "metadata": {},
   "source": [
    "\n",
    "# Exercício 3, capítulo 8 (Ruggiero, 1996)\n",
    "\n",
    "Dado o PVI abaixo, considere $h = 0.5, 0.25, 0.125, 0.1$.\n",
    "\n",
    "$\n",
    "    y' = 4 - 2x \\\\\n",
    "    y(0) = 2\n",
    "$\n",
    "\n"
   ]
  },
  {
   "cell_type": "code",
   "execution_count": 2,
   "metadata": {},
   "outputs": [],
   "source": [
    "\n",
    "def euler(f, x0, y0, h, x_target):\n",
    "    x, y = x0, y0\n",
    "\n",
    "    while x < x_target:\n",
    "\n",
    "        if x + h > x_target:\n",
    "            h = x_target - x\n",
    "\n",
    "        y = y + h * f(x, y)\n",
    "        x = x + h\n",
    "\n",
    "    return y\n",
    "\n"
   ]
  },
  {
   "cell_type": "code",
   "execution_count": 3,
   "metadata": {},
   "outputs": [],
   "source": [
    "def euler_aperfeicoado(f, x0, y0, h, x_target):\n",
    "    x, y = x0, y0\n",
    "\n",
    "    while x < x_target:\n",
    "        # Adjust h if the next step exceeds x_target\n",
    "        if x + h > x_target:\n",
    "            h = x_target - x\n",
    "\n",
    "        k1 = f(x, y)\n",
    "        y_predict = y + h * k1\n",
    "        k2 = f(x + h, y_predict)\n",
    "\n",
    "        y = y + (h / 2) * (k1 + k2)\n",
    "        x = x + h\n",
    "\n",
    "    return y\n",
    "\n",
    "\n"
   ]
  },
  {
   "cell_type": "markdown",
   "metadata": {},
   "source": [
    "\n",
    "## a) Encontre uma aproximação para $y(5)$ usando o método de Euler Aperfeiçoado, para cada h.\n"
   ]
  },
  {
   "cell_type": "code",
   "execution_count": 4,
   "metadata": {},
   "outputs": [],
   "source": [
    "\n",
    "hs = [0.5, 0.25, 0.125, 0.1, 10e-5]\n"
   ]
  },
  {
   "cell_type": "code",
   "execution_count": 5,
   "metadata": {},
   "outputs": [
    {
     "name": "stdout",
     "output_type": "stream",
     "text": [
      "Estimou que y(5) = -3.0 | h = 0.5\n",
      "Estimou que y(5) = -3.0 | h = 0.25\n",
      "Estimou que y(5) = -3.0 | h = 0.125\n",
      "Estimou que y(5) = -3.0 | h = 0.1\n",
      "Estimou que y(5) = -3.0 | h = 0.0001\n"
     ]
    }
   ],
   "source": [
    "\n",
    "resultadosEulerAperfeicoado = {}\n",
    "\n",
    "for h in hs:\n",
    "\n",
    "    params = {\n",
    "        'f': lambda x, y: 4 - 2 * x, \n",
    "        'x0': 0, \n",
    "        'y0':2,\n",
    "        'h': h,\n",
    "        'x_target': 5\n",
    "    }\n",
    "\n",
    "    y = euler_aperfeicoado(**params)\n",
    "\n",
    "    resultadosEulerAperfeicoado[h] = y\n",
    "\n",
    "    print(f'Estimou que y({params[\"x_target\"]}) = {round(y, 2)} | h = {params[\"h\"]}')\n"
   ]
  },
  {
   "cell_type": "markdown",
   "metadata": {},
   "source": [
    "\n",
    "## b) Compare seus resultados com a solução exata dada por $y(x) = -x^2 + 4x + 2$. Justifique.\n"
   ]
  },
  {
   "cell_type": "code",
   "execution_count": 6,
   "metadata": {},
   "outputs": [
    {
     "name": "stdout",
     "output_type": "stream",
     "text": [
      "Erro para estimativa de y(5) = 0.0 (Erro relativo: 0.0)\n",
      "Erro para estimativa de y(5) = 0.0 (Erro relativo: 0.0)\n",
      "Erro para estimativa de y(5) = 0.0 (Erro relativo: 0.0)\n",
      "Erro para estimativa de y(5) = 1.3766765505351941e-14 (Erro relativo: 4.6629367034256575e-15)\n",
      "Erro para estimativa de y(5) = 2.8359536941025e-12 (Erro relativo: 9.452438831658583e-13)\n"
     ]
    }
   ],
   "source": [
    "\n",
    "for h in hs:\n",
    "\n",
    "    x = 5\n",
    "    y = -x**2 + 4*x + 2\n",
    "    \n",
    "    y_hat = resultadosEulerAperfeicoado[h]\n",
    "\n",
    "    print(f'Erro para estimativa de y({params[\"x_target\"]}) = {y - y_hat} (Erro relativo: {y_hat / y - 1})')\n",
    "\n"
   ]
  },
  {
   "cell_type": "markdown",
   "metadata": {},
   "source": [
    "\n",
    "Utilizando o método de Euler Aperfeiçoado, encontra-se um erro muito pequeno, como já é de se esperar devido a natureza do método. \n",
    "\n",
    "Porém, quanto mais se reduz o tamanho do passo, maior o erro realizado pela estimativam, como é o caso do tamanho de passo adicionado ($h=0.0001$).\n"
   ]
  },
  {
   "cell_type": "markdown",
   "metadata": {},
   "source": [
    "#### c) Você espera o mesmo resultado do item (b) usando o método de Euler? Justifique.\n"
   ]
  },
  {
   "cell_type": "markdown",
   "metadata": {},
   "source": [
    "É de se esperar resultados piores para estimativas realizadas considerando o método de Euler sem aperfeiçoamento, uma vez que ele não realiza passos de correção.\n",
    "\n",
    "A próxima célula realiza a estimativa com os mesmos parâmetros utilizados previamente."
   ]
  },
  {
   "cell_type": "code",
   "execution_count": 7,
   "metadata": {},
   "outputs": [
    {
     "name": "stdout",
     "output_type": "stream",
     "text": [
      "Estimou que y(5) = -0.5 | h = 0.5\n",
      "Estimou que y(5) = -1.75 | h = 0.25\n",
      "Estimou que y(5) = -2.38 | h = 0.125\n",
      "Estimou que y(5) = -2.5 | h = 0.1\n",
      "Estimou que y(5) = -3.0 | h = 0.0001\n"
     ]
    }
   ],
   "source": [
    "\n",
    "resultadosEuler = {}\n",
    "\n",
    "for h in hs:\n",
    "\n",
    "    params = {\n",
    "        'f': lambda x, y: 4 - 2 * x, \n",
    "        'x0': 0, \n",
    "        'y0':2,\n",
    "        'h': h,\n",
    "        'x_target': 5\n",
    "    }\n",
    "\n",
    "    y = euler(**params)\n",
    "\n",
    "    resultadosEuler[h] = y\n",
    "\n",
    "    print(f'Estimou que y({params[\"x_target\"]}) = {round(y, 2)} | h = {params[\"h\"]}')\n"
   ]
  },
  {
   "cell_type": "markdown",
   "metadata": {},
   "source": [
    "Na próxima célula, os erros das estimativas considerando apenas o método de Euler."
   ]
  },
  {
   "cell_type": "code",
   "execution_count": 8,
   "metadata": {},
   "outputs": [
    {
     "name": "stdout",
     "output_type": "stream",
     "text": [
      "Erro para estimativa de y(5) = -2.5\n",
      "Erro para estimativa de y(5) = -1.25\n",
      "Erro para estimativa de y(5) = -0.62\n",
      "Erro para estimativa de y(5) = -0.5\n",
      "Erro para estimativa de y(5) = -0.0\n"
     ]
    }
   ],
   "source": [
    "\n",
    "for h in hs:\n",
    "\n",
    "    x = 5\n",
    "    y = -x**2 + 4*x + 2\n",
    "    \n",
    "    print(f'Erro para estimativa de y({params[\"x_target\"]}) = {round(y - resultadosEuler[h], 2)}')\n",
    "\n"
   ]
  },
  {
   "cell_type": "markdown",
   "metadata": {},
   "source": [
    "Assim, fica evidente que sua utilização é menos eficiente em qualidade do que o método aperfeiçoado."
   ]
  }
 ],
 "metadata": {
  "kernelspec": {
   "display_name": "mestrado",
   "language": "python",
   "name": "python3"
  },
  "language_info": {
   "codemirror_mode": {
    "name": "ipython",
    "version": 3
   },
   "file_extension": ".py",
   "mimetype": "text/x-python",
   "name": "python",
   "nbconvert_exporter": "python",
   "pygments_lexer": "ipython3",
   "version": "3.12.2"
  }
 },
 "nbformat": 4,
 "nbformat_minor": 2
}
