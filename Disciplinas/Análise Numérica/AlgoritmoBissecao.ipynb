{
 "cells": [
  {
   "cell_type": "code",
   "execution_count": 1,
   "metadata": {},
   "outputs": [],
   "source": [
    "import math\n",
    "import random\n",
    "import inspect\n",
    "\n",
    "# Método da bissecção\n",
    "\n",
    "def bisseccao(\n",
    "        f,\n",
    "        limits: tuple,\n",
    "        tol: float = 10**(-6)\n",
    "        ) -> dict:\n",
    "    \"\"\"\n",
    "        ## Método da bissecção\n",
    "\n",
    "        Estima a raiz de uma função por meio do método da Bissecção.\n",
    "\n",
    "        Utiliza estimativa do número de iterações como solicitado.\n",
    "\n",
    "        ---\n",
    "        ### Entrada \n",
    "        * `f`:        Função de x\n",
    "        * `limits`    Tupla contendo limite espaço de busca\n",
    "        * `tol`       Tolerância\n",
    "\n",
    "        ---\n",
    "        ### Saída\n",
    "        Dicionário contendo função, número de iterações \n",
    "        estimadas e resultado.\n",
    "\n",
    "    \"\"\"\n",
    "\n",
    "    a, b = limits\n",
    "    \n",
    "    n_iterations = math.ceil((math.log10(b - a) - math.log10(tol)) / math.log10(2) - 1)\n",
    "    n_iterations += 1 # Python utiliza base zero\n",
    "\n",
    "    for _ in range(n_iterations):\n",
    "        x = (a + b) / 2\n",
    "        y = f(x)\n",
    "\n",
    "        if y > 0: \n",
    "            a = x\n",
    "        else: \n",
    "            b = x \n",
    "        \n",
    "    y = random.uniform(a, b)\n",
    "\n",
    "    result = dict(\n",
    "        f=inspect.getsource(f),\n",
    "        n_iterations=n_iterations, \n",
    "        y=y\n",
    "    )\n",
    "\n",
    "    return result\n"
   ]
  },
  {
   "cell_type": "code",
   "execution_count": 2,
   "metadata": {},
   "outputs": [
    {
     "data": {
      "text/plain": [
       "{'f': 'f_teste = lambda x: x ** 3 - 9 * x + 3\\n',\n",
       " 'n_iterations': 10,\n",
       " 'y': 0.33705806088933954}"
      ]
     },
     "execution_count": 2,
     "metadata": {},
     "output_type": "execute_result"
    }
   ],
   "source": [
    "\n",
    "# Cálculo exemplo 4\n",
    "f_teste = lambda x: x ** 3 - 9 * x + 3\n",
    "bisseccao(f_teste, (0,1), 10**(-3))\n"
   ]
  }
 ],
 "metadata": {
  "kernelspec": {
   "display_name": "base",
   "language": "python",
   "name": "python3"
  },
  "language_info": {
   "codemirror_mode": {
    "name": "ipython",
    "version": 3
   },
   "file_extension": ".py",
   "mimetype": "text/x-python",
   "name": "python",
   "nbconvert_exporter": "python",
   "pygments_lexer": "ipython3",
   "version": "3.11.7"
  }
 },
 "nbformat": 4,
 "nbformat_minor": 2
}
