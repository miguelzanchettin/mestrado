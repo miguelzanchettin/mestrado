{
 "cells": [
  {
   "cell_type": "code",
   "execution_count": 1,
   "metadata": {},
   "outputs": [
    {
     "name": "stdout",
     "output_type": "stream",
     "text": [
      "Note: you may need to restart the kernel to use updated packages.\n"
     ]
    }
   ],
   "source": [
    "%pip install numpy -q\n",
    "import numpy as np"
   ]
  },
  {
   "cell_type": "markdown",
   "metadata": {},
   "source": [
    "# Algoritmo de Eliminação de Gauss"
   ]
  },
  {
   "cell_type": "code",
   "execution_count": 87,
   "metadata": {},
   "outputs": [],
   "source": [
    "\n",
    "X = np.matrix([[3,  2,  4],\n",
    "               [1,  1,  2],\n",
    "               [4,  3, -2]\n",
    "               ])\n",
    "\n",
    "y = np.matrix([[1], \n",
    "               [2],\n",
    "               [3]\n",
    "               ])\n"
   ]
  },
  {
   "cell_type": "code",
   "execution_count": 84,
   "metadata": {},
   "outputs": [
    {
     "data": {
      "text/plain": [
       "-7.333333333333333"
      ]
     },
     "execution_count": 84,
     "metadata": {},
     "output_type": "execute_result"
    }
   ],
   "source": [
    "-22/3\n",
    "#5/3"
   ]
  },
  {
   "cell_type": "code",
   "execution_count": 162,
   "metadata": {},
   "outputs": [
    {
     "name": "stdout",
     "output_type": "stream",
     "text": [
      "[[ 3.  2.  4.]\n",
      " [ 1.  1.  2.]\n",
      " [ 4.  3. -2.]]\n",
      " \n",
      "[[1.]\n",
      " [2.]\n",
      " [3.]]\n",
      "------------------------------\n",
      "[[ 3.          2.          4.        ]\n",
      " [ 0.          0.33333333  0.66666667]\n",
      " [ 0.          0.33333333 -7.33333333]]\n",
      " \n",
      "[[1.        ]\n",
      " [1.66666667]\n",
      " [1.66666667]]\n",
      "------------------------------\n",
      "[[ 3.          2.          4.        ]\n",
      " [ 0.          0.33333333  0.66666667]\n",
      " [ 0.          0.         -8.        ]]\n",
      " \n",
      "[[ 1.00000000e+00]\n",
      " [ 1.66666667e+00]\n",
      " [-4.44089210e-16]]\n",
      "------------------------------\n"
     ]
    }
   ],
   "source": [
    "n = X.shape[0]\n",
    "a = np.float64(X.copy())\n",
    "b = np.float64(y.copy())\n",
    "\n",
    "for iVetor in range(0, a.shape[0]):\n",
    "    print(a)\n",
    "    print(' ')\n",
    "    print(b)\n",
    "    print('-' * 30)\n",
    "    for iLinha in range(iVetor + 1, n):\n",
    "        \n",
    "        m = (a[iLinha, iVetor] / a[iVetor, iVetor])\n",
    "        a[iLinha, iVetor] = 0\n",
    "        \n",
    "        for iProximasLinhas in range(iVetor + 1, n):\n",
    "            a[iLinha, iProximasLinhas] = a[iLinha, iProximasLinhas] - (m * a[iVetor, iProximasLinhas])\n",
    "        \n",
    "        b[iLinha] = b[iLinha] - (m * b[iVetor])\n",
    "\n",
    "#print(a)\n",
    "#print(b)\n"
   ]
  },
  {
   "cell_type": "code",
   "execution_count": 161,
   "metadata": {},
   "outputs": [
    {
     "name": "stdout",
     "output_type": "stream",
     "text": [
      "[[ 1.        ]\n",
      " [ 1.66666667]\n",
      " [-3.33333333]]\n"
     ]
    }
   ],
   "source": [
    "c = b.copy()\n",
    "\n",
    "for iVetor in range(n - 1, -1, -1):\n",
    "    s = 0\n",
    "    \n",
    "    for iLinha in range(iVetor + 1, n):\n",
    "        s = s + (a[iVetor, iLinha] * (b[iLinha] / a[iLinha, iLinha]))\n",
    "    \n",
    "    c[iLinha] = (b[iLinha] - s) / a[iVetor, iVetor]\n",
    "        \n",
    "print(c)"
   ]
  },
  {
   "cell_type": "code",
   "execution_count": 166,
   "metadata": {},
   "outputs": [
    {
     "name": "stdout",
     "output_type": "stream",
     "text": [
      "[[-3.00000000e+00]\n",
      " [ 5.00000000e+00]\n",
      " [ 5.55111512e-17]]\n"
     ]
    }
   ],
   "source": [
    "n = X.shape[0]\n",
    "\n",
    "a = np.float64(X.copy())\n",
    "b = np.float64(y.copy())\n",
    "c = b.copy()\n",
    "\n",
    "for iVetor in range(0, a.shape[0]):\n",
    "    for iLinha in range(iVetor + 1, n):\n",
    "        \n",
    "        m = (a[iLinha, iVetor] / a[iVetor, iVetor])\n",
    "        a[iLinha, iVetor] = 0\n",
    "        \n",
    "        for iProximasLinhas in range(iVetor + 1, n):\n",
    "            a[iLinha, iProximasLinhas] = a[iLinha, iProximasLinhas] - (m * a[iVetor, iProximasLinhas])\n",
    "        \n",
    "        b[iLinha] = b[iLinha] - (m * b[iVetor])\n",
    "\n",
    "#for iVetor in range(n - 1, -1, -1):\n",
    "#    s = 0   \n",
    "#    for iLinha in range(iVetor + 1, n):\n",
    "#        s = s + (a[iVetor, iLinha] * (b[iLinha] / a[iLinha, iLinha]))    \n",
    "#    c[iVetor] = (b[iVetor] - s) / a[iVetor, iVetor]\n",
    "\n",
    "for iVetor in range(n - 1, -1, -1):\n",
    "    s = 0\n",
    "    \n",
    "    for iLinha in range(iVetor + 1, n):\n",
    "        s = s + a[iVetor, iLinha] * c[iLinha]\n",
    "    \n",
    "    c[iVetor] = (b[iVetor] - s) / a[iVetor, iVetor]\n",
    "\n",
    "print(c)\n",
    "\n",
    "#print(a)\n",
    "#print(b)\n"
   ]
  },
  {
   "cell_type": "code",
   "execution_count": 181,
   "metadata": {},
   "outputs": [
    {
     "data": {
      "text/plain": [
       "matrix([[-3.00000000e+00],\n",
       "        [ 5.00000000e+00],\n",
       "        [ 5.55111512e-17]])"
      ]
     },
     "execution_count": 181,
     "metadata": {},
     "output_type": "execute_result"
    }
   ],
   "source": [
    "n = X.shape[0]\n",
    "a = np.float64(X.copy())\n",
    "b = np.float64(y.copy())\n",
    "c = b.copy() \n",
    "\n",
    "for iVetor in range(0, a.shape[0]):\n",
    "    for iLinha in range(iVetor + 1, n):\n",
    "        m = (a[iLinha, iVetor] / a[iVetor, iVetor])\n",
    "        a[iLinha, iVetor] = 0\n",
    "        for iProximasLinhas in range(iVetor + 1, n):\n",
    "            a[iLinha, iProximasLinhas] -= (m * a[iVetor, iProximasLinhas])\n",
    "        b[iLinha] = b[iLinha] - (m * b[iVetor])\n",
    "\n",
    "for iVetor in range(n - 1, -1, -1):\n",
    "    s = 0\n",
    "    for iLinha in range(iVetor + 1, n):\n",
    "        s += a[iVetor, iLinha] * c[iLinha]\n",
    "    c[iVetor] = (b[iVetor] - s) / a[iVetor, iVetor]\n",
    "\n",
    "c"
   ]
  },
  {
   "cell_type": "code",
   "execution_count": 204,
   "metadata": {},
   "outputs": [],
   "source": [
    "\n",
    "class GaussElimination:\n",
    "\n",
    "    def __init__(self):\n",
    "        pass\n",
    "\n",
    "    @staticmethod\n",
    "    def _eliminate(X: np.matrix, y: np.matrix) -> tuple[np.matrix, np.matrix]:\n",
    "        n = X.shape[0]\n",
    "        a = np.float64(X.copy())\n",
    "        b = np.float64(y.copy())\n",
    "        for iVetor in range(0, a.shape[0]):\n",
    "            for iLinha in range(iVetor + 1, n):\n",
    "                m = (a[iLinha, iVetor] / a[iVetor, iVetor])\n",
    "                a[iLinha, iVetor] = 0\n",
    "                for iProximasLinhas in range(iVetor + 1, n):\n",
    "                    a[iLinha, iProximasLinhas] -= (m * a[iVetor, iProximasLinhas])\n",
    "                b[iLinha] = b[iLinha] - (m * b[iVetor])\n",
    "        return (a, b)\n",
    "    \n",
    "    @staticmethod\n",
    "    def _solve_system(a: np.matrix, b: np.matrix) -> np.matrix:\n",
    "        c = b.copy()\n",
    "        for iVetor in range(n - 1, -1, -1):\n",
    "            s = 0\n",
    "            for iLinha in range(iVetor + 1, n):\n",
    "                s += a[iVetor, iLinha] * c[iLinha]\n",
    "            c[iVetor] = (b[iVetor] - s) / a[iVetor, iVetor]\n",
    "        return c\n",
    "    \n",
    "    @staticmethod\n",
    "    def solve(X: np.matrix, y: np.matrix) -> np.matrix:\n",
    "        this = GaussElimination()\n",
    "        a, b = this._eliminate(X, y)\n",
    "        c = this._solve_system(a, b)\n",
    "        return c\n",
    "\n"
   ]
  },
  {
   "cell_type": "code",
   "execution_count": 213,
   "metadata": {},
   "outputs": [
    {
     "name": "stdout",
     "output_type": "stream",
     "text": [
      "82.1 µs ± 1.69 µs per loop (mean ± std. dev. of 7 runs, 10,000 loops each)\n"
     ]
    }
   ],
   "source": [
    "%%timeit\n",
    "GaussElimination.solve(X, y)\n"
   ]
  },
  {
   "cell_type": "code",
   "execution_count": 214,
   "metadata": {},
   "outputs": [
    {
     "name": "stdout",
     "output_type": "stream",
     "text": [
      "4.71 µs ± 85.9 ns per loop (mean ± std. dev. of 7 runs, 100,000 loops each)\n"
     ]
    }
   ],
   "source": [
    "%%timeit\n",
    "np.linalg.solve(X, y)"
   ]
  }
 ],
 "metadata": {
  "kernelspec": {
   "display_name": "base",
   "language": "python",
   "name": "python3"
  },
  "language_info": {
   "codemirror_mode": {
    "name": "ipython",
    "version": 3
   },
   "file_extension": ".py",
   "mimetype": "text/x-python",
   "name": "python",
   "nbconvert_exporter": "python",
   "pygments_lexer": "ipython3",
   "version": "3.11.7"
  }
 },
 "nbformat": 4,
 "nbformat_minor": 2
}
