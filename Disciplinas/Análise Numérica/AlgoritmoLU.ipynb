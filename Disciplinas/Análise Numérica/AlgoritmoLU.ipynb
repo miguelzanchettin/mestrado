{
 "cells": [
  {
   "cell_type": "code",
   "execution_count": 1,
   "metadata": {},
   "outputs": [
    {
     "name": "stdout",
     "output_type": "stream",
     "text": [
      "Note: you may need to restart the kernel to use updated packages.\n"
     ]
    }
   ],
   "source": [
    "%pip install numpy -q\n",
    "import numpy as np"
   ]
  },
  {
   "cell_type": "markdown",
   "metadata": {},
   "source": [
    "# Fatoração LU\n",
    "Utilizando dados do Exemplo 7."
   ]
  },
  {
   "cell_type": "code",
   "execution_count": 61,
   "metadata": {},
   "outputs": [],
   "source": [
    "\n",
    "A = np.matrix([[3, -4,  1],\n",
    "               [1,  2,  2],\n",
    "               [4,  0, -3]\n",
    "               ])\n",
    "\n",
    "B = np.matrix([[ 9], \n",
    "               [ 3],\n",
    "               [-2]\n",
    "               ])\n"
   ]
  },
  {
   "cell_type": "markdown",
   "metadata": {},
   "source": [
    "### Algoritmo"
   ]
  },
  {
   "cell_type": "code",
   "execution_count": 90,
   "metadata": {},
   "outputs": [],
   "source": [
    "\n",
    "class FatoracaoLU:\n",
    "\n",
    "    def __init__(self) -> None:\n",
    "        pass\n",
    "\n",
    "    @staticmethod\n",
    "    def _pivot_rows(A: np.matrix) -> tuple[np.ndarray, np.matrix]:\n",
    "        n = A.shape[0]\n",
    "        a = np.float64(A.copy())\n",
    "\n",
    "        # Initialize permutation vector with identity\n",
    "        p = np.arange(n)  \n",
    "        \n",
    "        for k in range(n - 1):\n",
    "\n",
    "            # Find the pivot\n",
    "            r = np.argmax(np.abs(a[k:n, k])) + k  \n",
    "            if np.abs(a[r, k]) == 0:\n",
    "                return p, A\n",
    "\n",
    "            # Swap rows in matrix and permutation vector\n",
    "            if r != k:\n",
    "                a[[k, r], :] = a[[r, k], :]\n",
    "                p[[k, r]] = p[[r, k]]\n",
    "\n",
    "            # Eliminate entries below pivot\n",
    "            #   Store the multiplier in lower triangular part\n",
    "            #   Then eliminate\n",
    "            for i in range(k + 1, n):\n",
    "                m = a[i, k] / a[k, k]\n",
    "                a[i, k] = m  \n",
    "                a[i, k + 1:n] -= m * a[k, k + 1:n]  \n",
    "\n",
    "        return p, a\n",
    "\n",
    "    @staticmethod\n",
    "    def _forward_substitution(p: np.ndarray, a: np.matrix, B: np.ndarray) -> np.ndarray:\n",
    "        n = a.shape[0]\n",
    "        y = np.zeros(n)\n",
    "        b = np.float64(B.copy())\n",
    "\n",
    "        # Apply permutation to b \n",
    "        # and perform forward substitution\n",
    "        for i in range(n):\n",
    "            y[i] = b[p[i]].item()\n",
    "            for j in range(i):\n",
    "                y[i] -= a[i, j] * y[j]\n",
    "                \n",
    "        return y\n",
    "\n",
    "    @staticmethod\n",
    "    def _backward_substitution(a: np.matrix, y: np.ndarray) -> np.ndarray:\n",
    "        n = a.shape[0]\n",
    "        x = np.zeros(n)\n",
    "\n",
    "        # Perform backward substitution\n",
    "        for i in range(n - 1, -1, -1):\n",
    "            x[i] = y[i]\n",
    "            for j in range(i + 1, n):\n",
    "                x[i] -= a[i, j] * x[j]\n",
    "            x[i] /= a[i, i]\n",
    "\n",
    "        return x\n",
    "\n",
    "    @staticmethod\n",
    "    def solve(A: np.matrix, B: np.ndarray) -> np.ndarray:\n",
    "        fat = FatoracaoLU()\n",
    "\n",
    "        p, a = fat._pivot_rows(A)\n",
    "        y = fat._forward_substitution(p, a, B)\n",
    "        x = fat._backward_substitution(a, y)\n",
    "\n",
    "        return x\n"
   ]
  },
  {
   "cell_type": "markdown",
   "metadata": {},
   "source": [
    "### Resultados"
   ]
  },
  {
   "cell_type": "code",
   "execution_count": 89,
   "metadata": {},
   "outputs": [
    {
     "data": {
      "text/plain": [
       "array([ 1., -1.,  2.])"
      ]
     },
     "execution_count": 89,
     "metadata": {},
     "output_type": "execute_result"
    }
   ],
   "source": [
    "FatoracaoLU.solve(A, B)"
   ]
  },
  {
   "cell_type": "markdown",
   "metadata": {},
   "source": [
    "### Tempo de execução"
   ]
  },
  {
   "cell_type": "code",
   "execution_count": null,
   "metadata": {},
   "outputs": [],
   "source": [
    "%%timeit\n",
    "\n",
    "FatoracaoLU.solve(A, B)"
   ]
  }
 ],
 "metadata": {
  "kernelspec": {
   "display_name": "base",
   "language": "python",
   "name": "python3"
  },
  "language_info": {
   "codemirror_mode": {
    "name": "ipython",
    "version": 3
   },
   "file_extension": ".py",
   "mimetype": "text/x-python",
   "name": "python",
   "nbconvert_exporter": "python",
   "pygments_lexer": "ipython3",
   "version": "3.11.7"
  }
 },
 "nbformat": 4,
 "nbformat_minor": 2
}
