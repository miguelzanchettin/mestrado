{
 "cells": [
  {
   "cell_type": "code",
   "execution_count": 1,
   "metadata": {},
   "outputs": [
    {
     "name": "stdout",
     "output_type": "stream",
     "text": [
      "Note: you may need to restart the kernel to use updated packages.\n"
     ]
    }
   ],
   "source": [
    "%pip install numpy -q\n",
    "import numpy as np"
   ]
  },
  {
   "cell_type": "code",
   "execution_count": 61,
   "metadata": {},
   "outputs": [],
   "source": [
    "\n",
    "A = np.matrix([[3, -4,  1],\n",
    "               [1,  2,  2],\n",
    "               [4,  0, -3]\n",
    "               ])\n",
    "\n",
    "B = np.matrix([[9], \n",
    "               [3],\n",
    "               [-2]\n",
    "               ])\n"
   ]
  },
  {
   "cell_type": "code",
   "execution_count": 21,
   "metadata": {},
   "outputs": [
    {
     "name": "stdout",
     "output_type": "stream",
     "text": [
      "[[ 3 -4  1]\n",
      " [ 1  2  2]\n",
      " [ 4  0 -3]]\n"
     ]
    }
   ],
   "source": [
    "print(X)"
   ]
  },
  {
   "cell_type": "code",
   "execution_count": 69,
   "metadata": {},
   "outputs": [
    {
     "name": "stdout",
     "output_type": "stream",
     "text": [
      "[ 0.    -2.625  0.   ]\n"
     ]
    },
    {
     "name": "stderr",
     "output_type": "stream",
     "text": [
      "/tmp/ipykernel_28807/2339217522.py:45: DeprecationWarning: Conversion of an array with ndim > 0 to a scalar is deprecated, and will error in future. Ensure you extract a single element from your array before performing this operation. (Deprecated NumPy 1.25.)\n",
      "  c[i] -= soma\n"
     ]
    }
   ],
   "source": [
    "\n",
    "n = X.shape[0]\n",
    "a = np.float64(X.copy())\n",
    "x = np.zeros(n)\n",
    "c = np.zeros(n)\n",
    "\n",
    "p = np.zeros(n)\n",
    "for i in range(n):\n",
    "    p[i] = 1\n",
    "\n",
    "for k in range(n - 1):\n",
    "    \n",
    "    pv = np.abs(a[k, k])\n",
    "    r = k\n",
    "    \n",
    "    for i in range(k + 1, n):\n",
    "        pv = np.abs(a[i, k])\n",
    "        r = i\n",
    "\n",
    "    if pv == 0: break\n",
    "\n",
    "    aux = p[k]\n",
    "    p[k] = p[r]\n",
    "    p[r] = aux\n",
    "\n",
    "    for j in range(n):\n",
    "        aux = a[k, j]\n",
    "        a[k, j] = a[r, j]\n",
    "        a[r, j] = aux\n",
    "\n",
    "    for i in range(k + 1, n):\n",
    "        m = a[i, k] / a[k, k]\n",
    "        a[i, k] = m\n",
    "        for j in range(k + 1, n):\n",
    "            a[i, j] = a[i, j] - (m * a[k, j])\n",
    "\n",
    "\n",
    "for i in range(n):\n",
    "    r = p[i]\n",
    "    #c[i] = b[r]\n",
    "    \n",
    "for i in range(n):\n",
    "    soma = 0\n",
    "    for j in range(i - 1):\n",
    "        soma += (a[i, j] * b[j])\n",
    "    c[i] -= soma\n",
    "\n",
    "for i in range(n, 0, -1):\n",
    "    soma = 0\n",
    "    for j in range(i + 1, n):\n",
    "        soma += a[i, j] * x[j]\n",
    "        x[i] = (y[i] - soma)/a[i, i]\n",
    "\n",
    "print(x)\n"
   ]
  },
  {
   "cell_type": "code",
   "execution_count": 88,
   "metadata": {},
   "outputs": [],
   "source": [
    "import numpy as np\n",
    "\n",
    "class FatoracaoLU:\n",
    "\n",
    "    def __init__(self) -> None:\n",
    "        pass\n",
    "\n",
    "    @staticmethod\n",
    "    def _pivot_rows(A: np.matrix) -> tuple[np.ndarray, np.matrix]:\n",
    "        n = A.shape[0]\n",
    "        a = np.float64(A.copy())\n",
    "\n",
    "        # Initialize permutation vector with identity\n",
    "        p = np.arange(n)  \n",
    "        \n",
    "        for k in range(n - 1):\n",
    "\n",
    "            # Find the pivot\n",
    "            r = np.argmax(np.abs(a[k:n, k])) + k  \n",
    "            if np.abs(a[r, k]) == 0:\n",
    "                return p, A\n",
    "\n",
    "            # Swap rows in matrix and permutation vector\n",
    "            if r != k:\n",
    "                a[[k, r], :] = a[[r, k], :]\n",
    "                p[[k, r]] = p[[r, k]]\n",
    "\n",
    "            # Eliminate entries below pivot\n",
    "            #   Store the multiplier in lower triangular part\n",
    "            #   Then eliminate\n",
    "            for i in range(k + 1, n):\n",
    "                m = a[i, k] / a[k, k]\n",
    "                a[i, k] = m  \n",
    "                a[i, k + 1:n] -= m * a[k, k + 1:n]  \n",
    "\n",
    "        return p, a\n",
    "\n",
    "    @staticmethod\n",
    "    def _forward_substitution(p: np.ndarray, a: np.matrix, B: np.ndarray) -> np.ndarray:\n",
    "        n = a.shape[0]\n",
    "        y = np.zeros(n)\n",
    "        b = np.float64(B.copy())\n",
    "\n",
    "        # Apply permutation to b \n",
    "        # and perform forward substitution\n",
    "        for i in range(n):\n",
    "            y[i] = b[p[i]].item()\n",
    "            for j in range(i):\n",
    "                y[i] -= a[i, j] * y[j]\n",
    "                \n",
    "        return y\n",
    "\n",
    "    @staticmethod\n",
    "    def _backward_substitution(a: np.matrix, y: np.ndarray) -> np.ndarray:\n",
    "        n = a.shape[0]\n",
    "        x = np.zeros(n)\n",
    "\n",
    "        # Perform backward substitution\n",
    "        for i in range(n - 1, -1, -1):\n",
    "            x[i] = y[i]\n",
    "            for j in range(i + 1, n):\n",
    "                x[i] -= a[i, j] * x[j]\n",
    "            x[i] /= a[i, i]\n",
    "\n",
    "        return x\n",
    "\n",
    "    @staticmethod\n",
    "    def solve(A: np.matrix, B: np.ndarray) -> np.ndarray:\n",
    "        fat = FatoracaoLU()\n",
    "\n",
    "        p, a = fat._pivot_rows(A)\n",
    "        y = fat._forward_substitution(p, a, B)\n",
    "        x = fat._backward_substitution(a, y)\n",
    "\n",
    "        return x\n"
   ]
  },
  {
   "cell_type": "code",
   "execution_count": 89,
   "metadata": {},
   "outputs": [
    {
     "data": {
      "text/plain": [
       "array([ 1., -1.,  2.])"
      ]
     },
     "execution_count": 89,
     "metadata": {},
     "output_type": "execute_result"
    }
   ],
   "source": [
    "FatoracaoLU.solve(A, B)"
   ]
  },
  {
   "cell_type": "code",
   "execution_count": 71,
   "metadata": {},
   "outputs": [
    {
     "name": "stdout",
     "output_type": "stream",
     "text": [
      "[ 1. -1.  2.]\n"
     ]
    },
    {
     "name": "stderr",
     "output_type": "stream",
     "text": [
      "/tmp/ipykernel_28807/905324207.py:30: DeprecationWarning: Conversion of an array with ndim > 0 to a scalar is deprecated, and will error in future. Ensure you extract a single element from your array before performing this operation. (Deprecated NumPy 1.25.)\n",
      "  y[i] = b[p[i]]  # Apply permutation to b\n"
     ]
    }
   ],
   "source": [
    "\n",
    "# Assuming X is the matrix and b is the right-hand side vector\n",
    "n = A.shape[0]\n",
    "a = np.float64(A.copy())\n",
    "b = np.float64(B.copy())\n",
    "x = np.zeros(n)\n",
    "y = np.zeros(n)\n",
    "p = np.arange(n)  # To track permutations\n",
    "\n",
    "# LU Decomposition with partial pivoting\n",
    "for k in range(n - 1):\n",
    "\n",
    "    # Find the pivot row\n",
    "    r = np.argmax(np.abs(a[k:n, k])) + k  # Index of max pivot in column k\n",
    "    if np.abs(a[r, k]) == 0:\n",
    "        raise ValueError(\"Matrix is singular.\")\n",
    "\n",
    "    # Swap rows in a and p\n",
    "    if r != k:\n",
    "        a[[k, r], :] = a[[r, k], :]  # Swap rows in matrix\n",
    "        p[[k, r]] = p[[r, k]]        # Swap corresponding permutation indices\n",
    "\n",
    "    # Eliminate entries below pivot\n",
    "    for i in range(k + 1, n):\n",
    "        m = a[i, k] / a[k, k]\n",
    "        a[i, k] = m  # Store the multiplier in the lower triangular part\n",
    "        a[i, k + 1:n] -= m * a[k, k + 1:n]  # Update row i with the elimination\n",
    "\n",
    "# Forward substitution (Ly = Pb)\n",
    "for i in range(n):\n",
    "    y[i] = b[p[i]]  # Apply permutation to b\n",
    "    for j in range(i):\n",
    "        y[i] -= a[i, j] * y[j]\n",
    "\n",
    "# Backward substitution (Ux = y)\n",
    "for i in range(n - 1, -1, -1):\n",
    "    x[i] = y[i]\n",
    "    for j in range(i + 1, n):\n",
    "        x[i] -= a[i, j] * x[j]\n",
    "    x[i] /= a[i, i]\n",
    "\n",
    "\n",
    "print(x)"
   ]
  },
  {
   "cell_type": "code",
   "execution_count": 57,
   "metadata": {},
   "outputs": [
    {
     "data": {
      "text/plain": [
       "4.375"
      ]
     },
     "execution_count": 57,
     "metadata": {},
     "output_type": "execute_result"
    }
   ],
   "source": [
    "35/8"
   ]
  }
 ],
 "metadata": {
  "kernelspec": {
   "display_name": "base",
   "language": "python",
   "name": "python3"
  },
  "language_info": {
   "codemirror_mode": {
    "name": "ipython",
    "version": 3
   },
   "file_extension": ".py",
   "mimetype": "text/x-python",
   "name": "python",
   "nbconvert_exporter": "python",
   "pygments_lexer": "ipython3",
   "version": "3.11.7"
  }
 },
 "nbformat": 4,
 "nbformat_minor": 2
}
