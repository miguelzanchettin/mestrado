{
 "cells": [
  {
   "cell_type": "markdown",
   "metadata": {},
   "source": [
    "### Exercise 1: Sum of the First n Positive Integers\n",
    "\n",
    "Write a program that reads a positive integer, n, from the user and then displays the sum of all of the integers from 1 to n. The sum of the first n positive integers can be computed using the formula: 𝑆𝑢𝑚= (𝑛+1)𝑛2\n"
   ]
  },
  {
   "cell_type": "code",
   "execution_count": 1,
   "metadata": {},
   "outputs": [
    {
     "name": "stdout",
     "output_type": "stream",
     "text": [
      "The sum was 55.0 for n=10\n"
     ]
    }
   ],
   "source": [
    "\n",
    "n = input('Input the n')\n",
    "n = int(n)\n",
    "\n",
    "out = ((n + 1) * n) / 2\n",
    "print(f'The sum was {out} for {n=}')"
   ]
  },
  {
   "cell_type": "markdown",
   "metadata": {},
   "source": [
    "Exercise 2: Widgets and Gizmos\n",
    "\n",
    "An online retailer sells two products: widgets and gizmos. Each widget weighs 75 grams. Each gizmo weighs 112 grams. Write a program that reads the number of widgets and the number of gizmos in an order from the user. Then your program should compute and display the total weight of the order.\n"
   ]
  },
  {
   "cell_type": "code",
   "execution_count": 2,
   "metadata": {},
   "outputs": [
    {
     "name": "stdout",
     "output_type": "stream",
     "text": [
      "This will weight 472.\n"
     ]
    }
   ],
   "source": [
    "\n",
    "def calculate_order_total_weight(order: dict[str, int]) -> float:\n",
    "    \"\"\" \n",
    "        Returns the total weight of an order.\n",
    "    \"\"\"\n",
    "    \n",
    "    total_weight: float = 0\n",
    "\n",
    "    # Predefined weights\n",
    "    weights = {\n",
    "        'Gizmo': 112,\n",
    "        'Widget': 72\n",
    "    }\n",
    "\n",
    "    for item_name, item_amt in order.items():\n",
    "        item_weight = weights.get(item_name, 0)\n",
    "        total_weight += (item_weight * item_amt)\n",
    "\n",
    "    return total_weight\n",
    "\n",
    "order = {'Gizmo': int(input('How much of Gizmos?')), \n",
    "         'Widget': int(input('How many Widgets'))}\n",
    "\n",
    "weight = calculate_order_total_weight(order)\n",
    "print(f'This will weight {weight}.')\n"
   ]
  },
  {
   "cell_type": "markdown",
   "metadata": {},
   "source": [
    "\n",
    "Exercise 3: Compound Interest\n",
    "\n",
    "(19 Lines) Pretend you have just opened a new savings account earning 4 percent interest per year. The interest you earn is paid at the end of the year and added to the balance of the savings account. Write a program that begins by reading the amount of money deposited into the account from the user. Then your program should compute and display the amount in the savings account after 1, 2, and 3 years. Display each amount so that it is rounded to 2 decimal places.\n"
   ]
  },
  {
   "cell_type": "code",
   "execution_count": 3,
   "metadata": {},
   "outputs": [
    {
     "data": {
      "text/plain": [
       "[110.5, 122.1, 134.92]"
      ]
     },
     "execution_count": 3,
     "metadata": {},
     "output_type": "execute_result"
    }
   ],
   "source": [
    "\n",
    "class Wallet:\n",
    "\n",
    "    balance: float = 0\n",
    "\n",
    "    def __init__(self) -> None:\n",
    "        self.balance = 0\n",
    "        pass\n",
    "\n",
    "    def add(self, value: float) -> None:\n",
    "        self.balance += value\n",
    "\n",
    "    def simulate_interest(self, \n",
    "                          yearly_rate: float, \n",
    "                          years_long: list):\n",
    "        \n",
    "        simulation = []\n",
    "\n",
    "        for years in years_long:\n",
    "            rate = ((1 + yearly_rate) ** years)\n",
    "            value = round(self.balance * rate, 2)\n",
    "            simulation.append(value)  \n",
    "\n",
    "        return simulation\n",
    "\n",
    "deposit = float(input('How much do you want to deposit?'))\n",
    "\n",
    "wallet = Wallet()\n",
    "wallet.add(deposit) # Add some initial value\n",
    "wallet.simulate_interest(yearly_rate=0.1050, years_long=[1, 2, 3])"
   ]
  },
  {
   "cell_type": "markdown",
   "metadata": {},
   "source": [
    "\n",
    "Exercise 4: Arithmetic\n",
    "\n",
    "Create a program that reads two integers, a and b, from the user. Your program should compute and display:\n",
    "\n",
    "* The sum of a and b\n",
    "* The difference when b is subtracted from a\n",
    "* The product of a and b\n",
    "* The quotient when a is divided by b\n",
    "* The remainder when a is divided by b\n",
    "* The result of log10 a\n",
    "* The result of ab\n"
   ]
  },
  {
   "cell_type": "code",
   "execution_count": 4,
   "metadata": {},
   "outputs": [
    {
     "name": "stdout",
     "output_type": "stream",
     "text": [
      "--------------------------------------------------\n",
      "The sum of a and b\n",
      "7\n",
      "--------------------------------------------------\n",
      "The difference when b is subtracted from a\n",
      "3\n",
      "--------------------------------------------------\n",
      "The product of a and b\n",
      "10\n",
      "--------------------------------------------------\n",
      "The quotient when a is divided by b\n",
      "0\n",
      "--------------------------------------------------\n",
      "The remainder when a is divided by b\n",
      "2\n",
      "--------------------------------------------------\n",
      "The result of log10 a\n",
      "0.3010299956639812\n",
      "--------------------------------------------------\n",
      "The result of a^b\n",
      "32\n"
     ]
    }
   ],
   "source": [
    "from math import log10\n",
    "\n",
    "def print_some_calculations(a: int, b: int) -> None:\n",
    "\n",
    "    calculations = {\n",
    "        'The sum of a and b': (a + b),\n",
    "        'The difference when b is subtracted from a': (b - a),\n",
    "        'The product of a and b': (a * b),\n",
    "        'The quotient when a is divided by b': (a // b),\n",
    "        'The remainder when a is divided by b': (a % b),\n",
    "        'The result of log10 a': (log10(a)),\n",
    "        'The result of a^b': (a ** b) \n",
    "    }\n",
    "\n",
    "    for question, answer in calculations.items():\n",
    "        print('-'*50)\n",
    "        print(question)\n",
    "        print(answer)\n",
    "    \n",
    "a = int(input('What do you want as a?'))\n",
    "b = int(input('What do you want as b?'))\n",
    "\n",
    "print_some_calculations(a, b)"
   ]
  },
  {
   "cell_type": "markdown",
   "metadata": {},
   "source": [
    "\n",
    "Exercise 5: Temperature Conversion Table\n",
    "\n",
    "Write a program displaying a temperature conversion table for degrees Celsius and Fahrenheit. The table should include rows for all temperatures between 0 and 100 degrees Celsius that are multiples of 10 degrees Celsius. Include appropriate headings on your columns. The formula for converting between degrees Celsius and degrees Fahrenheit can be found on the internet.\n"
   ]
  },
  {
   "cell_type": "code",
   "execution_count": 5,
   "metadata": {},
   "outputs": [
    {
     "data": {
      "text/plain": [
       "{0: 32.0,\n",
       " 10: 50.0,\n",
       " 20: 68.0,\n",
       " 30: 86.0,\n",
       " 40: 104.0,\n",
       " 50: 122.0,\n",
       " 60: 140.0,\n",
       " 70: 158.0,\n",
       " 80: 176.0,\n",
       " 90: 194.0,\n",
       " 100: 212.0}"
      ]
     },
     "execution_count": 5,
     "metadata": {},
     "output_type": "execute_result"
    }
   ],
   "source": [
    "\n",
    "def convert_to_farenheit(celsius: float) -> float:\n",
    "    return (((9 / 5) * celsius) + 32)\n",
    "\n",
    "def get_desired_table() -> dict[int, float]:\n",
    "\n",
    "    celsius = [_ for _ in range(0, 101) if _ % 10 == 0]\n",
    "    farenheit = [convert_to_farenheit(_) for _ in celsius]\n",
    "\n",
    "    table = dict(zip(celsius, farenheit))\n",
    "\n",
    "    return table\n",
    "\n",
    "get_desired_table()"
   ]
  },
  {
   "cell_type": "markdown",
   "metadata": {},
   "source": [
    "\n",
    "Exercise 6: Caesar Cipher - Challenge\n",
    "\n",
    "One of the first known examples of encryption was used by Julius Caesar. Caesar needed to provide written instructions to his generals, but he didn’t want his enemies to learn his plans if the message slipped into their hands. As a result, he developed what later became known as the Caesar Cipher.\n",
    "\n",
    "The idea behind this cipher is simple (and as a result, it provides no protection against modern code-breaking techniques). Each letter in the original message is shifted by 3 places. As a result, A becomes D, B becomes E, C becomes F, D becomes G, etc. The last three letters in the alphabet are wrapped around the beginning: X becomes A, Y becomes B, and Z becomes C. Non-letter characters are not modified by the cipher.\n",
    "\n",
    "Write a program that implements a Caesar cipher. Allow the user to supply the message and the shift amount and then display the shifted message. Ensure that your program encodes both uppercase and lowercase letters. Your program should also support negative shift values to be used both to encode and decode messages."
   ]
  },
  {
   "cell_type": "code",
   "execution_count": 6,
   "metadata": {},
   "outputs": [
    {
     "name": "stdout",
     "output_type": "stream",
     "text": [
      "\n",
      "      Message was: \"Python can be 10000 to manipulate things! :-)\"\n",
      "      \n",
      "      #----\n",
      "      Jumping 3 chars\n",
      "      Encrypted: \"Sbwkrq fdq eh 10000 wr pdqlsxodwh wklqjv! :-)\"\n",
      "      Decrypted: \"Python can be 10000 to manipulate things! :-)\"\n",
      "      #----\n",
      "\n",
      "      #--- \n",
      "      Jumping 10 chars instead of just 3\n",
      "      Encrypted: \"Zidryx mkx lo 10000 dy wkxszevkdo drsxqc! :-)\"\n",
      "      Decrypted: \"Python can be 10000 to manipulate things! :-)\"\n",
      "      #--\n",
      "      \n",
      "      \n"
     ]
    }
   ],
   "source": [
    "\n",
    "class caesarCipher:\n",
    "\n",
    "    @staticmethod\n",
    "    def _bit_change(char: str, \n",
    "                    inverse: bool = False, \n",
    "                    bitchange: int = 3) -> str:\n",
    "        \n",
    "        # Se nao for caracter\n",
    "        if not char.isalpha(): \n",
    "            return char\n",
    "\n",
    "        # Correcao para up e lowcase\n",
    "        a_code = 96\n",
    "        if char == char.upper(): a_code = 64\n",
    "\n",
    "        # Funcoes transformadoras\n",
    "        get_char_num = lambda char: ord(char) - a_code\n",
    "        set_num_as_char = lambda num: chr(num + a_code)\n",
    "        \n",
    "        # Criptografia\n",
    "        if inverse: bitchange = bitchange * (-1)\n",
    "\n",
    "        char_num = get_char_num(char)\n",
    "        char_num += bitchange\n",
    "\n",
    "        if char_num > 26:\n",
    "            char_num -= 26\n",
    "        if char_num < 1:\n",
    "            char_num += 26\n",
    "\n",
    "        # Volta a caracter\n",
    "        transformed_char = set_num_as_char(char_num)\n",
    "\n",
    "        return transformed_char\n",
    "\n",
    "    @staticmethod\n",
    "    def encode(text: str, bitchange: int = 3) -> str:\n",
    "        encoded_str = ''\n",
    "\n",
    "        for char in text:\n",
    "            encoded_char = caesarCipher._bit_change(char, \n",
    "                                                    inverse = False, \n",
    "                                                    bitchange=bitchange)\n",
    "            encoded_str = encoded_str + encoded_char\n",
    "\n",
    "        return encoded_str\n",
    "    \n",
    "\n",
    "    @staticmethod\n",
    "    def decode(text: str, bitchange: int = 3) -> str:\n",
    "        decoded_str = ''\n",
    "\n",
    "        for char in text:\n",
    "            decoded_char = caesarCipher._bit_change(char, \n",
    "                                                    inverse = True, \n",
    "                                                    bitchange=bitchange)\n",
    "            decoded_str = decoded_str + decoded_char\n",
    "\n",
    "        return decoded_str\n",
    "    \n",
    "def test_caesarCipher():\n",
    "\n",
    "    enc = caesarCipher\n",
    "    \n",
    "    assert enc._bit_change('A') == 'D'\n",
    "    assert enc._bit_change('D', inverse = True) == 'A'\n",
    "    \n",
    "    assert enc._bit_change('z') == 'c'\n",
    "    assert enc._bit_change('c', inverse = True) == 'z'\n",
    "    \n",
    "    assert enc._bit_change(enc._bit_change('A'),  inverse=True) == 'A'\n",
    "    \n",
    "    assert enc.encode('Miguel! :D 10/10') == 'Pljxho! :G 10/10'\n",
    "    assert enc.decode('Pljxho! :G 10/10') == 'Miguel! :D 10/10'\n",
    "\n",
    "\n",
    "test_caesarCipher()\n",
    "\n",
    "prompt = input('What do you want to encrypt?')\n",
    "print(f'''\n",
    "      Message was: \"{prompt}\"\n",
    "      \n",
    "      #----\n",
    "      Jumping 3 chars\n",
    "      Encrypted: \"{caesarCipher.encode(prompt)}\"\n",
    "      Decrypted: \"{caesarCipher.decode(caesarCipher.encode(prompt))}\"\n",
    "      #----\n",
    "\n",
    "      #--- \n",
    "      Jumping 10 chars instead of just 3\n",
    "      Encrypted: \"{caesarCipher.encode(prompt, bitchange=10)}\"\n",
    "      Decrypted: \"{caesarCipher.decode(caesarCipher.encode(prompt, bitchange=10), bitchange=10)}\"\n",
    "      #--\n",
    "      \n",
    "      ''')\n"
   ]
  }
 ],
 "metadata": {
  "kernelspec": {
   "display_name": "mestrado",
   "language": "python",
   "name": "python3"
  },
  "language_info": {
   "codemirror_mode": {
    "name": "ipython",
    "version": 3
   },
   "file_extension": ".py",
   "mimetype": "text/x-python",
   "name": "python",
   "nbconvert_exporter": "python",
   "pygments_lexer": "ipython3",
   "version": "3.12.2"
  }
 },
 "nbformat": 4,
 "nbformat_minor": 2
}
